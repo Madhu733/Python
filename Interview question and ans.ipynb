{
 "cells": [
  {
   "cell_type": "code",
   "execution_count": 2,
   "id": "fe715897",
   "metadata": {},
   "outputs": [
    {
     "name": "stdout",
     "output_type": "stream",
     "text": [
      "Enter any integer value :8536\n",
      "Reverse of the given integer value is : 6358\n"
     ]
    }
   ],
   "source": [
    "#1. write a code to reverse the Given Integer number:\n",
    "n=int(input(\"Enter any integer value :\"))\n",
    "rev=0\n",
    "while n>0:\n",
    "    b=n%10\n",
    "    rev=rev*10+b\n",
    "    n=n//10\n",
    "print(\"Reverse of the given integer value is :\", rev )"
   ]
  },
  {
   "cell_type": "code",
   "execution_count": 1,
   "id": "d54ddce1",
   "metadata": {},
   "outputs": [
    {
     "name": "stdout",
     "output_type": "stream",
     "text": [
      "Enter any Integer Value:789456123\n",
      "The reverse of the entered integer is : 321654987\n"
     ]
    }
   ],
   "source": [
    "## write a code to reverse the Given Integer number: By using for loop\n",
    "n=int(input(\"Enter any Integer Value:\"))\n",
    "l=len(str(n))\n",
    "rev=0\n",
    "for i in range(l):\n",
    "    Reminder=n%10\n",
    "    rev=rev*10+Reminder\n",
    "    n=n//10\n",
    "print(\"The reverse of the entered integer is :\",rev)"
   ]
  },
  {
   "cell_type": "code",
   "execution_count": 11,
   "id": "828eb296",
   "metadata": {},
   "outputs": [
    {
     "name": "stdout",
     "output_type": "stream",
     "text": [
      "enter an integer:7886\n",
      "The reverse integer of given no is: 6887\n"
     ]
    }
   ],
   "source": [
    "n=int(input(\"enter an integer:\"))\n",
    "b=list(str(n))\n",
    "rev=\"\".join(b[::-1])\n",
    "print(\"The reverse integer of given no is:\",rev)\n"
   ]
  },
  {
   "cell_type": "code",
   "execution_count": 10,
   "id": "e3a29cc7",
   "metadata": {},
   "outputs": [
    {
     "name": "stdout",
     "output_type": "stream",
     "text": [
      "enter any number:1456\n",
      "The reverse of the entered number :  6541\n"
     ]
    }
   ],
   "source": [
    "n=int(input(\"enter any number:\"))\n",
    "sum=0\n",
    "rev=0\n",
    "while n>0:\n",
    "    b=n%10\n",
    "    rev=rev*10+b\n",
    "    n=n//10\n",
    "print(\"The reverse of the entered number : \",rev)"
   ]
  },
  {
   "cell_type": "code",
   "execution_count": 26,
   "id": "a814eefa",
   "metadata": {},
   "outputs": [
    {
     "name": "stdout",
     "output_type": "stream",
     "text": [
      "enter an integer:478\n",
      "874\n"
     ]
    }
   ],
   "source": [
    "n=int(input(\"enter an integer:\"))\n",
    "b=list(str(n))\n",
    "c=\"\".join(b[::-1])\n",
    "print(c)\n"
   ]
  },
  {
   "cell_type": "markdown",
   "id": "77d8a28b",
   "metadata": {},
   "source": [
    "2.Write a program in Python to check whether an integer is Armstrong number or not."
   ]
  },
  {
   "cell_type": "code",
   "execution_count": 2,
   "id": "691301a0",
   "metadata": {},
   "outputs": [
    {
     "name": "stdout",
     "output_type": "stream",
     "text": [
      "enter any number:153\n",
      "Given no is an armstrong : 153\n"
     ]
    }
   ],
   "source": [
    "n=int(input(\"enter any number:\"))\n",
    "sum=0\n",
    "arm=n\n",
    "while n>0:\n",
    "    b=n%10\n",
    "    sum=sum+b**3\n",
    "    n=n//10\n",
    "if sum==arm:\n",
    "    print(\"Given no is an armstrong :\", arm)\n",
    "else:\n",
    "    print(\"Given no is not an armstrong :\",arm)\n"
   ]
  },
  {
   "cell_type": "markdown",
   "id": "0029ca2a",
   "metadata": {},
   "source": [
    "3.Write a program in Python to check given number is prime or not."
   ]
  },
  {
   "cell_type": "code",
   "execution_count": 20,
   "id": "995349b9",
   "metadata": {},
   "outputs": [
    {
     "name": "stdout",
     "output_type": "stream",
     "text": [
      "33\n",
      "Given No: 33 is prime\n"
     ]
    }
   ],
   "source": [
    "n=int(input())\n",
    "if n>=2 and n%2==1 and n%5!=0:\n",
    "    print(\"Given No:\",n,\"is prime\")\n",
    "else:\n",
    "    print(\"Given no.is not a prim\")\n",
    "    "
   ]
  },
  {
   "cell_type": "code",
   "execution_count": 22,
   "id": "2f94c059",
   "metadata": {},
   "outputs": [
    {
     "name": "stdout",
     "output_type": "stream",
     "text": [
      "Enter a number: 57\n",
      "Given number 57 is not prime.\n"
     ]
    }
   ],
   "source": [
    "n = int(input(\"Enter a number: \"))\n",
    "\n",
    "if n >= 2:\n",
    "    is_prime = True\n",
    "    for i in range(2, int(n ** 0.5) + 1):\n",
    "        if n % i == 0:\n",
    "            is_prime = False\n",
    "            break\n",
    "\n",
    "    if is_prime:\n",
    "        print(\"Given number\", n, \"is prime.\")\n",
    "    else:\n",
    "        print(\"Given number\", n, \"is not prime.\")\n",
    "else:\n",
    "    print(\"Given number is not prime.\")\n"
   ]
  },
  {
   "cell_type": "code",
   "execution_count": null,
   "id": "bb6d024f",
   "metadata": {},
   "outputs": [],
   "source": [
    "4.Write a program in Python to print the Fibonacci series using iterative method.\n"
   ]
  },
  {
   "cell_type": "code",
   "execution_count": 23,
   "id": "56de337e",
   "metadata": {},
   "outputs": [],
   "source": [
    "def f(x):\n",
    "    if x<=1:\n",
    "        return x\n",
    "    else:\n",
    "        return f(x-2)+f(x-1)\n",
    "    "
   ]
  },
  {
   "cell_type": "code",
   "execution_count": 24,
   "id": "c28ceb7b",
   "metadata": {},
   "outputs": [
    {
     "data": {
      "text/plain": [
       "5"
      ]
     },
     "execution_count": 24,
     "metadata": {},
     "output_type": "execute_result"
    }
   ],
   "source": [
    "f(5)"
   ]
  },
  {
   "cell_type": "markdown",
   "id": "7e297b77",
   "metadata": {},
   "source": [
    "6.Write a program in Python to check whether a number is palindrome or not using iterative method."
   ]
  },
  {
   "cell_type": "code",
   "execution_count": 37,
   "id": "a4ef0a8a",
   "metadata": {},
   "outputs": [
    {
     "name": "stdout",
     "output_type": "stream",
     "text": [
      "6556\n",
      "Given no is: 6556 Palindrome\n"
     ]
    }
   ],
   "source": [
    "n=input()\n",
    "if n==n[::-1]:\n",
    "    print(\"Given no is:\",n, \"Palindrome\")\n",
    "else:\n",
    "    print(\"Given no is:\", n, \"not a palindrome\")\n",
    "    "
   ]
  },
  {
   "cell_type": "code",
   "execution_count": 44,
   "id": "676d8ae1",
   "metadata": {},
   "outputs": [
    {
     "name": "stdout",
     "output_type": "stream",
     "text": [
      "tattarrattat\n",
      "Given no is: tattarrattat Palindrome\n"
     ]
    }
   ],
   "source": [
    "n=input()\n",
    "temp=n\n",
    "while True:\n",
    "    if n==n[::-1]:\n",
    "        print(\"Given no is:\",n, \"Palindrome\")\n",
    "        break\n",
    "else:\n",
    "    print(\"Given no is:\", n, \"not a palindrome\")"
   ]
  },
  {
   "cell_type": "markdown",
   "id": "0f5359d6",
   "metadata": {},
   "source": [
    "7.Write a program in Python to check whether a number is palindrome or not using recursive method."
   ]
  },
  {
   "cell_type": "code",
   "execution_count": 45,
   "id": "f791bcc0",
   "metadata": {},
   "outputs": [
    {
     "name": "stdout",
     "output_type": "stream",
     "text": [
      "Enter a number: 655\n",
      "655 is not a palindrome.\n"
     ]
    }
   ],
   "source": [
    "def is_palindrome_recursive(num):\n",
    "    if num < 0:\n",
    "        num = abs(num)  # Handle negative numbers\n",
    "\n",
    "    # Base cases\n",
    "    if num // 10 == 0:\n",
    "        return True\n",
    "    elif num % 10 != num // (10 ** (len(str(num)) - 1)):\n",
    "        return False\n",
    "\n",
    "    # Recursive case\n",
    "    new_num = (num % (10 ** (len(str(num)) - 1))) // 10\n",
    "    return is_palindrome_recursive(new_num)\n",
    "\n",
    "# Example usage\n",
    "number = int(input(\"Enter a number: \"))\n",
    "\n",
    "if is_palindrome_recursive(number):\n",
    "    print(f\"{number} is a palindrome.\")\n",
    "else:\n",
    "    print(f\"{number} is not a palindrome.\")\n"
   ]
  },
  {
   "cell_type": "markdown",
   "id": "27d1ada9",
   "metadata": {},
   "source": [
    "8.Write a program in Python to find greatest among three integers."
   ]
  },
  {
   "cell_type": "code",
   "execution_count": 47,
   "id": "7037cc30",
   "metadata": {},
   "outputs": [],
   "source": [
    "def greatest_no(a,b,c):\n",
    "    if a>b and a>c:\n",
    "        return(a,\" is the Greatest no\")\n",
    "    elif b>a and b>c:\n",
    "        return(b,\"is the greatest no\")\n",
    "    else:\n",
    "        return(c,\"is the greatest no\")"
   ]
  },
  {
   "cell_type": "code",
   "execution_count": 48,
   "id": "2bad1138",
   "metadata": {},
   "outputs": [
    {
     "data": {
      "text/plain": [
       "(6, 'is the greatest no')"
      ]
     },
     "execution_count": 48,
     "metadata": {},
     "output_type": "execute_result"
    }
   ],
   "source": [
    "greatest_no(3,5,6)"
   ]
  },
  {
   "cell_type": "markdown",
   "id": "b395343f",
   "metadata": {},
   "source": [
    "9.Write a program in Python to check if a number is binary?"
   ]
  },
  {
   "cell_type": "code",
   "execution_count": 53,
   "id": "e191e09f",
   "metadata": {},
   "outputs": [
    {
     "name": "stdout",
     "output_type": "stream",
     "text": [
      "Enter a number: 100\n",
      "100 is a binary number.\n"
     ]
    }
   ],
   "source": [
    "number = input(\"Enter a number: \")\n",
    "is_binary = True\n",
    "for digit in number:\n",
    "    if digit != '0' and digit != '1':\n",
    "        is_binary = False\n",
    "        break\n",
    "if is_binary:\n",
    "    print(f\"{number} is a binary number.\")\n",
    "else:\n",
    "    print(f\"{number} is not a binary number.\")\n"
   ]
  },
  {
   "cell_type": "code",
   "execution_count": 59,
   "id": "74d4ebbb",
   "metadata": {},
   "outputs": [
    {
     "name": "stdout",
     "output_type": "stream",
     "text": [
      "Enter a number: 6556\n",
      "6556 is not a binary number.\n"
     ]
    }
   ],
   "source": [
    "def is_binary(number):\n",
    "    is_binary = True\n",
    "    for digit in number:\n",
    "        if digit != '0' and digit != '1':\n",
    "            is_binary = False\n",
    "            break\n",
    "    return is_binary\n",
    "\n",
    "number = input(\"Enter a number: \")\n",
    "\n",
    "if is_binary(number):\n",
    "    print(f\"{number} is a binary number.\")\n",
    "else:\n",
    "    print(f\"{number} is not a binary number.\")\n"
   ]
  },
  {
   "cell_type": "markdown",
   "id": "737c64e3",
   "metadata": {},
   "source": [
    "10.Write a program in Python to find sum of digits of a number using recursion?\n"
   ]
  },
  {
   "cell_type": "code",
   "execution_count": null,
   "id": "eec7b068",
   "metadata": {},
   "outputs": [],
   "source": []
  },
  {
   "cell_type": "markdown",
   "id": "a4f75aef",
   "metadata": {},
   "source": [
    "11.Write a program in Python to swap two numbers without using third variable?"
   ]
  },
  {
   "cell_type": "code",
   "execution_count": 61,
   "id": "70e33145",
   "metadata": {},
   "outputs": [
    {
     "name": "stdout",
     "output_type": "stream",
     "text": [
      "please give first number a: 250\n",
      "please give second number b: 390\n",
      "After swapping\n",
      "value of a is :  390\n",
      "value of b is :  250\n"
     ]
    }
   ],
   "source": [
    "a = int(input(\"please give first number a: \"))\n",
    "b = int(input(\"please give second number b: \"))\n",
    "a=a-b\n",
    "b=a+b\n",
    "a=b-a\n",
    "print(\"After swapping\")\n",
    "print(\"value of a is : \", a);\n",
    "print(\"value of b is : \", b); "
   ]
  },
  {
   "cell_type": "code",
   "execution_count": 64,
   "id": "778c78ae",
   "metadata": {},
   "outputs": [
    {
     "data": {
      "text/plain": [
       "(3, 2)"
      ]
     },
     "execution_count": 64,
     "metadata": {},
     "output_type": "execute_result"
    }
   ],
   "source": [
    "def Swap(a,b):                                         #a = a + b\n",
    "    a,b=b,a                                            #b = a - b\n",
    "    return a,b                                         #a = a - b\n",
    "Swap(2,3)"
   ]
  },
  {
   "cell_type": "markdown",
   "id": "a362fd9c",
   "metadata": {},
   "source": [
    "12.Write a program in Python to swap two numbers using third variable?"
   ]
  },
  {
   "cell_type": "code",
   "execution_count": 63,
   "id": "7f4c2519",
   "metadata": {},
   "outputs": [
    {
     "name": "stdout",
     "output_type": "stream",
     "text": [
      "please give first number a: 47\n",
      "please give second number b: 85\n",
      "After swapping\n",
      "value of a is :  85\n",
      "value of b is :  47\n"
     ]
    }
   ],
   "source": [
    "a = int(input(\"please give first number a: \"))\n",
    "b = int(input(\"please give second number b: \"))\n",
    "c=a\n",
    "a=b\n",
    "b=c\n",
    "print(\"After swapping\")\n",
    "print(\"value of a is : \", a)\n",
    "print(\"value of b is : \", b)"
   ]
  },
  {
   "cell_type": "markdown",
   "id": "a677505d",
   "metadata": {},
   "source": [
    "13.Write a program in Python to find prime factors of a given integer.\n"
   ]
  },
  {
   "cell_type": "code",
   "execution_count": 66,
   "id": "5b35d8ac",
   "metadata": {},
   "outputs": [
    {
     "name": "stdout",
     "output_type": "stream",
     "text": [
      "Please enter a number: 22\n",
      "Prime factors of 22 are: [2, 11]\n"
     ]
    }
   ],
   "source": [
    "def prime_factors(n):\n",
    "    i = 2\n",
    "    factors = []\n",
    "    while i * i <= n:\n",
    "        if n % i:\n",
    "            i += 1\n",
    "        else:\n",
    "            n //= i\n",
    "            factors.append(i)\n",
    "    if n > 1:\n",
    "        factors.append(n)\n",
    "    return factors\n",
    "\n",
    "num = int(input(\"Please enter a number: \"))\n",
    "print(\"Prime factors of\", num, \"are:\", prime_factors(num))"
   ]
  },
  {
   "cell_type": "markdown",
   "id": "e9b8ab50",
   "metadata": {},
   "source": [
    "14.Write a program in Python to add two integer without using arithmetic operator?\n"
   ]
  },
  {
   "cell_type": "code",
   "execution_count": 67,
   "id": "15424eb7",
   "metadata": {},
   "outputs": [],
   "source": [
    "def add_without_operator(a, b):\n",
    "    while b != 0:\n",
    "        carry = a & b\n",
    "        a = a ^ b\n",
    "        b = carry << 1\n",
    "    return a\n"
   ]
  },
  {
   "cell_type": "code",
   "execution_count": 68,
   "id": "0ef333ae",
   "metadata": {},
   "outputs": [
    {
     "data": {
      "text/plain": [
       "8"
      ]
     },
     "execution_count": 68,
     "metadata": {},
     "output_type": "execute_result"
    }
   ],
   "source": [
    "add_without_operator(5,3)"
   ]
  },
  {
   "cell_type": "markdown",
   "id": "a1665ed5",
   "metadata": {},
   "source": [
    "15.write a program in Python to find given number is perfect or not?"
   ]
  },
  {
   "cell_type": "code",
   "execution_count": 87,
   "id": "4e0cae7e",
   "metadata": {},
   "outputs": [
    {
     "name": "stdout",
     "output_type": "stream",
     "text": [
      "Enter any Number: 121\n",
      "Yes.. 121 is perfect number\n"
     ]
    }
   ],
   "source": [
    "a=int(input(\"Enter any Number: \"))\n",
    "b=int(a**0.5)\n",
    "if b**2==a:\n",
    "    print(\"Yes..\",a,\"is perfect number\")\n",
    "else:\n",
    "    print(\"Noo..\",a,\"is Not a perfet number\")\n",
    "    "
   ]
  },
  {
   "cell_type": "code",
   "execution_count": 88,
   "id": "95eeb04a",
   "metadata": {},
   "outputs": [
    {
     "name": "stdout",
     "output_type": "stream",
     "text": [
      "please give a number: 85\n",
      "given input is not a perfect number\n"
     ]
    }
   ],
   "source": [
    "num = int(input(\"please give a number: \"))\n",
    "sum=0\n",
    "for i in range(1,(num//2)+1):\n",
    "    remainder = num % i\n",
    "    if remainder == 0:\n",
    "        sum = sum + i\n",
    "if sum == num:\n",
    "    print(\"given input is perfect number\")\n",
    "else:\n",
    "    print(\"given input is not a perfect number\") "
   ]
  },
  {
   "cell_type": "markdown",
   "id": "fa0ffd66",
   "metadata": {},
   "source": [
    "16.Python Program to find the Average of numbers with explanations.\n"
   ]
  },
  {
   "cell_type": "code",
   "execution_count": 54,
   "id": "90cc8e6d",
   "metadata": {},
   "outputs": [
    {
     "name": "stdout",
     "output_type": "stream",
     "text": [
      "Give the length of the list: 5\n",
      "give the element: 13\n",
      "give the element: 14\n",
      "give the element: 15\n",
      "give the element: 17\n",
      "give the element: 11\n",
      "Average of elements is 14.0\n"
     ]
    }
   ],
   "source": [
    "n=int(input(\"Give the length of the list: \"))\n",
    "l=[]\n",
    "for x in range(0,n):\n",
    "    a=int(input(\"give the element: \"))\n",
    "    l.append(a)\n",
    "print(\"Average of elements is {}\".format(sum(l)/n))"
   ]
  },
  {
   "cell_type": "markdown",
   "id": "bc3df6f5",
   "metadata": {},
   "source": [
    "17.Python Program to calculate factorial using iterative method."
   ]
  },
  {
   "cell_type": "code",
   "execution_count": 5,
   "id": "02c58b7f",
   "metadata": {},
   "outputs": [
    {
     "name": "stdout",
     "output_type": "stream",
     "text": [
      "5\n",
      "120\n"
     ]
    }
   ],
   "source": [
    "n=int(input())\n",
    "a=1\n",
    "while n>0:\n",
    "    a*=n\n",
    "    n-=1\n",
    "print(a)"
   ]
  },
  {
   "cell_type": "markdown",
   "id": "f9405dcb",
   "metadata": {},
   "source": [
    "18.Python Program to calculate factorial using recursion."
   ]
  },
  {
   "cell_type": "code",
   "execution_count": 6,
   "id": "09d31413",
   "metadata": {},
   "outputs": [],
   "source": [
    "def fact(a):\n",
    "    if a<=1:\n",
    "        return(a)\n",
    "    else:\n",
    "        fact(a*fact(a-1))"
   ]
  },
  {
   "cell_type": "code",
   "execution_count": null,
   "id": "b8fcfdef",
   "metadata": {},
   "outputs": [],
   "source": [
    " fact(5)"
   ]
  },
  {
   "cell_type": "markdown",
   "id": "47fcb235",
   "metadata": {},
   "source": [
    "19.Python Program to check a given number is even or odd.\n"
   ]
  },
  {
   "cell_type": "code",
   "execution_count": 2,
   "id": "bb7f5c30",
   "metadata": {},
   "outputs": [
    {
     "name": "stdout",
     "output_type": "stream",
     "text": [
      "10\n",
      "Given number is Even\n"
     ]
    }
   ],
   "source": [
    "n=int(input())\n",
    "if n%2==0:\n",
    "    print(\"Given number is Even\")\n",
    "else:\n",
    "    print(\"Given number is odd\")"
   ]
  },
  {
   "cell_type": "markdown",
   "id": "af4c7100",
   "metadata": {},
   "source": [
    "20.Python program to print first n Prime Number with explanation."
   ]
  },
  {
   "cell_type": "markdown",
   "id": "1ae3edad",
   "metadata": {},
   "source": [
    "21.Python Program to print Prime Number in a given range"
   ]
  },
  {
   "cell_type": "code",
   "execution_count": 4,
   "id": "8ffb6ca7",
   "metadata": {},
   "outputs": [
    {
     "name": "stdout",
     "output_type": "stream",
     "text": [
      "Please enter starting number: 2\n",
      "Please enter end number: 100\n",
      "2 3 5 7 11 13 17 19 23 29 31 37 41 43 47 53 59 61 67 71 73 79 83 89 97 "
     ]
    }
   ],
   "source": [
    "start = int(input(\"Please enter starting number: \"))\n",
    "end = int(input(\"Please enter end number: \"))\n",
    "for num in range(start, end+1):\n",
    "    if num > 1:\n",
    "        for i in range(2, int((num)**0.5)+1):\n",
    "            if num % i == 0:\n",
    "                break\n",
    "        else:\n",
    "            print(num, end=\" \")"
   ]
  },
  {
   "cell_type": "markdown",
   "id": "87590fe9",
   "metadata": {},
   "source": [
    "23.Python program to calculate the power using the POW method."
   ]
  },
  {
   "cell_type": "code",
   "execution_count": 5,
   "id": "b028a71e",
   "metadata": {},
   "outputs": [
    {
     "name": "stdout",
     "output_type": "stream",
     "text": [
      "Enter the value for base :2\n",
      "Enter the value for exponent :3\n",
      "2 to power  3 = 8\n"
     ]
    }
   ],
   "source": [
    "base = int(input(\"Enter the value for base :\"))\n",
    "exponent = int(input(\"Enter the value for exponent :\"))\n",
    "print(base,\"to power \",exponent,\"=\",end = ' ')\n",
    "print(pow(base,exponent))"
   ]
  },
  {
   "cell_type": "code",
   "execution_count": 10,
   "id": "eb1c7f5c",
   "metadata": {},
   "outputs": [],
   "source": [
    "def pow(base,exponent):\n",
    "    e=base**exponent\n",
    "    return(e)\n",
    "    "
   ]
  },
  {
   "cell_type": "code",
   "execution_count": 11,
   "id": "e27a537e",
   "metadata": {},
   "outputs": [
    {
     "data": {
      "text/plain": [
       "25"
      ]
     },
     "execution_count": 11,
     "metadata": {},
     "output_type": "execute_result"
    }
   ],
   "source": [
    "pow(5,2)"
   ]
  },
  {
   "cell_type": "markdown",
   "id": "a3abd09d",
   "metadata": {},
   "source": [
    "24.Python Program to calculate the power without using POW function.(using for loop)."
   ]
  },
  {
   "cell_type": "code",
   "execution_count": 52,
   "id": "2bc83ffe",
   "metadata": {},
   "outputs": [
    {
     "name": "stdout",
     "output_type": "stream",
     "text": [
      "Give the base number: 2\n",
      "Give the power number: 5\n",
      "2 power 5 is 10.\n"
     ]
    }
   ],
   "source": [
    "b=int(input(\"Give the base number: \"))\n",
    "p=int(input(\"Give the power number: \"))\n",
    "for x in range(1,p+1):\n",
    "    a=b*x\n",
    "print(\"{} power {} is {}.\".format(b,p,a))"
   ]
  },
  {
   "cell_type": "markdown",
   "id": "4c2f3691",
   "metadata": {},
   "source": [
    "25.Python Program to calculate the power without using POW function.(using while loop)."
   ]
  },
  {
   "cell_type": "code",
   "execution_count": 53,
   "id": "6fbbee25",
   "metadata": {},
   "outputs": [
    {
     "name": "stdout",
     "output_type": "stream",
     "text": [
      "Give the base number: 5\n",
      "Give the power number: 2\n",
      "5 power 2 is 25.\n"
     ]
    }
   ],
   "source": [
    "b=int(input(\"Give the base number: \"))\n",
    "p=int(input(\"Give the power number: \"))\n",
    "i=p\n",
    "while i>=1:\n",
    "    a=b*x\n",
    "    i-=1\n",
    "print(\"{} power {} is {}.\".format(b,p,a))"
   ]
  },
  {
   "cell_type": "markdown",
   "id": "f364250b",
   "metadata": {},
   "source": [
    "26.Python Program to calculate the square of a given number.\n"
   ]
  },
  {
   "cell_type": "code",
   "execution_count": 13,
   "id": "0d52d784",
   "metadata": {},
   "outputs": [
    {
     "name": "stdout",
     "output_type": "stream",
     "text": [
      "100\n",
      "Sqrt of given no is : 10000\n"
     ]
    }
   ],
   "source": [
    "n=int(input())\n",
    "print(\"Square of given no is :\",n**2)"
   ]
  },
  {
   "cell_type": "markdown",
   "id": "d84e6fa7",
   "metadata": {},
   "source": [
    "27.Python Program to calculate the cube of a given number.\n"
   ]
  },
  {
   "cell_type": "code",
   "execution_count": 15,
   "id": "173de2f9",
   "metadata": {},
   "outputs": [
    {
     "name": "stdout",
     "output_type": "stream",
     "text": [
      "10\n",
      "cube of given no is : 1000\n"
     ]
    }
   ],
   "source": [
    "n=int(input())\n",
    "print(\"cube of given no is :\",n**3)"
   ]
  },
  {
   "cell_type": "markdown",
   "id": "2dd5d14d",
   "metadata": {},
   "source": [
    "28.Python Program to calculate the square root of a given number."
   ]
  },
  {
   "cell_type": "code",
   "execution_count": 17,
   "id": "ca4fc1bd",
   "metadata": {},
   "outputs": [
    {
     "name": "stdout",
     "output_type": "stream",
     "text": [
      "17\n",
      "Square of given no is : 4.123105625617661\n"
     ]
    }
   ],
   "source": [
    "n=int(input())\n",
    "print(\"Square of given no is :\",n**0.5)"
   ]
  },
  {
   "cell_type": "markdown",
   "id": "3d8e7274",
   "metadata": {},
   "source": [
    "29.Python program to calculate LCM of given two numbers."
   ]
  },
  {
   "cell_type": "markdown",
   "id": "4c8f1413",
   "metadata": {},
   "source": [
    "30.Python Program to find GCD or HCF of two numbers"
   ]
  },
  {
   "cell_type": "code",
   "execution_count": 20,
   "id": "c33d5ce8",
   "metadata": {},
   "outputs": [
    {
     "name": "stdout",
     "output_type": "stream",
     "text": [
      "3\n",
      "15\n",
      "hcf/gcd of 3 and 15 = 3\n"
     ]
    }
   ],
   "source": [
    "num1=int(input())\n",
    "num2=int(input())\n",
    "if num1>num2:\n",
    "    min=num2\n",
    "else:\n",
    "    min=num1\n",
    "for i in range(1,min+1):\n",
    "    if((num1 % i == 0) and (num2 % i == 0)):\n",
    "        hcf = i \n",
    "print(\"hcf/gcd of\",num1,\"and\",num2,\"=\",hcf)"
   ]
  },
  {
   "cell_type": "markdown",
   "id": "923e1c29",
   "metadata": {},
   "source": [
    "31.Python Program to find GCD of two numbers using recursion."
   ]
  },
  {
   "cell_type": "markdown",
   "id": "e99adc47",
   "metadata": {},
   "source": [
    "32.Python Program to Convert Decimal Number into Binary"
   ]
  },
  {
   "cell_type": "code",
   "execution_count": 49,
   "id": "28c855fc",
   "metadata": {},
   "outputs": [
    {
     "name": "stdout",
     "output_type": "stream",
     "text": [
      "Give a number1: 10\n",
      "Binary of 10 is 0b1010\n"
     ]
    }
   ],
   "source": [
    "a=int(input(\"Give a number1: \"))\n",
    "b=bin(a)\n",
    "print(\"Binary of {} is {}\".format(a,b))"
   ]
  },
  {
   "cell_type": "code",
   "execution_count": 50,
   "id": "397f1037",
   "metadata": {},
   "outputs": [
    {
     "name": "stdout",
     "output_type": "stream",
     "text": [
      "Give a number1: 10\n",
      "Binary of 10 is 1010\n"
     ]
    }
   ],
   "source": [
    "a=int(input(\"Give a number1: \"))\n",
    "b=bin(a)\n",
    "print(\"Binary of {} is {}\".format(a,b[2:]))"
   ]
  },
  {
   "cell_type": "markdown",
   "id": "88a1248c",
   "metadata": {},
   "source": [
    "33.Python Program to convert Decimal number to Octal number."
   ]
  },
  {
   "cell_type": "code",
   "execution_count": 51,
   "id": "a86e1d93",
   "metadata": {},
   "outputs": [
    {
     "name": "stdout",
     "output_type": "stream",
     "text": [
      "Give a number1: 131\n",
      "21\n"
     ]
    }
   ],
   "source": [
    "n=int(input(\"Give a number1: \"))\n",
    "b=a\n",
    "s=\"\"\n",
    "while b!=0:\n",
    "    r=b%8    \n",
    "    b//=8\n",
    "    s+=str(r)\n",
    "print(int(s))"
   ]
  },
  {
   "cell_type": "markdown",
   "id": "75a1698c",
   "metadata": {},
   "source": [
    "34.Python Program to check the given year is a leap year or not."
   ]
  },
  {
   "cell_type": "code",
   "execution_count": 21,
   "id": "3beea188",
   "metadata": {},
   "outputs": [
    {
     "name": "stdout",
     "output_type": "stream",
     "text": [
      "2024\n",
      "leap year\n"
     ]
    }
   ],
   "source": [
    "year=int(input())\n",
    "if year%4==0 and year%100!=0 or year%400==0:\n",
    "    print(\"leap year\")\n",
    "else:\n",
    "    print(\"Not a leap year\")"
   ]
  },
  {
   "cell_type": "markdown",
   "id": "277f1375",
   "metadata": {},
   "source": [
    "35.Python Program to convert Celsius to Fahrenheit."
   ]
  },
  {
   "cell_type": "code",
   "execution_count": 29,
   "id": "d80b5f55",
   "metadata": {},
   "outputs": [
    {
     "name": "stdout",
     "output_type": "stream",
     "text": [
      "30\n",
      "86.0 converted Celsius to Fahrenheit.\n"
     ]
    }
   ],
   "source": [
    "C=int(input())\n",
    "f=(C*9/5)+32\n",
    "print(f,\"converted Celsius to Fahrenheit.\")\n",
    "    "
   ]
  },
  {
   "cell_type": "markdown",
   "id": "15556160",
   "metadata": {},
   "source": [
    "36.Python Program to convert Fahrenheit to Celsius"
   ]
  },
  {
   "cell_type": "code",
   "execution_count": 30,
   "id": "5c3ad581",
   "metadata": {},
   "outputs": [
    {
     "name": "stdout",
     "output_type": "stream",
     "text": [
      "86\n",
      "30 converted  Fahrenheit to Celsius .\n"
     ]
    }
   ],
   "source": [
    "F=int(input())\n",
    "C=(F-32)*5/9\n",
    "c=round(C)\n",
    "\n",
    "print(c,\"converted  Fahrenheit to Celsius .\")"
   ]
  },
  {
   "cell_type": "markdown",
   "id": "a6618662",
   "metadata": {},
   "source": [
    "37.Python program to calculate Simple Interest with explanation"
   ]
  },
  {
   "cell_type": "code",
   "execution_count": 39,
   "id": "798b9e20",
   "metadata": {},
   "outputs": [],
   "source": [
    "def SI(P,R,T):\n",
    "    SI=(P*R*T)/100\n",
    "    return(SI)"
   ]
  },
  {
   "cell_type": "code",
   "execution_count": 40,
   "id": "f9f6751e",
   "metadata": {},
   "outputs": [
    {
     "data": {
      "text/plain": [
       "76.0"
      ]
     },
     "execution_count": 40,
     "metadata": {},
     "output_type": "execute_result"
    }
   ],
   "source": [
    "SI(1900,2,2)"
   ]
  },
  {
   "cell_type": "code",
   "execution_count": 41,
   "id": "4361edd7",
   "metadata": {},
   "outputs": [
    {
     "data": {
      "text/plain": [
       "210.0"
      ]
     },
     "execution_count": 41,
     "metadata": {},
     "output_type": "execute_result"
    }
   ],
   "source": [
    "SI(700,3,10)"
   ]
  },
  {
   "cell_type": "markdown",
   "id": "8f7328f7",
   "metadata": {},
   "source": [
    "38.Python program to remove given character from String."
   ]
  },
  {
   "cell_type": "code",
   "execution_count": 42,
   "id": "3e3934bb",
   "metadata": {},
   "outputs": [
    {
     "name": "stdout",
     "output_type": "stream",
     "text": [
      "Mammu\n",
      "Enter the chr you want to remove:m\n",
      "Mau\n"
     ]
    }
   ],
   "source": [
    "chr=input()\n",
    "n=input(\"Enter the chr you want to remove:\")\n",
    "print(chr.replace(n,\"\"))"
   ]
  },
  {
   "cell_type": "code",
   "execution_count": 43,
   "id": "af6c11d2",
   "metadata": {},
   "outputs": [
    {
     "name": "stdout",
     "output_type": "stream",
     "text": [
      "please give a String : preeti\n",
      "please give a Character to remove : i\n",
      "preet\n"
     ]
    }
   ],
   "source": [
    "def remove_char(s1,s2):\n",
    "    print(s1.replace(s2, ''))\n",
    "s1 = input(\"please give a String : \")\n",
    "s2 = input(\"please give a Character to remove : \")\n",
    "remove_char(s1,s2) "
   ]
  },
  {
   "cell_type": "markdown",
   "id": "3883cd0a",
   "metadata": {},
   "source": [
    "39.Python Program to count occurrence of a given characters in string."
   ]
  },
  {
   "cell_type": "code",
   "execution_count": 45,
   "id": "ea2a04ca",
   "metadata": {},
   "outputs": [
    {
     "name": "stdout",
     "output_type": "stream",
     "text": [
      "MammuMadhuPythonSaxon\n",
      "a\n",
      "3\n"
     ]
    }
   ],
   "source": [
    "n=input()\n",
    "b=n.count(input())\n",
    "print(b)"
   ]
  },
  {
   "cell_type": "code",
   "execution_count": 46,
   "id": "ff4c818c",
   "metadata": {},
   "outputs": [
    {
     "name": "stdout",
     "output_type": "stream",
     "text": [
      "Please enter String : evefedfvvfsa\n",
      "Please enter a Character : e\n",
      "Total Number of occurence of  e is : 3\n"
     ]
    }
   ],
   "source": [
    "string = input(\"Please enter String : \")\n",
    "char = input(\"Please enter a Character : \")\n",
    "count = 0\n",
    "for i in range(len(string)):\n",
    "    if(string[i] == char):\n",
    "        count = count + 1\n",
    "print(\"Total Number of occurence of \", char, \"is :\" , count)"
   ]
  },
  {
   "cell_type": "code",
   "execution_count": 47,
   "id": "5fe214a6",
   "metadata": {},
   "outputs": [
    {
     "name": "stdout",
     "output_type": "stream",
     "text": [
      "Please enter String : sdvdfgasdvbdbdvsd\n",
      "Please enter a Character : b\n",
      "Total Number of occurence of  b is : 2\n"
     ]
    }
   ],
   "source": [
    "string = input(\"Please enter String : \")\n",
    "char = input(\"Please enter a Character : \")\n",
    "index, count = 0, 0\n",
    "while(index < len(string)):\n",
    "    if(string[index] == char):\n",
    "        count = count + 1\n",
    "    index = index + 1\n",
    "print(\"Total Number of occurence of \", char, \"is :\" , count)"
   ]
  },
  {
   "cell_type": "code",
   "execution_count": 48,
   "id": "c99e11d1",
   "metadata": {},
   "outputs": [
    {
     "name": "stdout",
     "output_type": "stream",
     "text": [
      "Please enter String : hgbdrgtrtrsz\n",
      "Please enter a Character : t\n",
      "Total Number of occurence of  t is : 2\n"
     ]
    }
   ],
   "source": [
    "def countOccur(char, string):\n",
    "    count = 0\n",
    "    for i in range(len(string)):\n",
    "        if(string[i] == char):\n",
    "            count = count + 1\n",
    "    return count\n",
    "string = input(\"Please enter String : \")\n",
    "char = input(\"Please enter a Character : \")\n",
    "count = countOccur(char, string)\n",
    "print(\"Total Number of occurence of \", char, \"is :\" , count) "
   ]
  },
  {
   "cell_type": "markdown",
   "id": "fefee44f",
   "metadata": {},
   "source": [
    "40.Python Program to check if two Strings are Anagram."
   ]
  },
  {
   "cell_type": "code",
   "execution_count": 48,
   "id": "85392115",
   "metadata": {},
   "outputs": [
    {
     "name": "stdout",
     "output_type": "stream",
     "text": [
      "Please enter String 1 : Race\n",
      "Please enter String 2 : ecaR\n",
      "Anagram\n"
     ]
    }
   ],
   "source": [
    "s1=input(\"Please enter String 1 : \")\n",
    "s2=input(\"Please enter String 2 : \")\n",
    "y=0\n",
    "for x in s1:\n",
    "    if s1.count(x)>0 and s2.count(x)>0 and (len(s1)==len(s2)):\n",
    "        y+=1\n",
    "    else:\n",
    "        continue       \n",
    "if y>0:\n",
    "    print(\"Anagram\")\n",
    "else:\n",
    "     print(\"Not an Anagram\")"
   ]
  },
  {
   "cell_type": "markdown",
   "id": "82a0a685",
   "metadata": {},
   "source": [
    "41.Python program to check a String is palindrome or not."
   ]
  },
  {
   "cell_type": "code",
   "execution_count": 49,
   "id": "c1a5b832",
   "metadata": {},
   "outputs": [
    {
     "name": "stdout",
     "output_type": "stream",
     "text": [
      "Enter a string:mom\n",
      "Given string is palindrome\n"
     ]
    }
   ],
   "source": [
    "n=input(\"Enter a string:\")\n",
    "if n==n[::-1]:\n",
    "    print(\"Given string is palindrome\")\n",
    "else:\n",
    "    print(\"Given string is Not a palindrome\")"
   ]
  },
  {
   "cell_type": "markdown",
   "id": "5a60b0c9",
   "metadata": {},
   "source": [
    "42.Python program to check given character is vowel or consonant."
   ]
  },
  {
   "cell_type": "code",
   "execution_count": 52,
   "id": "0444fe54",
   "metadata": {},
   "outputs": [
    {
     "name": "stdout",
     "output_type": "stream",
     "text": [
      "Enter any charater:b\n",
      "Given b is consonant\n"
     ]
    }
   ],
   "source": [
    "char=input(\"Enter any charater:\")\n",
    "if char==\"a\" or char==\"e\" or char==\"i\" or char==\"o\" or char==\"u\":\n",
    "    print(\"Entered\",char,\"is vowel\")\n",
    "else:\n",
    "    print(\"Given\",char,\"is consonant\")"
   ]
  },
  {
   "cell_type": "markdown",
   "id": "71e08551",
   "metadata": {},
   "source": [
    "43.Python program to check given character is digit or not."
   ]
  },
  {
   "cell_type": "code",
   "execution_count": 53,
   "id": "b3bf48df",
   "metadata": {},
   "outputs": [
    {
     "name": "stdout",
     "output_type": "stream",
     "text": [
      "Enter any thing:8\n",
      "Yes.. it is digit\n"
     ]
    }
   ],
   "source": [
    "num=input(\"Enter any thing:\")\n",
    "if num.isdigit():\n",
    "    print(\"Yes.. it is digit\")\n",
    "else:\n",
    "    print(\"No.. it is not a digit\")"
   ]
  },
  {
   "cell_type": "markdown",
   "id": "f68148dc",
   "metadata": {},
   "source": [
    "44.Python program to check given character is digit or not using isdigit() method."
   ]
  },
  {
   "cell_type": "code",
   "execution_count": 3,
   "id": "bd07c788",
   "metadata": {},
   "outputs": [
    {
     "name": "stdout",
     "output_type": "stream",
     "text": [
      "Enter any thing:45\n",
      "digit\n"
     ]
    }
   ],
   "source": [
    "num=input(\"Enter any thing:\")\n",
    "d=(\"o 1 2 3 4 5 6 7 8 9\").split()\n",
    "if num.startswith(tuple(d)):\n",
    "    print(\"digit\")\n",
    "else:\n",
    "    print(\"Not digit\")\n",
    "    \n",
    "    \n"
   ]
  },
  {
   "cell_type": "markdown",
   "id": "337c0663",
   "metadata": {},
   "source": [
    "45.Python program to replace the string space with a given character.\n"
   ]
  },
  {
   "cell_type": "code",
   "execution_count": 61,
   "id": "ddeaea65",
   "metadata": {},
   "outputs": [
    {
     "name": "stdout",
     "output_type": "stream",
     "text": [
      "Enter a string:replace the string space with a\n",
      "Enter a chr to replace @\n",
      "replace@the@string@space@with@a\n"
     ]
    }
   ],
   "source": [
    "s=input(\"Enter a string:\")\n",
    "n=input(\"Enter a chr to replace \")\n",
    "print(s.replace(\" \",n))"
   ]
  },
  {
   "cell_type": "markdown",
   "id": "3cc0c0e4",
   "metadata": {},
   "source": [
    "46.Python program to replace the string space with a given character using replace() method."
   ]
  },
  {
   "cell_type": "code",
   "execution_count": 5,
   "id": "5bcb0d17",
   "metadata": {},
   "outputs": [
    {
     "name": "stdout",
     "output_type": "stream",
     "text": [
      "Enter a string:Python program\n",
      "Enter a chr to replace @\n",
      "Python@program\n"
     ]
    }
   ],
   "source": [
    "s=input(\"Enter a string:\")\n",
    "n=input(\"Enter a chr to replace \")\n",
    "print(s.replace(\" \",n))"
   ]
  },
  {
   "cell_type": "markdown",
   "id": "6711c4ad",
   "metadata": {},
   "source": [
    "47.Python program to convert lowercase char to uppercase of string"
   ]
  },
  {
   "cell_type": "code",
   "execution_count": 65,
   "id": "103e6883",
   "metadata": {},
   "outputs": [
    {
     "name": "stdout",
     "output_type": "stream",
     "text": [
      "Enter a lower case chrcts: ksi\n",
      "KSI\n"
     ]
    }
   ],
   "source": [
    "n=input(\"Enter a lower case chrcts: \")\n",
    "print(n.upper())"
   ]
  },
  {
   "cell_type": "code",
   "execution_count": 68,
   "id": "4c6886f8",
   "metadata": {},
   "outputs": [
    {
     "name": "stdout",
     "output_type": "stream",
     "text": [
      "Enter a string:Innomatics\n",
      "INNOMATICS\n"
     ]
    }
   ],
   "source": [
    "n=input(\"Enter a string:\")\n",
    "s=\"\"\n",
    "for i in range(len(n)):\n",
    "    if n[i].islower():\n",
    "        s+=n[i].upper()\n",
    "    else:\n",
    "        s+=n[i]\n",
    "print(s)\n",
    "    "
   ]
  },
  {
   "cell_type": "markdown",
   "id": "7bd6f4cd",
   "metadata": {},
   "source": [
    "48.Python program to convert lowercase vowel to uppercase in string"
   ]
  },
  {
   "cell_type": "code",
   "execution_count": 70,
   "id": "be95a8e2",
   "metadata": {},
   "outputs": [
    {
     "name": "stdout",
     "output_type": "stream",
     "text": [
      "Enter a string:madhuri\n",
      "mAdhUrI\n"
     ]
    }
   ],
   "source": [
    "n=input(\"Enter a string:\")\n",
    "s=\"\"\n",
    "for i in range(len(n)):\n",
    "    if n[i]==\"a\" or n[i]==\"e\" or n[i]==\"i\" or n[i]==\"o\" or n[i]==\"u\":\n",
    "        s+=n[i].upper()\n",
    "    else:\n",
    "        s+=n[i]\n",
    "print(s)"
   ]
  },
  {
   "cell_type": "code",
   "execution_count": 73,
   "id": "d565dfed",
   "metadata": {},
   "outputs": [
    {
     "name": "stdout",
     "output_type": "stream",
     "text": [
      "Enter a string:Innomaticustomer\n",
      "InnOmAtIcUstOmEr\n"
     ]
    }
   ],
   "source": [
    "n=input(\"Enter a string:\")\n",
    "v=['a','e','i','o','u']\n",
    "s=\"\"\n",
    "for i in n:\n",
    "    if i.lower() in v:\n",
    "        s+=i.upper()\n",
    "    else:\n",
    "        s+=i\n",
    "print(s)\n"
   ]
  },
  {
   "cell_type": "markdown",
   "id": "d9913fde",
   "metadata": {},
   "source": [
    "49.Python program to delete vowels in a given string."
   ]
  },
  {
   "cell_type": "code",
   "execution_count": 77,
   "id": "6a8ad7d4",
   "metadata": {},
   "outputs": [
    {
     "name": "stdout",
     "output_type": "stream",
     "text": [
      "Enter any string:Hyderabad\n",
      "Hydrbd\n"
     ]
    }
   ],
   "source": [
    "n=input(\"Enter any string:\")\n",
    "v=['a','e','i','o','u']\n",
    "s=\"\"\n",
    "for i in n:\n",
    "    if i.lower() not in v:\n",
    "        s+=i\n",
    "print(s)"
   ]
  },
  {
   "cell_type": "markdown",
   "id": "039e27b0",
   "metadata": {},
   "source": [
    "50.Python program to count the Occurrence Of Vowels & Consonants in a String."
   ]
  },
  {
   "cell_type": "code",
   "execution_count": 84,
   "id": "31df6dfa",
   "metadata": {},
   "outputs": [
    {
     "name": "stdout",
     "output_type": "stream",
     "text": [
      "Enter any string:InnomaticsResearchLabs\n",
      "No.of vowels:8\n",
      "No.of Consonants:14\n"
     ]
    }
   ],
   "source": [
    "n=input(\"Enter any string:\")\n",
    "v=['a','e','i','o','u']\n",
    "v_count=0\n",
    "c_count=0\n",
    "for i in n:\n",
    "    if i.lower() in v:\n",
    "        v_count+=i.count(i)\n",
    "    else:\n",
    "        c_count+=i.count(i)\n",
    "print(\"No.of vowels:{}\\nNo.of Consonants:{}\".format(v_count,c_count))"
   ]
  },
  {
   "cell_type": "markdown",
   "id": "67562cf6",
   "metadata": {},
   "source": [
    "51.Python program to print the highest frequency character in a String."
   ]
  },
  {
   "cell_type": "code",
   "execution_count": 5,
   "id": "bd896c11",
   "metadata": {},
   "outputs": [
    {
     "name": "stdout",
     "output_type": "stream",
     "text": [
      "Enter a string:hkjjjhgfdstyhkbm\n",
      "3233331111113211\n"
     ]
    }
   ],
   "source": [
    "n = input(\"Enter a string:\")\n",
    "s = n\n",
    "c = \"\"\n",
    "for i in range(len(n)):\n",
    "    if n[i] == s[i]:\n",
    "        c += str(n.count(n[i]))\n",
    "    else:\n",
    "        pass\n",
    "    print(c)\n"
   ]
  },
  {
   "cell_type": "code",
   "execution_count": 8,
   "id": "3c4d4967",
   "metadata": {},
   "outputs": [
    {
     "name": "stdout",
     "output_type": "stream",
     "text": [
      "Enter a string: aksyahkjwdia;lw.SQaa\n",
      "The highest frequency character is: a\n"
     ]
    }
   ],
   "source": [
    "def find_highest_frequency_char(string):\n",
    "    char_count = {}\n",
    "     # Count the frequency of each character in the string\n",
    "    for char in string:\n",
    "        char_count[char] = char_count.get(char, 0) + 1\n",
    "# Find the character with the highest frequency\n",
    "    highest_frequency_char = max(char_count, key=char_count.get)\n",
    "    return highest_frequency_char\n",
    "# Test the function\n",
    "input_string = input(\"Enter a string: \")\n",
    "highest_frequency_char = find_highest_frequency_char(input_string)\n",
    "print(\"The highest frequency character is:\", highest_frequency_char)\n"
   ]
  },
  {
   "cell_type": "markdown",
   "id": "77655a8f",
   "metadata": {},
   "source": [
    "52.Python program to Replace First Occurrence Of Vowel With ‘-‘ in String."
   ]
  },
  {
   "cell_type": "code",
   "execution_count": 9,
   "id": "73379a15",
   "metadata": {},
   "outputs": [
    {
     "name": "stdout",
     "output_type": "stream",
     "text": [
      "Enter a string: an elephant is on the road\n",
      "Modified string: -n elephant is on the road\n"
     ]
    }
   ],
   "source": [
    "n = input(\"Enter a string: \")\n",
    "vowels = ['a', 'e', 'i', 'o', 'u']\n",
    "modified_string = \"\"\n",
    "found_vowel = False\n",
    "for char in n:\n",
    "    if not found_vowel and char.lower() in vowels:\n",
    "        modified_string += '-'\n",
    "        found_vowel = True\n",
    "    else:\n",
    "        modified_string += char\n",
    "print(\"Modified string:\", modified_string)\n"
   ]
  },
  {
   "cell_type": "markdown",
   "id": "e2509c1c",
   "metadata": {},
   "source": [
    "53.Python program to count alphabets, digits and special characters.\n"
   ]
  },
  {
   "cell_type": "code",
   "execution_count": 10,
   "id": "d43fac86",
   "metadata": {},
   "outputs": [
    {
     "name": "stdout",
     "output_type": "stream",
     "text": [
      "Enter a string: Madhu175@gmail.com\n",
      "Alphabet count: 13\n",
      "Digit count: 3\n",
      "Special character count: 2\n"
     ]
    }
   ],
   "source": [
    "def count_characters(string):\n",
    "    alphabet_count = 0\n",
    "    digit_count = 0\n",
    "    special_char_count = 0\n",
    "    for char in string:\n",
    "        if char.isalpha():\n",
    "            alphabet_count += 1\n",
    "        elif char.isdigit():\n",
    "            digit_count += 1\n",
    "        else:\n",
    "            special_char_count += 1\n",
    "    return alphabet_count, digit_count, special_char_count\n",
    "# Test the function\n",
    "input_string = input(\"Enter a string: \")\n",
    "alpha_count, digit_count, special_count = count_characters(input_string)\n",
    "print(\"Alphabet count:\", alpha_count)\n",
    "print(\"Digit count:\", digit_count)\n",
    "print(\"Special character count:\", special_count)\n",
    "\n"
   ]
  },
  {
   "cell_type": "code",
   "execution_count": 45,
   "id": "fd131bb0",
   "metadata": {},
   "outputs": [
    {
     "name": "stdout",
     "output_type": "stream",
     "text": [
      "Please enter String: Madhu175@gmail.com\n",
      "alphabets=13\n",
      "digits=3\n",
      "special characters=2\n"
     ]
    }
   ],
   "source": [
    "s1=input(\"Please enter String: \")\n",
    "d=0;ch=0;sp=0\n",
    "for x in s1:\n",
    "    c=ord(x)\n",
    "    if c>=48 and c<=57:\n",
    "        d+=1\n",
    "    elif c>=65 and c<=90 or c>=97 and c<=122:\n",
    "        ch+=1\n",
    "    else:\n",
    "        sp+=1\n",
    "print(\"alphabets={}\\ndigits={}\\nspecial characters={}\".format(ch,d,sp))"
   ]
  },
  {
   "cell_type": "markdown",
   "id": "abf2e21c",
   "metadata": {},
   "source": [
    "54.Python program to separate characters in a given string."
   ]
  },
  {
   "cell_type": "code",
   "execution_count": 15,
   "id": "dd5f7cbf",
   "metadata": {},
   "outputs": [
    {
     "name": "stdout",
     "output_type": "stream",
     "text": [
      "Enter any string:Madhu@175.com\n",
      "M a d h u @ 1 7 5 . c o m\n"
     ]
    }
   ],
   "source": [
    "n=input(\"Enter any string:\")\n",
    "result=\" \".join(n)\n",
    "print(result)"
   ]
  },
  {
   "cell_type": "markdown",
   "id": "efbcf58c",
   "metadata": {},
   "source": [
    "55.Python program to remove blank space from string.\n"
   ]
  },
  {
   "cell_type": "code",
   "execution_count": 21,
   "id": "4725e7af",
   "metadata": {},
   "outputs": [
    {
     "name": "stdout",
     "output_type": "stream",
     "text": [
      "Enter any string:M a d h u 1 7 5@gmail .com\n",
      "Madhu175@gmail.com\n"
     ]
    }
   ],
   "source": [
    "n=input(\"Enter any string:\")\n",
    "result=''\n",
    "for i in n:\n",
    "    if i!=\" \":\n",
    "        result+=i\n",
    "print(result)"
   ]
  },
  {
   "cell_type": "markdown",
   "id": "cbabc7d2",
   "metadata": {},
   "source": [
    "56.Python program to concatenate two strings using join() method."
   ]
  },
  {
   "cell_type": "code",
   "execution_count": 24,
   "id": "b2426305",
   "metadata": {},
   "outputs": [
    {
     "name": "stdout",
     "output_type": "stream",
     "text": [
      "Enter str1:Madhu\n",
      "Enter str2:232\n"
     ]
    },
    {
     "data": {
      "text/plain": [
       "'Madhu232'"
      ]
     },
     "execution_count": 24,
     "metadata": {},
     "output_type": "execute_result"
    }
   ],
   "source": [
    "str1=input(\"Enter str1:\")\n",
    "str2=input(\"Enter str2:\")\n",
    "str3=\"\".join([str1,str2])\n",
    "str3"
   ]
  },
  {
   "cell_type": "markdown",
   "id": "7eb53c29",
   "metadata": {},
   "source": [
    "57.Python program to concatenate two strings without using join() method.\n"
   ]
  },
  {
   "cell_type": "code",
   "execution_count": 25,
   "id": "869efd2c",
   "metadata": {},
   "outputs": [
    {
     "name": "stdout",
     "output_type": "stream",
     "text": [
      "Enter str1:Madhu\n",
      "Enter str2:232\n"
     ]
    },
    {
     "data": {
      "text/plain": [
       "'Madhu232'"
      ]
     },
     "execution_count": 25,
     "metadata": {},
     "output_type": "execute_result"
    }
   ],
   "source": [
    "str1=input(\"Enter str1:\")\n",
    "str2=input(\"Enter str2:\")\n",
    "str3=str1+str2\n",
    "str3"
   ]
  },
  {
   "cell_type": "markdown",
   "id": "d0fb8274",
   "metadata": {},
   "source": [
    "58.Python program to remove repeated character from string.\n"
   ]
  },
  {
   "cell_type": "code",
   "execution_count": 33,
   "id": "477948ce",
   "metadata": {},
   "outputs": [
    {
     "name": "stdout",
     "output_type": "stream",
     "text": [
      "Enter integer numbers: Madhuuhdam\n",
      "Madhum\n"
     ]
    }
   ],
   "source": [
    "n = input(\"Enter integer numbers: \")\n",
    "s = \"\"\n",
    "for i in n:\n",
    "    if i not in s:\n",
    "        s += i\n",
    "print(s)\n"
   ]
  },
  {
   "cell_type": "code",
   "execution_count": null,
   "id": "f60647db",
   "metadata": {},
   "outputs": [],
   "source": [
    "59.Python program to calculate sum of integers in string.\n"
   ]
  },
  {
   "cell_type": "code",
   "execution_count": 44,
   "id": "c6732407",
   "metadata": {},
   "outputs": [
    {
     "name": "stdout",
     "output_type": "stream",
     "text": [
      "Please enter String: 1054\n",
      "sum of the string = 10\n"
     ]
    }
   ],
   "source": [
    "s=input(\"Please enter String: \")\n",
    "y=0\n",
    "for i in s:\n",
    "    if i.isdigit():\n",
    "        y+=int(i)\n",
    "    else:\n",
    "        continue\n",
    "print(\"sum of the string =\",y)"
   ]
  },
  {
   "cell_type": "code",
   "execution_count": null,
   "id": "ae7857cc",
   "metadata": {},
   "outputs": [],
   "source": [
    "60.Python program to print all non repeating character in string."
   ]
  },
  {
   "cell_type": "code",
   "execution_count": 42,
   "id": "ebbbd553",
   "metadata": {},
   "outputs": [
    {
     "name": "stdout",
     "output_type": "stream",
     "text": [
      "Please enter String: innomaticsMadhumatrix\n",
      "inomatcsMdhurx\n"
     ]
    }
   ],
   "source": [
    "s1=input(\"Please enter String: \")\n",
    "a=set()\n",
    "n=\"\"\n",
    "for x in s1:\n",
    "    if x not in a:\n",
    "        a.add(x)\n",
    "        n+=x\n",
    "    else:\n",
    "        continue\n",
    "print(n)\n"
   ]
  },
  {
   "cell_type": "code",
   "execution_count": null,
   "id": "e0d25057",
   "metadata": {},
   "outputs": [],
   "source": [
    "61.Python program to copy one string to another string.\n"
   ]
  },
  {
   "cell_type": "code",
   "execution_count": 41,
   "id": "e5a84a12",
   "metadata": {},
   "outputs": [
    {
     "name": "stdout",
     "output_type": "stream",
     "text": [
      "Please enter String: kjsjsma\n",
      "kjsjsma\n"
     ]
    }
   ],
   "source": [
    "s1=input(\"Please enter String: \")\n",
    "s2=\"\"\n",
    "s2+=s1\n",
    "print(s2)"
   ]
  },
  {
   "cell_type": "code",
   "execution_count": null,
   "id": "24b46210",
   "metadata": {},
   "outputs": [],
   "source": [
    "62.Python Program to sort characters of string in ascending order.\n"
   ]
  },
  {
   "cell_type": "code",
   "execution_count": 39,
   "id": "81148f96",
   "metadata": {},
   "outputs": [
    {
     "name": "stdout",
     "output_type": "stream",
     "text": [
      "Please enter String: madhu\n",
      "adhmu\n"
     ]
    }
   ],
   "source": [
    "s1=input(\"Please enter String: \")\n",
    "s2=\"\"\n",
    "l=list(s1)\n",
    "l.sort()\n",
    "for x in l:\n",
    "    s2+=x\n",
    "print(s2)"
   ]
  },
  {
   "cell_type": "code",
   "execution_count": null,
   "id": "14bd3a45",
   "metadata": {},
   "outputs": [],
   "source": [
    "63.Python Program to sort character of string in descending order.\n"
   ]
  },
  {
   "cell_type": "code",
   "execution_count": 40,
   "id": "fb45eba5",
   "metadata": {},
   "outputs": [
    {
     "name": "stdout",
     "output_type": "stream",
     "text": [
      "Please enter String: madhu\n",
      "umhda\n"
     ]
    }
   ],
   "source": [
    "s1=input(\"Please enter String: \")\n",
    "s2=\"\"\n",
    "l=list(s1)\n",
    "l.sort(reverse=True)\n",
    "for x in l:\n",
    "    s2+=x\n",
    "print(s2)"
   ]
  },
  {
   "cell_type": "code",
   "execution_count": null,
   "id": "bec4666c",
   "metadata": {},
   "outputs": [],
   "source": []
  }
 ],
 "metadata": {
  "kernelspec": {
   "display_name": "Python 3 (ipykernel)",
   "language": "python",
   "name": "python3"
  },
  "language_info": {
   "codemirror_mode": {
    "name": "ipython",
    "version": 3
   },
   "file_extension": ".py",
   "mimetype": "text/x-python",
   "name": "python",
   "nbconvert_exporter": "python",
   "pygments_lexer": "ipython3",
   "version": "3.9.13"
  }
 },
 "nbformat": 4,
 "nbformat_minor": 5
}
