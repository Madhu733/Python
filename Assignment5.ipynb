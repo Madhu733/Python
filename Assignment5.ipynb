{
 "cells": [
  {
   "cell_type": "code",
   "execution_count": 1,
   "id": "8c6215db",
   "metadata": {},
   "outputs": [
    {
     "name": "stdout",
     "output_type": "stream",
     "text": [
      "the list: [2, 3, 1, 1, 3, 3, 6, 2, 7, 8, 9]\n",
      "list after removing dupicate elements: [2, 3, 1, 6, 7, 8, 9]\n",
      "[1, 2, 3, 6, 7, 8, 9]\n"
     ]
    }
   ],
   "source": [
    "#1. Given a list of numbers, write a python program that returns a new list which Has all duplicate elements removed. \n",
    "#And is sorted in an increasing order.\n",
    "#Ex: Input: [2,1,3,4,2,3,3,2,7,9,8,7]\n",
    "#Output: [1,2,3,4,7,8,9]\n",
    "l=[2,3,1,1,3,3,6,2,7,8,9]\n",
    "print(\"the list:\",l)\n",
    "new_list=[]\n",
    "for x in l:\n",
    "     if x not in new_list:\n",
    "            new_list.append(x)\n",
    "print(\"list after removing dupicate elements:\",new_list)\n",
    "new_list.sort()\n",
    "print(new_list)"
   ]
  },
  {
   "cell_type": "code",
   "execution_count": 11,
   "id": "75e5c491",
   "metadata": {},
   "outputs": [
    {
     "name": "stdout",
     "output_type": "stream",
     "text": [
      "Enter the length of the dictionary: 3\n",
      "Enter the key: A\n",
      "Enter the value: 1\n",
      "Enter the key: B\n",
      "Enter the value: 2\n",
      "Enter the key: C\n",
      "Enter the value: 3\n",
      "\n",
      "Key:  A \tValue:  1\n",
      "Key:  B \tValue:  2\n",
      "Key:  C \tValue:  3\n"
     ]
    }
   ],
   "source": [
    "#2. Write a Python program where you will iterate over both keys and values in dictionaries\n",
    "a=int(input(\"Enter the length of the dictionary: \"))\n",
    "d={}\n",
    "for x in range(0,a):\n",
    "    k=input(\"Enter the key: \")\n",
    "    v=input(\"Enter the value: \")\n",
    "    d.update({k:v})\n",
    "print()\n",
    "for p,q in d.items():\n",
    "    print(\"Key: \",p,\"\\tValue: \",q)"
   ]
  },
  {
   "cell_type": "code",
   "execution_count": 16,
   "id": "7a25b0c7",
   "metadata": {},
   "outputs": [
    {
     "name": "stdout",
     "output_type": "stream",
     "text": [
      "list of student names : ['Tarun', 'Manoj', 'Gephi']\n",
      "list of student names in alphabetical order: ['Gephi', 'Manoj', 'Tarun']\n"
     ]
    }
   ],
   "source": [
    "#3. Write a Python program that takes a dictionary of student names and returns a list of student names in alphabetical order\n",
    "#Ex: Input: {“Student 1”: \"Tarun\", \"Student 2”: \"Manoj\", \"Student 3”: \"Gephi”}\n",
    "#Output:[“Gephi”,”Manoj”,” Tarun”]\n",
    "std_names={\"student1\":\"Tarun\",\"student2\":\"Manoj\",\"student3\":\"Gephi\"}\n",
    "list1=list(std_names.values())\n",
    "print(\"list of student names :\",list1)\n",
    "list1.sort()\n",
    "print(\"list of student names in alphabetical order:\",list1)"
   ]
  },
  {
   "cell_type": "code",
   "execution_count": 4,
   "id": "b73831dd",
   "metadata": {},
   "outputs": [
    {
     "name": "stdout",
     "output_type": "stream",
     "text": [
      "Enter a string which contains o's and 1's : 01001\n",
      "['False', 'False', 'False', 'False', 'False']\n"
     ]
    }
   ],
   "source": [
    "#4. Write a Python which returns a new list of Booleans, from a given number. \n",
    "#Iterating through the number one digit at a time, append True if the digit is 1 and False if it is 0.\n",
    "#Ex:Input: “01001”\n",
    "#Output: [“False”, “True”, “False”,” False”,” True\"]\n",
    "l=[]\n",
    "a=input(\"Enter a string which contains o's and 1's : \")\n",
    "for x in a:\n",
    "    if x==1:\n",
    "        l.append(\"True\")\n",
    "    else:\n",
    "        l.append(\"False\")\n",
    "print(l)\n",
    "\n",
    "               \n",
    "               "
   ]
  },
  {
   "cell_type": "code",
   "execution_count": 6,
   "id": "c231da24",
   "metadata": {},
   "outputs": [
    {
     "name": "stdout",
     "output_type": "stream",
     "text": [
      "Enter a string characters: my name is madhu\n",
      "{'m': 3, 'y': 1, ' ': 3, 'n': 1, 'a': 2, 'e': 1, 'i': 1, 's': 1, 'd': 1, 'h': 1, 'u': 1}\n"
     ]
    }
   ],
   "source": [
    "#5) Write a Python program where you will return a dictionary \n",
    "#where the keys will be the character and the values will be the occurrence of the character in the string,\n",
    "#and it should for any string inputs (dynamic)\n",
    "#Ex:Input: “my name is ame”\n",
    "#Output: {“m”:3,” y”:1,” n”:1,” a”:2,” e”:2,” i”:1,” s”:1}\n",
    "d={}\n",
    "a=input(\"Enter a string characters: \")\n",
    "for x in a:\n",
    "    if x==\"\":\n",
    "        continue\n",
    "    else:\n",
    "        d.update({x:a.count(x)})\n",
    "print(d)"
   ]
  },
  {
   "cell_type": "code",
   "execution_count": 12,
   "id": "9c063f34",
   "metadata": {},
   "outputs": [
    {
     "name": "stdout",
     "output_type": "stream",
     "text": [
      "oldest_person: Shardhul\n"
     ]
    }
   ],
   "source": [
    "# 6. Given a dictionary containing the names and ages of a group of people, return the name of the oldest person\n",
    "#Ex:Input: {\"Tmma\": 41, \"Ackes\": 45, \"myna\": 15, \"Benthon\": 29}\n",
    "#Output: “Ackes”\n",
    "grp_people= {\"Tmma\": 41, \"Ackes\": 45, \"myna\": 15, \"Benthon\": 29,\"Shardhul\":63}\n",
    "oldest_age=0\n",
    "oldest_person=\"\"\n",
    "for name,age in grp_people.items():\n",
    "    if age>oldest_age:\n",
    "        oldest_person=name\n",
    "        oldest_age=age\n",
    "print(\"oldest_person:\",oldest_person)"
   ]
  },
  {
   "cell_type": "code",
   "execution_count": 1,
   "id": "ab34e8c6",
   "metadata": {},
   "outputs": [
    {
     "name": "stdout",
     "output_type": "stream",
     "text": [
      "Start the game y/n: y\n",
      "a:Rock,Paper or Scissors: paper\n",
      "b:Rock,Paper or Scissors: rock\n",
      "a win\n",
      "Do you want to play again y/n: y\n",
      "a:Rock,Paper or Scissors: scissor\n",
      "b:Rock,Paper or Scissors: rock\n",
      "b win\n",
      "Do you want to play again y/n: n\n"
     ]
    }
   ],
   "source": [
    "n=input(\"Start the game y/n: \")\n",
    "while n==\"y\":\n",
    "    a=input(\"a:Rock,Paper or Scissors: \")\n",
    "    b=input(\"b:Rock,Paper or Scissors: \")\n",
    "    if a.capitalize()==\"Rock\" and b.capitalize()==\"Scissors\" or a.capitalize()==\"Scissors\" and b.capitalize()==\"Paper\" or a.capitalize()==\"Paper\" and b.capitalize()==\"Rock\":\n",
    "        print(\"a win\")\n",
    "        l=input(\"Do you want to play again y/n: \")\n",
    "    elif a.capitalize()==\"Rock\" and b.capitalize()==\"Rock\" or a.capitalize()==\"Scissors\" and b.capitalize()==\"Scissors\" or a.capitalize()==\"Paper\" and b.capitalize()==\"Paper\":\n",
    "        print(\"Tie\")\n",
    "        l=input(\"Do you want to play again y/n: \")\n",
    "    else:\n",
    "        print(\"b win\")\n",
    "        l=input(\"Do you want to play again y/n: \")\n",
    "    if l==\"y\":\n",
    "        continue\n",
    "    else:\n",
    "        break"
   ]
  },
  {
   "cell_type": "code",
   "execution_count": 3,
   "id": "98c203e3",
   "metadata": {},
   "outputs": [
    {
     "name": "stdout",
     "output_type": "stream",
     "text": [
      "Enter Your Wallet Balance: 63000\n",
      "Items you can buy: ['water bottles', 'chips', 'Iphone', 'towel', 'pens', 'cake']\n",
      "Your remaining balance will be:  13422\n"
     ]
    }
   ],
   "source": [
    "#8. Create a program that returns a list of items that you can afford in the store with the money you have in your wallet.\n",
    "#Create a dictionary with items as key and price as values\n",
    "#Ex:Input:{“water bottles”: “20”,” chips”:10,” Iphone”;49000“,” towel”:90,” pens”:58,” cake”;400}\n",
    "#Your wallet balance: -50\n",
    "#Output: [“water bottles”, “chips”]\n",
    "store_items={\"water bottles\": 20, \"chips\":10, \"Iphone\":49000, \"towel\":90, \"pens\":58, \"cake\":400}\n",
    "a=0\n",
    "b=0\n",
    "l=[]\n",
    "x=int(input(\"Enter Your Wallet Balance: \"))\n",
    "for y,z in store_items.items():\n",
    "    if z<=x and z<=x:\n",
    "        a+=z\n",
    "        b=y\n",
    "        l.append(b)\n",
    "    else:\n",
    "        continue\n",
    "print(\"Items you can buy:\",l)\n",
    "if a>x:\n",
    "    print(\"Your remaining balance will be: \",a-x)\n",
    "else:\n",
    "    print(\"Your remaining balance will be: \",x-a)"
   ]
  },
  {
   "cell_type": "code",
   "execution_count": 19,
   "id": "c546a7fb",
   "metadata": {},
   "outputs": [
    {
     "name": "stdout",
     "output_type": "stream",
     "text": [
      "{1, 2, 3, 4, 5, 6, 7, 9}\n"
     ]
    },
    {
     "data": {
      "text/plain": [
       "{1, 2, 3, 4, 5, 6, 7, 9}"
      ]
     },
     "execution_count": 19,
     "metadata": {},
     "output_type": "execute_result"
    }
   ],
   "source": [
    "#9. Write a Python program to create a union of sets\n",
    "a={1,2,3,4,6}\n",
    "b={4,5,6,7,9}\n",
    "c=a.union(b)\n",
    "print(c)\n",
    "a|b"
   ]
  },
  {
   "cell_type": "code",
   "execution_count": 20,
   "id": "5580c044",
   "metadata": {},
   "outputs": [
    {
     "data": {
      "text/plain": [
       "{1, 2, 3, 4, 6}"
      ]
     },
     "execution_count": 20,
     "metadata": {},
     "output_type": "execute_result"
    }
   ],
   "source": [
    "a"
   ]
  },
  {
   "cell_type": "code",
   "execution_count": 21,
   "id": "31531e9c",
   "metadata": {},
   "outputs": [
    {
     "data": {
      "text/plain": [
       "{4, 5, 6, 7, 9}"
      ]
     },
     "execution_count": 21,
     "metadata": {},
     "output_type": "execute_result"
    }
   ],
   "source": [
    "b"
   ]
  },
  {
   "cell_type": "code",
   "execution_count": 22,
   "id": "79c11d3e",
   "metadata": {},
   "outputs": [
    {
     "data": {
      "text/plain": [
       "{1, 2, 3, 4, 5, 6, 7, 9}"
      ]
     },
     "execution_count": 22,
     "metadata": {},
     "output_type": "execute_result"
    }
   ],
   "source": [
    "c"
   ]
  },
  {
   "cell_type": "code",
   "execution_count": 29,
   "id": "38d69c43",
   "metadata": {},
   "outputs": [
    {
     "name": "stdout",
     "output_type": "stream",
     "text": [
      "enter any number:1\n",
      "entered value is not present\n"
     ]
    }
   ],
   "source": [
    "#10. Write a Python program to check if a given value is present in a set or not(Dynamic)\n",
    "a={1,2,\"prsent\",\"or\",0,\"not\"}\n",
    "b=input(\"enter any number:\")\n",
    "if b in a:\n",
    "    print(\"Entered value is present\")\n",
    "else:\n",
    "    print(\"entered value is not present\")"
   ]
  },
  {
   "cell_type": "code",
   "execution_count": 31,
   "id": "cf94bdeb",
   "metadata": {},
   "outputs": [
    {
     "name": "stdout",
     "output_type": "stream",
     "text": [
      "how many values do you want to insert:10\n",
      "enter the values:1\n",
      "enter the values:1\n",
      "enter the values:4\n",
      "enter the values:5\n",
      "enter the values:7\n",
      "enter the values:88\n",
      "enter the values:9\n",
      "enter the values:8\n",
      "enter the values:p\n",
      "enter the values:i\n",
      "{'7', 'i', '8', 'p', '1', '4', '88', '5', '9'}\n",
      "enter value to check:p\n"
     ]
    },
    {
     "data": {
      "text/plain": [
       "True"
      ]
     },
     "execution_count": 31,
     "metadata": {},
     "output_type": "execute_result"
    }
   ],
   "source": [
    "set1=set(())\n",
    "s=int(input(\"how many values do you want to insert:\"))\n",
    "for x in range(s):\n",
    "    a=input(\"enter the values:\")\n",
    "    set1.add(a)\n",
    "print(set1)\n",
    "b=input(\"enter value to check:\")\n",
    "b in set1"
   ]
  },
  {
   "cell_type": "code",
   "execution_count": 32,
   "id": "d5d68259",
   "metadata": {},
   "outputs": [
    {
     "name": "stdout",
     "output_type": "stream",
     "text": [
      "Give the string: ” Cat dog dog cat horse dog dog mouse horse dog mouse tiger lion tiger cat mouse snail”\n",
      "{'Cat': 3, 'Dog': 5, 'Horse': 2, 'Mouse': 3, 'Tiger': 2}\n",
      "{'Cat': 3, 'Dog': 5, 'Mouse': 3}\n"
     ]
    }
   ],
   "source": [
    "#11. Write a Python program to find the occurrences of 3 most common words in a given text.\n",
    "#And make it as a dictionaries\n",
    "#Ex:Input:\n",
    "#” Cat dog dog cat horse dog dog mouse horse dog mouse tiger lion tiger cat mouse snail”\n",
    "#Output: (“dog”:5,”cat”:3,” mouse”;3)\n",
    "x=input(\"Give the string: \")\n",
    "d={}\n",
    "a=x.title().split()\n",
    "for z in a:\n",
    "    p=a.count(z)        \n",
    "    if p>1:\n",
    "        d.update({z:p})      \n",
    "print(d)\n",
    "l=0;m={};r=[]\n",
    "for x in d.values():\n",
    "    r.append(x)\n",
    "    n=r[0]\n",
    "    if l<x:\n",
    "        l=x\n",
    "    elif n>x:\n",
    "        n=x\n",
    "    else:\n",
    "        continue\n",
    "for s,t in d.items():\n",
    "    if t>n and t<=l:\n",
    "        m.update({s:t})\n",
    "print(m)"
   ]
  },
  {
   "cell_type": "code",
   "execution_count": 33,
   "id": "ee9f5cde",
   "metadata": {},
   "outputs": [
    {
     "name": "stdout",
     "output_type": "stream",
     "text": [
      "Enter a string: Cat dog dog cat horse dog dog mouse horse dog mouse tiger lion tiger cat mouse snail”\n",
      "{'dog': 5, 'mouse': 3, 'cat': 2}\n"
     ]
    }
   ],
   "source": [
    "x=input(\"Enter a string: \")\n",
    "l=x.split()\n",
    "a=0;b=0;c=0;d={};a1=\"\";b1=\"\";c1=\"\"\n",
    "for x in l:\n",
    "    if l.count(x)>a:\n",
    "        a=l.count(x)\n",
    "        a1=x\n",
    "for x in range(1,a):\n",
    "    l.remove(a1)\n",
    "for y in l:\n",
    "    if l.count(y)>b:\n",
    "        b=l.count(y)\n",
    "        b1=y\n",
    "for y in range(1,b):\n",
    "    l.remove(b1)\n",
    "for z in l:\n",
    "    if l.count(z)>c:\n",
    "        c=l.count(z)\n",
    "        c1=z\n",
    "d.update({a1:a,b1:b,c1:c})\n",
    "print(d)"
   ]
  },
  {
   "cell_type": "code",
   "execution_count": 37,
   "id": "4bc6e2f9",
   "metadata": {},
   "outputs": [
    {
     "name": "stdout",
     "output_type": "stream",
     "text": [
      "how many inputs do you want:4\n",
      "enter the subject:MATHS\n",
      "enter marks:75\n",
      "enter the subject:PHY\n",
      "enter marks:58\n",
      "enter the subject:CHE\n",
      "enter marks:56\n",
      "enter the subject:PYTHON\n",
      "enter marks:82\n",
      "{'MATHS': 75, 'PHY': 58, 'CHE': 56, 'PYTHON': 82}\n"
     ]
    }
   ],
   "source": [
    "#12. Write a python program that accepts name of given subject and mark, and make subject as keys in dictionaries \n",
    "#and marks as values and print the final dictionary with subjects and marks.\n",
    "a=int(input(\"how many inputs do you want:\"))\n",
    "d1={}\n",
    "for z in range(a):\n",
    "    x=input(\"enter the subject:\")\n",
    "    y=int(input(\"enter marks:\"))\n",
    "    d1.update({x:y})\n",
    "print(d1)\n",
    "    "
   ]
  },
  {
   "cell_type": "code",
   "execution_count": null,
   "id": "2bd8716d",
   "metadata": {},
   "outputs": [],
   "source": []
  }
 ],
 "metadata": {
  "kernelspec": {
   "display_name": "Python 3 (ipykernel)",
   "language": "python",
   "name": "python3"
  },
  "language_info": {
   "codemirror_mode": {
    "name": "ipython",
    "version": 3
   },
   "file_extension": ".py",
   "mimetype": "text/x-python",
   "name": "python",
   "nbconvert_exporter": "python",
   "pygments_lexer": "ipython3",
   "version": "3.9.13"
  }
 },
 "nbformat": 4,
 "nbformat_minor": 5
}
