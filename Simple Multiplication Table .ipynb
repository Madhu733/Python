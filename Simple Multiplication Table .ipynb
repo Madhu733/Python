{
 "cells": [
  {
   "cell_type": "code",
   "execution_count": 1,
   "id": "d21832be",
   "metadata": {},
   "outputs": [
    {
     "name": "stdout",
     "output_type": "stream",
     "text": [
      "Enter which multiplication table you want to get : 10\n",
      "Enter upto what values you want to get : 10\n",
      "10 * 1 = 10\n",
      "10 * 2 = 20\n",
      "10 * 3 = 30\n",
      "10 * 4 = 40\n",
      "10 * 5 = 50\n",
      "10 * 6 = 60\n",
      "10 * 7 = 70\n",
      "10 * 8 = 80\n",
      "10 * 9 = 90\n",
      "10 * 10 = 100\n"
     ]
    }
   ],
   "source": [
    "# Create a simple multiplication table:\n",
    "Table=int(input(\"Enter which multiplication table you want to get : \"))\n",
    "Value=int(input(\"Enter upto what values you want to get : \"))\n",
    "for i in range(1,Value+1):\n",
    "    print(\"{} * {} = {}\".format(Table,i,Table*i))"
   ]
  },
  {
   "cell_type": "code",
   "execution_count": 2,
   "id": "94fe4eed",
   "metadata": {},
   "outputs": [],
   "source": [
    "# Create a simple multiplication table:\n",
    "def table(x,y):\n",
    "    for y in range(1,y+1):\n",
    "        print(\"{} * {} = {}\".format(x,y,x*y))\n",
    "        "
   ]
  },
  {
   "cell_type": "code",
   "execution_count": 3,
   "id": "6f9c118d",
   "metadata": {},
   "outputs": [
    {
     "name": "stdout",
     "output_type": "stream",
     "text": [
      "5 * 1 = 5\n",
      "5 * 2 = 10\n",
      "5 * 3 = 15\n",
      "5 * 4 = 20\n",
      "5 * 5 = 25\n",
      "5 * 6 = 30\n",
      "5 * 7 = 35\n",
      "5 * 8 = 40\n",
      "5 * 9 = 45\n",
      "5 * 10 = 50\n"
     ]
    }
   ],
   "source": [
    "table(5,10)"
   ]
  },
  {
   "cell_type": "code",
   "execution_count": null,
   "id": "d8fc63cb",
   "metadata": {},
   "outputs": [],
   "source": []
  }
 ],
 "metadata": {
  "kernelspec": {
   "display_name": "Python 3 (ipykernel)",
   "language": "python",
   "name": "python3"
  },
  "language_info": {
   "codemirror_mode": {
    "name": "ipython",
    "version": 3
   },
   "file_extension": ".py",
   "mimetype": "text/x-python",
   "name": "python",
   "nbconvert_exporter": "python",
   "pygments_lexer": "ipython3",
   "version": "3.9.13"
  }
 },
 "nbformat": 4,
 "nbformat_minor": 5
}
