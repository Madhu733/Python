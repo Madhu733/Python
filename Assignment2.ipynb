{
 "cells": [
  {
   "cell_type": "code",
   "execution_count": 1,
   "id": "4ce14715",
   "metadata": {},
   "outputs": [
    {
     "name": "stdout",
     "output_type": "stream",
     "text": [
      "Enter first number:10\n",
      "Enter a second number:4\n",
      "Multiplications of two numbers is: 40\n",
      "Divison of two numbers is: 2.5\n"
     ]
    }
   ],
   "source": [
    "#1) Write a program to accept two numbers from the user and calculate multiplication, division\n",
    "a=int(input(\"Enter first number:\"))\n",
    "b=int(input(\"Enter a second number:\"))\n",
    "for_multiplication=a*b\n",
    "for_division=a/b\n",
    "print(\"Multiplications of two numbers is:\",for_multiplication)\n",
    "print(\"Divison of two numbers is:\",for_division)\n",
    "\n"
   ]
  },
  {
   "cell_type": "code",
   "execution_count": 2,
   "id": "1831c0bd",
   "metadata": {},
   "outputs": [
    {
     "name": "stdout",
     "output_type": "stream",
     "text": [
      "Enter a string :Python\n",
      "Even indexed String characters are:  Pto\n"
     ]
    }
   ],
   "source": [
    "#2) Write a python program to print the characters from a string that are present at an even index\n",
    "x=input(\"Enter a string :\")\n",
    "y=list(x)\n",
    "z=\" \"\n",
    "for i in range(0,len(x)):\n",
    "    if i%2==0:\n",
    "        z=z+y[i]\n",
    "print(\"Even indexed String characters are:\",z)\n",
    "        "
   ]
  },
  {
   "cell_type": "code",
   "execution_count": 4,
   "id": "1df76031",
   "metadata": {},
   "outputs": [
    {
     "name": "stdout",
     "output_type": "stream",
     "text": [
      "Even characters: ['M', 'd', 'u', 'a', 'a', 'e', 'i']\n"
     ]
    }
   ],
   "source": [
    "str = \"MadhuGanaveni\"\n",
    "even_characters= []\n",
    "for i in range(len(str)):\n",
    "    if i % 2 == 0: \n",
    "        even_characters.append(str[i])\n",
    "print('Even characters: {}'.format(even_characters))"
   ]
  },
  {
   "cell_type": "code",
   "execution_count": 5,
   "id": "950fd57b",
   "metadata": {},
   "outputs": [
    {
     "name": "stdout",
     "output_type": "stream",
     "text": [
      "Enter a string:Stressbust\n",
      "odd indexed string characters:  tesut\n"
     ]
    }
   ],
   "source": [
    "#3)Write a python program to print the characters from a string that are present at an odd index\n",
    "x=input(\"Enter a string:\")\n",
    "y=list(x)\n",
    "z=\" \"\n",
    "for i in range(len(x)):\n",
    "    if i%2==1:\n",
    "        z=z+y[i]\n",
    "print(\"odd indexed string characters:\",z)"
   ]
  },
  {
   "cell_type": "code",
   "execution_count": 6,
   "id": "84e55db7",
   "metadata": {},
   "outputs": [
    {
     "name": "stdout",
     "output_type": "stream",
     "text": [
      "Enter a first number:22\n",
      "Enter a second number:8\n",
      "Sum of the given two numbers are even: 30\n"
     ]
    }
   ],
   "source": [
    "#4)Write a python program which will print the sum of the two numbers if the two numbers are even \n",
    "#or it will print the difference of two numbers\n",
    "x=int(input(\"Enter a first number:\"))\n",
    "y=int(input(\"Enter a second number:\"))\n",
    "if (x+y)%2==0:\n",
    "    print(\"Sum of the given two numbers are even:\",(x+y))\n",
    "else:\n",
    "    print(\"The difference of two numbers is:\",(x-y))\n",
    "    "
   ]
  },
  {
   "cell_type": "code",
   "execution_count": 7,
   "id": "c2414c93",
   "metadata": {},
   "outputs": [
    {
     "name": "stdout",
     "output_type": "stream",
     "text": [
      "Enter a string:Isupper\n",
      "converting all even indexed alphabets to upper and odd indexed char as lower: IsUpPeR\n"
     ]
    }
   ],
   "source": [
    "#5) Write a python program to convert all even indexed alphabets to upper and odd indexed char as lower\n",
    "x=(input(\"Enter a string:\"))\n",
    "z=\"\"\n",
    "for i in range(len(x)):\n",
    "    if i % 2 ==0:\n",
    "        z=z+x[i].upper()\n",
    "    else:\n",
    "        z=z+x[i].lower()\n",
    "print(\"converting all even indexed alphabets to upper and odd indexed char as lower:\",z)"
   ]
  },
  {
   "cell_type": "code",
   "execution_count": 8,
   "id": "705433c3",
   "metadata": {},
   "outputs": [
    {
     "name": "stdout",
     "output_type": "stream",
     "text": [
      "Enter a input: 55\n",
      "True 55 is divisible by 5\n"
     ]
    }
   ],
   "source": [
    "#6)Write a python program which will print True if the input number is divisible by 5 or else False\n",
    "x=int(input(\"Enter a input: \"))\n",
    "if x%5==0:\n",
    "      print(\"True\",x,\"is divisible by 5\")\n",
    "else:\n",
    "      print(\"False\",x,\"is not divisible by 5\")"
   ]
  },
  {
   "cell_type": "code",
   "execution_count": 9,
   "id": "964a9a35",
   "metadata": {},
   "outputs": [
    {
     "name": "stdout",
     "output_type": "stream",
     "text": [
      "Enter a integer number: 10\n",
      "Enter a integer number: 2\n",
      "Sum of the given two integers number is : 12\n"
     ]
    }
   ],
   "source": [
    "#7) Given two integer numbers return their product \n",
    "#only if the product is greater than 1000,\n",
    "#else return their sum.\n",
    "x=int(input(\"Enter a integer number: \"))\n",
    "y=int(input(\"Enter a integer number: \"))\n",
    "if (x*y)>1000:\n",
    "    print(\"The product of the given two integers number is:\",(x*y))\n",
    "else:\n",
    "    print(\"Sum of the given two integers number is :\",(x+y))"
   ]
  },
  {
   "cell_type": "code",
   "execution_count": 10,
   "id": "2ae64f9c",
   "metadata": {},
   "outputs": [
    {
     "name": "stdout",
     "output_type": "stream",
     "text": [
      "Enter a first string:PythonR\n",
      "Enter a second string:JavaJs\n",
      "new string made of x and y’s 1st,middle,& last characters: PJhaRs\n"
     ]
    }
   ],
   "source": [
    "#8) Given two strings x, y writes a program to return a new string \n",
    "#made of x and y’s first, middle, and last characters\n",
    "#X= ”PythonR” Y= ”JavaJs”\n",
    "#Output ”PJhaRs”\n",
    "x=input(\"Enter a first string:\")\n",
    "y=input(\"Enter a second string:\")\n",
    "a=len(x)//2\n",
    "b=len(y)//2\n",
    "print(\"new string made of x and y’s 1st,middle,& last characters:\",x[0]+y[0]+x[a]+y[b]+x[-1]+y[-1])\n"
   ]
  },
  {
   "cell_type": "code",
   "execution_count": 11,
   "id": "59bc3a3a",
   "metadata": {},
   "outputs": [
    {
     "name": "stdout",
     "output_type": "stream",
     "text": [
      "Enter a string:RAM,TOM,BHEEM\n",
      "Name1: RAM \n",
      "Name2: TOM \n",
      "Name3: BHEEM\n"
     ]
    }
   ],
   "source": [
    "#9)Write a python program to take three names as input from a user in the single input () function call\n",
    "#Example:Input:\n",
    "#Enter three names: - “person1 person2 person3”\n",
    "#Output:\n",
    "#Name1: - “person1” \n",
    "#Name2: - “person2” \n",
    "#Name3: - “person3”\n",
    "x=input(\"Enter a string:\")\n",
    "y=x.split(\",\")\n",
    "print(\"Name1:\",y[0],\"\\n\"\"Name2:\",y[1],\"\\n\"\"Name3:\",y[2])\n",
    "    "
   ]
  },
  {
   "cell_type": "code",
   "execution_count": 12,
   "id": "8e01825a",
   "metadata": {},
   "outputs": [
    {
     "name": "stdout",
     "output_type": "stream",
     "text": [
      "Enter a string:kukatpally\n",
      "ku@atpally\n"
     ]
    }
   ],
   "source": [
    "#10)Write a Python program to get a string from a given string where all occurrences of its first char have been changed to '@', except the first char itself. \n",
    "#Example: Input:'malayalam’\n",
    "#Output: 'malayala@'\n",
    "#Input: ' abcabab'\n",
    "#Output:‘abc@b@b’\n",
    "x=input(\"Enter a string:\")\n",
    "b=x[0]\n",
    "for i in range(1,len(x)):\n",
    "    if x[i]==x[0]:\n",
    "        b=b+\"@\"\n",
    "    else:\n",
    "        b=b+x[i]\n",
    "print(b)"
   ]
  },
  {
   "cell_type": "code",
   "execution_count": 13,
   "id": "e81328a7",
   "metadata": {},
   "outputs": [
    {
     "name": "stdout",
     "output_type": "stream",
     "text": [
      "Enter a string: Metavarse\n",
      "Metavarseing\n"
     ]
    }
   ],
   "source": [
    "#11)Write a Python program to add 'ing' at the end of a given string (string length should be equal to or more than 3). If the given string already ends with 'ing' then add 'ly' instead. If the string length of the given string is less than 3, leave it unchanged\n",
    "#Example:Input:\n",
    "#'sing’\n",
    "#Output:'singing'\n",
    "#Input:' playing'\n",
    "#Output:‘playly’\n",
    "#Input:' on'\n",
    "#Output:‘on’\n",
    "x=input(\"Enter a string: \")\n",
    "y=''\n",
    "if len(x)>=3 and x.endswith(\"ing\"):\n",
    "    a=x.strip(\"ing\")\n",
    "    y=a+\"ly\"\n",
    "elif len(x)<3:\n",
    "    y=x\n",
    "else:\n",
    "    y=x+\"ing\"\n",
    "print(y)"
   ]
  },
  {
   "cell_type": "code",
   "execution_count": 14,
   "id": "2f7ac879",
   "metadata": {},
   "outputs": [
    {
     "name": "stdout",
     "output_type": "stream",
     "text": [
      "Enter num1:8\n",
      "Enter num2:2\n",
      "True one of them is 10 or if their sum is 10\n"
     ]
    }
   ],
   "source": [
    "#12) Write a python program that accepts two inputs num1 and num2 print True \n",
    "#if one of them is 10 or if their sum is 10 otherwise false\n",
    "a=int(input(\"Enter num1:\"))\n",
    "b=int(input(\"Enter num2:\"))\n",
    "if a==10 or b==10 or (a+b)==10:\n",
    "    print(True,\"one of them is 10 or if their sum is 10\")\n",
    "else:\n",
    "    print(\"False\")"
   ]
  },
  {
   "cell_type": "code",
   "execution_count": 15,
   "id": "9eb87482",
   "metadata": {},
   "outputs": [
    {
     "name": "stdout",
     "output_type": "stream",
     "text": [
      "Enter x:22\n",
      "Enter y:13\n",
      "Enter z:120\n",
      "True\n"
     ]
    }
   ],
   "source": [
    "#13) Write a python program that accepts three inputs x, y and z print True if x*y>z otherwise False\n",
    "x=int(input(\"Enter x:\"))\n",
    "y=int(input(\"Enter y:\"))\n",
    "z=int(input(\"Enter z:\"))\n",
    "if (x*y)>z:\n",
    "    print(True)\n",
    "else:\n",
    "    print(False)"
   ]
  },
  {
   "cell_type": "code",
   "execution_count": 16,
   "id": "8413a81a",
   "metadata": {},
   "outputs": [
    {
     "name": "stdout",
     "output_type": "stream",
     "text": [
      "Enter a string: Data\n",
      "Enter a string: alpha\n",
      "False\n"
     ]
    }
   ],
   "source": [
    "#14) Write a python program that accepts two strings inputs \n",
    "#return True depending on whether the total number of characters in the secong string\n",
    "\n",
    "x=input(\"Enter a string: \")\n",
    "y=input(\"Enter a string: \")\n",
    "if len(x)==len(y):\n",
    "    print(True)\n",
    "else:\n",
    "    print(False)"
   ]
  },
  {
   "cell_type": "code",
   "execution_count": 17,
   "id": "2bf73421",
   "metadata": {},
   "outputs": [
    {
     "name": "stdout",
     "output_type": "stream",
     "text": [
      "Enter a string: Strings\n",
      "StringsStrStrStr\n"
     ]
    }
   ],
   "source": [
    "#15) Write a python program that takes a string input, \n",
    "#we'll say that the front is the first three characters of the string. If the string \n",
    "# is less than 3 characters,the front is whatever is there.return new string,which is 3 copies of front\n",
    "x=input(\"Enter a string: \")\n",
    "if len(x)<3:\n",
    "    print(x)\n",
    "else:\n",
    "    print(x+x[:3]*3)"
   ]
  },
  {
   "cell_type": "code",
   "execution_count": 18,
   "id": "fd5b298f",
   "metadata": {},
   "outputs": [
    {
     "name": "stdout",
     "output_type": "stream",
     "text": [
      "Enter a word: consoles\n",
      "True\n"
     ]
    }
   ],
   "source": [
    "#16) Write a python program that takes in a word and determines \n",
    "#whether or not it is plural. A plural word is one that ends with 's'\n",
    "x=input(\"Enter a word: \")\n",
    "if x.endswith('s') or  x.endswith('S'):\n",
    "    print(True)\n",
    "else:\n",
    "    print(False)\n"
   ]
  },
  {
   "cell_type": "code",
   "execution_count": 19,
   "id": "922bd11e",
   "metadata": {},
   "outputs": [
    {
     "name": "stdout",
     "output_type": "stream",
     "text": [
      "tell me your age:24\n",
      "Whether on Break or Not in True or false: false\n",
      "Should serve the drink\n"
     ]
    }
   ],
   "source": [
    "#17) A bartender is writing a simple program to determine whether\n",
    " #he should serve drinks to someone. He only serves drinks to people \n",
    "x=int(input(\"tell me your age:\"))\n",
    "y=input(\"Whether on Break or Not in True or false: \")\n",
    "if x>=18 and y==\"false\":\n",
    "    print(\"Should serve the drink\")\n",
    "else:\n",
    "    print(\"Should not serve\")"
   ]
  },
  {
   "cell_type": "code",
   "execution_count": 20,
   "id": "2eed9e59",
   "metadata": {},
   "outputs": [
    {
     "name": "stdout",
     "output_type": "stream",
     "text": [
      "Enter the Name: Tarun\n",
      "Relation is brother\n"
     ]
    }
   ],
   "source": [
    "#18) Manoj Kumar has family and friends. Help him remind them who is who.\n",
    "#Given a string with a name, return the relation of that person to Manoj Kumar.\n",
    "#Person----Relation\n",
    "#Shiva   -  father\n",
    "#Letha   -  mother\n",
    "#Tarun   -  brother\n",
    "#Kavitha -  sister\n",
    "\n",
    "x=input(\"Enter the Name: \")\n",
    "person=[\"Shiva\",\"Letha\",\"Tarun\",\"Kavitha\"]\n",
    "rel=[\"father\",\"mother\",\"brother\",\"sister\"]\n",
    "if x==person[0]:\n",
    "    print(\"Relation is \"+rel[0])\n",
    "elif x==person[1]:\n",
    "    print(\"Relation is \"+rel[1])\n",
    "elif x==person[2]:\n",
    "    print(\"Relation is \"+rel[2])\n",
    "elif x==person[3]:\n",
    "    print(\"Relation is \"+rel[3])\n",
    "else:\n",
    "    print(\"Relation not found\")"
   ]
  },
  {
   "cell_type": "code",
   "execution_count": 21,
   "id": "ef700a06",
   "metadata": {},
   "outputs": [
    {
     "name": "stdout",
     "output_type": "stream",
     "text": [
      "Enter a string: abcedefghijkamnopqrstubvwxyz\n",
      "Vowels: aeeiaou\n",
      "Consonants: bcdfghjkmnpqrstbvwxyz\n"
     ]
    }
   ],
   "source": [
    "#19) Write a python program that takes a string, breaks it up \n",
    "#and returns it with vowels first, consonants second. For any char\n",
    "x=input(\"Enter a string: \")\n",
    "vow=\"\";con=\"\"\n",
    "for y in range(0,len(x)):\n",
    "    if x[y]==\"a\" or x[y]==\"e\" or x[y]==\"i\" or x[y]==\"o\" or x[y]==\"u\" or x[y]==\"A\" or x[y]==\"E\" or x[y]==\"I\" or x[y]==\"O\" or x[y]==\"U\":\n",
    "        vow+=x[y]\n",
    "    else:\n",
    "        con+=x[y]\n",
    "print(\"Vowels: \"+vow+\"\\nConsonants: \"+con)"
   ]
  },
  {
   "cell_type": "code",
   "execution_count": null,
   "id": "80fd9b4d",
   "metadata": {},
   "outputs": [],
   "source": []
  }
 ],
 "metadata": {
  "kernelspec": {
   "display_name": "Python 3 (ipykernel)",
   "language": "python",
   "name": "python3"
  },
  "language_info": {
   "codemirror_mode": {
    "name": "ipython",
    "version": 3
   },
   "file_extension": ".py",
   "mimetype": "text/x-python",
   "name": "python",
   "nbconvert_exporter": "python",
   "pygments_lexer": "ipython3",
   "version": "3.9.13"
  }
 },
 "nbformat": 4,
 "nbformat_minor": 5
}
