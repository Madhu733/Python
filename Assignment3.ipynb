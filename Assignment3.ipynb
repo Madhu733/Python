{
 "cells": [
  {
   "cell_type": "code",
   "execution_count": 1,
   "id": "13cffa06",
   "metadata": {},
   "outputs": [
    {
     "name": "stdout",
     "output_type": "stream",
     "text": [
      "0\n",
      "1\n",
      "2\n",
      "4\n",
      "5\n"
     ]
    }
   ],
   "source": [
    "for x in range(0,7):\n",
    "    if x%3==0 and x!=0:\n",
    "        continue\n",
    "    else:\n",
    "        print(x)"
   ]
  },
  {
   "cell_type": "code",
   "execution_count": 4,
   "id": "c5678bfc",
   "metadata": {},
   "outputs": [
    {
     "name": "stdout",
     "output_type": "stream",
     "text": [
      "Enter a number:5\n",
      "15\n"
     ]
    }
   ],
   "source": [
    "#2) Write a program to accept a number from a user and calculate \n",
    "#the sum of all numbers from 1 to a given number\n",
    "x=int(input(\"Enter a number:\"))\n",
    "y=0\n",
    "for i in range(0,x+1):\n",
    "    y=y+i\n",
    "print(y)"
   ]
  },
  {
   "cell_type": "code",
   "execution_count": 7,
   "id": "7ed196bc",
   "metadata": {},
   "outputs": [
    {
     "name": "stdout",
     "output_type": "stream",
     "text": [
      "Enter a number:4528\n",
      "4\n"
     ]
    }
   ],
   "source": [
    "#4) Write a program to count the total number of digits in a number using a while loop.\n",
    "#For example, the number is 75869, so the output should be 5\n",
    "x=input(\"Enter a number:\")\n",
    "y=0\n",
    "while y<len(x):\n",
    "    y=y+1\n",
    "print(y)"
   ]
  },
  {
   "cell_type": "code",
   "execution_count": 8,
   "id": "827e9b92",
   "metadata": {},
   "outputs": [],
   "source": [
    "#5) Write a Python program to guess a number between 1 to\n",
    "#Example:\n",
    "#User is prompted to enter a guess. If the user guesses wrong then the prompt appears again until the guess\n",
    "#is correct, on successful guess, user will get a \"Well guessed!\" message, and the program will exit."
   ]
  },
  {
   "cell_type": "code",
   "execution_count": 12,
   "id": "5b7505f1",
   "metadata": {},
   "outputs": [
    {
     "name": "stdout",
     "output_type": "stream",
     "text": [
      "1\n",
      "2\n",
      "Fizz\n",
      "4\n",
      "Buzz\n",
      "Fizz\n",
      "7\n",
      "8\n",
      "Fizz\n",
      "Buzz\n",
      "11\n",
      "Fizz\n",
      "13\n",
      "14\n",
      "FizzBuzz\n",
      "16\n",
      "17\n",
      "Fizz\n",
      "19\n",
      "Buzz\n",
      "Fizz\n",
      "22\n",
      "23\n",
      "Fizz\n",
      "Buzz\n",
      "26\n",
      "Fizz\n",
      "28\n",
      "29\n",
      "FizzBuzz\n",
      "31\n",
      "32\n",
      "Fizz\n",
      "34\n",
      "Buzz\n",
      "Fizz\n",
      "37\n",
      "38\n",
      "Fizz\n",
      "Buzz\n",
      "41\n",
      "Fizz\n",
      "43\n",
      "44\n",
      "FizzBuzz\n",
      "46\n",
      "47\n",
      "Fizz\n",
      "49\n",
      "Buzz\n",
      "Fizz\n",
      "52\n",
      "53\n",
      "Fizz\n",
      "Buzz\n",
      "56\n",
      "Fizz\n",
      "58\n",
      "59\n",
      "FizzBuzz\n"
     ]
    }
   ],
   "source": [
    "#6) Write a Python program which iterates the integers from 1 to 60.\n",
    "#For multiples of three print \"Fizz\" instead of the number and for the multiples of five print \"Buzz\".\n",
    "#For numbers which are multiples of both three and five print \"FizzBuzz\".\n",
    "for i in range(1,61):\n",
    "    if i%3==0 and i%5==0:\n",
    "        print(\"FizzBuzz\")\n",
    "    elif i%3==0:\n",
    "        print(\"Fizz\")\n",
    "    elif i%3==0 and i%5==0:\n",
    "        print(\"FizzBuzz\")\n",
    "    elif i%5==0:\n",
    "        print(\"Buzz\")\n",
    "    else:\n",
    "        print(i)"
   ]
  },
  {
   "cell_type": "code",
   "execution_count": 20,
   "id": "540463f4",
   "metadata": {},
   "outputs": [
    {
     "name": "stdout",
     "output_type": "stream",
     "text": [
      "enter a string :python 3.25\n",
      "Letters present : 6 \n",
      "Digits present : 5\n"
     ]
    }
   ],
   "source": [
    "#7) Write a Python program that accepts a string and calculate the number of digits and letters\n",
    "#Example: Input\n",
    "#Python 3.2\n",
    "#Output\n",
    "#Letters 6 Digits 2\n",
    "x=input(\"enter a string :\")\n",
    "a=0\n",
    "b=0\n",
    "for y in range(0,len(x)):\n",
    "    if x[y].isalpha():\n",
    "        a=a+1\n",
    "    else:\n",
    "        x[y].isdigit()\n",
    "        b=b+1\n",
    "print(\"Letters present :\",a,\"\\n\"\"Digits present :\",b)"
   ]
  },
  {
   "cell_type": "code",
   "execution_count": 1,
   "id": "f175f1ec",
   "metadata": {},
   "outputs": [
    {
     "name": "stdout",
     "output_type": "stream",
     "text": [
      "enter a password:Capital@069\n",
      "valid password\n"
     ]
    }
   ],
   "source": [
    "#8) Write a Python program to check the validity of password input by users.\n",
    "#Validation:\n",
    "#At least 1 letter between [a-z] and 1 letter between [A-Z].\n",
    "#At least 1 number between [0-9]. At least 1 character from [$#@].\n",
    "#Minimum length 6 characters. Maximum length 16 characters.\n",
    "x=input(\"enter a password:\")\n",
    "for y in range(0,len(x)):\n",
    "    if x[y].islower() and x[y].isupper() and x[y].isdigit() and x[y]==\"$\" or x[y]==\"#\" or x[y]==\"@\":\n",
    "        a+=1\n",
    "    else:\n",
    "        break\n",
    "if 6<=len(x)<=16:\n",
    "    print(\"valid password\")\n",
    "else:\n",
    "    print(\"invalid password\")"
   ]
  },
  {
   "cell_type": "code",
   "execution_count": 5,
   "id": "a72ce91b",
   "metadata": {},
   "outputs": [
    {
     "name": "stdout",
     "output_type": "stream",
     "text": [
      "Enter a string:loop\n",
      "pool\n"
     ]
    }
   ],
   "source": [
    "#9) Write a program in Python to reverse a word by using while loop.\n",
    "x=input(\"Enter a string:\")\n",
    "y=\"\"\n",
    "a=1\n",
    "while a<len(x)+1:\n",
    "    y=y+x[-a]\n",
    "    a=a+1\n",
    "print(y)\n",
    "\n"
   ]
  },
  {
   "cell_type": "code",
   "execution_count": 9,
   "id": "9999701c",
   "metadata": {},
   "outputs": [
    {
     "name": "stdout",
     "output_type": "stream",
     "text": [
      "Give a number: 10\n",
      "Give a number: 5\n",
      "Give a number: 7\n",
      "Give a number: 8\n",
      "Give a number: 3\n",
      "Give a number: 5\n",
      "Give a number: 2\n",
      "Give a number: 1\n",
      "Give a number: 3\n",
      "Give a number: 5\n",
      "Average: 4.8999999999999995\n"
     ]
    }
   ],
   "source": [
    "#10) Write a program which takes 10 integers as input using loop and \n",
    "#print their average value on the screen\n",
    "avg=0\n",
    "for x in range(0,10):\n",
    "    y=int(input(\"Give a number: \"))\n",
    "    avg=avg+y/10\n",
    "print(\"Average:\",avg)\n",
    "\n"
   ]
  },
  {
   "cell_type": "code",
   "execution_count": 15,
   "id": "27cefa35",
   "metadata": {},
   "outputs": [
    {
     "name": "stdout",
     "output_type": "stream",
     "text": [
      "Give a number:8\n",
      "if you want to quit 'q':l\n",
      "Give a number:5\n",
      "if you want to quit 'q':y\n",
      "Give a number:4\n",
      "if you want to quit 'q':m\n",
      "Give a number:11\n",
      "if you want to quit 'q':q\n",
      "sum is = 28 \n",
      "product is = 1760\n"
     ]
    }
   ],
   "source": [
    "#11) Write a program which takes integer inputs from user until he/she presses “q” \n",
    "#(Ask to press q to quit after every integer input). Print average and product of all numbers.\n",
    "x=\"\"\n",
    "a=0;b=1\n",
    "while not(x=='q'):\n",
    "    y=int(input(\"Give a number:\"))\n",
    "    a=a+y\n",
    "    b=b*y\n",
    "    x=(input(\"if you want to quit 'q':\"))\n",
    "print(\"sum is =\",a,\"\\n\"\"product is =\",b)\n",
    "\n",
    "\n",
    "\n"
   ]
  },
  {
   "cell_type": "code",
   "execution_count": 20,
   "id": "2e035fa8",
   "metadata": {},
   "outputs": [
    {
     "name": "stdout",
     "output_type": "stream",
     "text": [
      "M@d456u\n",
      "Mdu\n"
     ]
    }
   ],
   "source": [
    "#12) Write a Python program which will remove all digits or \n",
    "#any other characters from the string except alphabets\n",
    "#Example: Input:\n",
    "#“asd12.asd22”\n",
    "#Output: 'asdasd'\n",
    "x=input()\n",
    "b=\"\"\n",
    "for y in range(0,len(x)):\n",
    "    if x[y].isalpha():\n",
    "        b=b+x[y]\n",
    "    else:\n",
    "        continue\n",
    "print(b)\n",
    "    "
   ]
  },
  {
   "cell_type": "code",
   "execution_count": 21,
   "id": "ee0fcea2",
   "metadata": {},
   "outputs": [
    {
     "name": "stdout",
     "output_type": "stream",
     "text": [
      "20\n"
     ]
    }
   ],
   "source": [
    "#13)  Write a python program to find the sum of all even numbers from 0 to 10.\n",
    "sum=0\n",
    "for x in range(0,10):\n",
    "    if x%2==0:\n",
    "        sum=sum+x\n",
    "    else:\n",
    "        continue\n",
    "print(sum)"
   ]
  },
  {
   "cell_type": "code",
   "execution_count": 27,
   "id": "b7d282cc",
   "metadata": {},
   "outputs": [
    {
     "name": "stdout",
     "output_type": "stream",
     "text": [
      "Give a number:9\n",
      "8\n",
      "7\n",
      "6\n",
      "5\n",
      "4\n",
      "3\n",
      "2\n",
      "1\n",
      "0\n"
     ]
    }
   ],
   "source": [
    "#14) Write a python program which will accept a digit and print All the numbers before it till 0\n",
    "#Example: Input: 5\n",
    "#Output:\n",
    "#4 \n",
    "#3 \n",
    "#2 \n",
    "#1 \n",
    "#0\n",
    "y=int(input(\"Give a number:\"))\n",
    "for x in range(y-1,-1,-1):\n",
    "    print(x)"
   ]
  },
  {
   "cell_type": "code",
   "execution_count": null,
   "id": "cb6744f3",
   "metadata": {},
   "outputs": [],
   "source": []
  },
  {
   "cell_type": "code",
   "execution_count": null,
   "id": "2442f973",
   "metadata": {},
   "outputs": [],
   "source": []
  },
  {
   "cell_type": "code",
   "execution_count": null,
   "id": "6e64951b",
   "metadata": {},
   "outputs": [],
   "source": []
  },
  {
   "cell_type": "code",
   "execution_count": null,
   "id": "20047d58",
   "metadata": {},
   "outputs": [],
   "source": []
  },
  {
   "cell_type": "code",
   "execution_count": null,
   "id": "86480330",
   "metadata": {},
   "outputs": [],
   "source": []
  }
 ],
 "metadata": {
  "kernelspec": {
   "display_name": "Python 3 (ipykernel)",
   "language": "python",
   "name": "python3"
  },
  "language_info": {
   "codemirror_mode": {
    "name": "ipython",
    "version": 3
   },
   "file_extension": ".py",
   "mimetype": "text/x-python",
   "name": "python",
   "nbconvert_exporter": "python",
   "pygments_lexer": "ipython3",
   "version": "3.9.13"
  }
 },
 "nbformat": 4,
 "nbformat_minor": 5
}
