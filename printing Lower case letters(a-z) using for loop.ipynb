{
 "cells": [
  {
   "cell_type": "code",
   "execution_count": 3,
   "id": "401ab0be",
   "metadata": {},
   "outputs": [
    {
     "name": "stdout",
     "output_type": "stream",
     "text": [
      "   *  \n",
      "*     * \n",
      "*     * \n",
      "*   *   *\n",
      "          * \n"
     ]
    }
   ],
   "source": [
    "for i in range(1,6):\n",
    "    if i==1:\n",
    "        print(\"   *  \")\n",
    "    elif i==2 or i==3:\n",
    "        print(\"*     * \")\n",
    "    elif i==4:\n",
    "        print(\"*   *   *\")\n",
    "    else:\n",
    "        print(\"          * \")\n",
    "    "
   ]
  },
  {
   "cell_type": "code",
   "execution_count": 10,
   "id": "ac1b2d9a",
   "metadata": {},
   "outputs": [
    {
     "name": "stdout",
     "output_type": "stream",
     "text": [
      "*\n",
      "*\n",
      "*   *\n",
      "*     *\n",
      " *  * *\n"
     ]
    }
   ],
   "source": [
    "for x in range(1,6):\n",
    "    if x==1 or x==2:\n",
    "        print(\"*\")\n",
    "    elif x==3:\n",
    "        print(\"*   *\")\n",
    "    elif x==4:\n",
    "        print(\"*     *\")\n",
    "    else:\n",
    "        print(\" *  * *\")"
   ]
  },
  {
   "cell_type": "code",
   "execution_count": 17,
   "id": "1a2cf343",
   "metadata": {},
   "outputs": [
    {
     "name": "stdout",
     "output_type": "stream",
     "text": [
      "*  * *\n",
      "*\n",
      "*  * *\n"
     ]
    }
   ],
   "source": [
    "for c in range (1,4):\n",
    "    if c==1 or c==3:\n",
    "        print(\"*  * *\")\n",
    "    else:\n",
    "        print(\"*\")\n",
    "    "
   ]
  },
  {
   "cell_type": "code",
   "execution_count": 20,
   "id": "f3902bed",
   "metadata": {},
   "outputs": [
    {
     "name": "stdout",
     "output_type": "stream",
     "text": [
      "    *\n",
      "    *\n",
      "    *\n",
      "* * * \n",
      "*   *\n",
      "* * * \n",
      "     *\n"
     ]
    }
   ],
   "source": [
    "for d in range(1,8):\n",
    "    if d==1 or d==2 or d==3:\n",
    "        print(\"    *\")\n",
    "    elif d==4 or d==6:\n",
    "        print(\"* * * \")\n",
    "    elif d==7:\n",
    "        print(\"     *\")\n",
    "    else:\n",
    "        print(\"*   *\")"
   ]
  },
  {
   "cell_type": "code",
   "execution_count": 23,
   "id": "cabad434",
   "metadata": {},
   "outputs": [
    {
     "name": "stdout",
     "output_type": "stream",
     "text": [
      "*  * *\n",
      "*    *\n",
      "*  * *\n",
      "*\n",
      "* * * * *\n"
     ]
    }
   ],
   "source": [
    "for e in range(1,6):\n",
    "    if e==1 or e==3:\n",
    "        print(\"*  * *\")\n",
    "    elif e==2:\n",
    "        print(\"*    *\")\n",
    "    elif e==4:\n",
    "        print(\"*\")\n",
    "    else:\n",
    "        print(\"* * * * *\")"
   ]
  },
  {
   "cell_type": "code",
   "execution_count": 34,
   "id": "efc7424e",
   "metadata": {},
   "outputs": [
    {
     "name": "stdout",
     "output_type": "stream",
     "text": [
      "  * \n",
      "*   *\n",
      "*\n",
      "* * *\n",
      "*\n",
      "*\n",
      "*\n"
     ]
    }
   ],
   "source": [
    "for f in range(1,8):\n",
    "    if f==1:\n",
    "        print(\"  * \")\n",
    "    elif f==2:\n",
    "        print(\"*   *\")\n",
    "    elif  f==4:\n",
    "        print(\"* * *\")\n",
    "    else:\n",
    "        print(\"*\")"
   ]
  },
  {
   "cell_type": "code",
   "execution_count": 44,
   "id": "5dbcb503",
   "metadata": {},
   "outputs": [
    {
     "name": "stdout",
     "output_type": "stream",
     "text": [
      " *  *  *\n",
      "*      *\n",
      " *  *  *\n",
      "     * * * *\n",
      "   *   *\n",
      "   *   *\n",
      "   * **\n"
     ]
    }
   ],
   "source": [
    "for g in range(1,8):\n",
    "    if g==1 or g==3:\n",
    "        print(\" *  *  *\")\n",
    "    elif g==2:\n",
    "        print(\"*      *\")\n",
    "    elif g==4:\n",
    "        print(\"     * * * *\")\n",
    "    elif g==5 or g==6:\n",
    "        print(\"   *   *\")\n",
    "    else:\n",
    "        print(\"   * **\")"
   ]
  },
  {
   "cell_type": "code",
   "execution_count": 55,
   "id": "76be0380",
   "metadata": {},
   "outputs": [
    {
     "name": "stdout",
     "output_type": "stream",
     "text": [
      "*\n",
      "*\n",
      "*\n",
      "* * *\n",
      "*     *\n",
      "*     *\n"
     ]
    }
   ],
   "source": [
    "for h in range(2,8):\n",
    "    if h==2 or h==3 or h==4:\n",
    "        print(\"*\")\n",
    "    elif h==5:\n",
    "        print(\"* * *\")\n",
    "    else:\n",
    "        print(\"*     *\")"
   ]
  },
  {
   "cell_type": "code",
   "execution_count": 80,
   "id": "cd51d553",
   "metadata": {},
   "outputs": [
    {
     "name": "stdout",
     "output_type": "stream",
     "text": [
      "* * *\n",
      "*   *\n",
      "* * *\n",
      "     \n",
      "  *\n",
      "  *\n",
      "  *\n",
      "  *\n",
      "  *\n"
     ]
    }
   ],
   "source": [
    "for j in range(1,10):\n",
    "    if j==1 or j==3:\n",
    "        print(\"* * *\")\n",
    "    elif j==2:\n",
    "        print(\"*   *\")\n",
    "    elif j==4:\n",
    "        print(\"     \")\n",
    "    else:\n",
    "        print(\"  *\")"
   ]
  },
  {
   "cell_type": "code",
   "execution_count": 81,
   "id": "1dd1887e",
   "metadata": {},
   "outputs": [
    {
     "name": "stdout",
     "output_type": "stream",
     "text": [
      "   *  *  *\n",
      "   *     *\n",
      "   *  *  *\n",
      "     \n",
      "        *\n",
      "        *\n",
      "        *\n",
      "        *\n",
      "* * *   *\n"
     ]
    }
   ],
   "source": [
    "for j in range(1,10):\n",
    "    if j==1 or j==3:\n",
    "        print(     \"   *  *  *\")\n",
    "    elif j==2:\n",
    "        print(    \"   *     *\")\n",
    "    elif j==4:\n",
    "        print(     \"     \")\n",
    "    elif j==9:\n",
    "        print(\"* * *   *\")\n",
    "    else:\n",
    "        print(\"        *\")\n",
    "    "
   ]
  },
  {
   "cell_type": "code",
   "execution_count": 87,
   "id": "7e9384db",
   "metadata": {},
   "outputs": [
    {
     "name": "stdout",
     "output_type": "stream",
     "text": [
      "*     *\n",
      "*   *\n",
      "*  *\n",
      "* *\n",
      "*  *\n",
      "*     *\n",
      "*       *\n"
     ]
    }
   ],
   "source": [
    "for k in range(1,8):\n",
    "    if k==1 or k==6:\n",
    "        print(\"*     *\")\n",
    "    elif k==2:\n",
    "        print(\"*   *\")\n",
    "    elif k==4:\n",
    "        print(\"* *\")\n",
    "    elif k==3 or k==5:\n",
    "        print(\"*  *\")\n",
    "    else:\n",
    "        print(\"*       *\")"
   ]
  },
  {
   "cell_type": "code",
   "execution_count": 96,
   "id": "12587485",
   "metadata": {},
   "outputs": [
    {
     "name": "stdout",
     "output_type": "stream",
     "text": [
      "*\n",
      "*\n",
      "*\n",
      "*\n",
      "*\n"
     ]
    }
   ],
   "source": [
    "for l in range(1,3):\n",
    "    for j in range(l):\n",
    "        print(\"*\")\n",
    "    print(\"*\")"
   ]
  },
  {
   "cell_type": "code",
   "execution_count": 118,
   "id": "487e9f06",
   "metadata": {},
   "outputs": [
    {
     "name": "stdout",
     "output_type": "stream",
     "text": [
      "*  *   *\n",
      "  *  *  *\n",
      "  *  *  *\n",
      "  *  *  *\n",
      "  *  *  *\n"
     ]
    }
   ],
   "source": [
    "for x in range(1,6):\n",
    "    if  x==1:\n",
    "            print(\"*  *   *\")\n",
    "    else:\n",
    "        print(\"  *  *  *\")"
   ]
  },
  {
   "cell_type": "code",
   "execution_count": 119,
   "id": "0423cb03",
   "metadata": {},
   "outputs": [
    {
     "name": "stdout",
     "output_type": "stream",
     "text": [
      "*   *  *\n",
      "  *     *\n",
      "  *     *\n",
      "  *     *\n",
      "  *     *\n"
     ]
    }
   ],
   "source": [
    "for i in range (1,6):\n",
    "    if i==1:\n",
    "        print(\"*   *  *\")\n",
    "    else:\n",
    "        print(\"  *     *\")"
   ]
  },
  {
   "cell_type": "code",
   "execution_count": 121,
   "id": "3d601c8d",
   "metadata": {},
   "outputs": [
    {
     "name": "stdout",
     "output_type": "stream",
     "text": [
      " *  *  *\n",
      "*       *\n",
      "*       *\n",
      "*       *\n",
      " *  *  *\n"
     ]
    }
   ],
   "source": [
    "for i in range (1,6):\n",
    "    if i==1 or i==5:\n",
    "        print(\" *  *  *\")\n",
    "    else:\n",
    "        print(\"*       *\")"
   ]
  },
  {
   "cell_type": "code",
   "execution_count": 120,
   "id": "ecfe1a99",
   "metadata": {},
   "outputs": [
    {
     "name": "stdout",
     "output_type": "stream",
     "text": [
      "*\n",
      "*  *  *\n",
      "*     *\n",
      "*  *  *\n",
      "*\n",
      "*\n"
     ]
    }
   ],
   "source": [
    "for i in range (1,7):\n",
    "    if i==1 or i==5 or i==6:\n",
    "         print(\"*\")\n",
    "    elif i==3:\n",
    "        print(\"*     *\")\n",
    "    else:\n",
    "         print(\"*  *  *\")"
   ]
  },
  {
   "cell_type": "code",
   "execution_count": 164,
   "id": "adbd8de4",
   "metadata": {},
   "outputs": [
    {
     "name": "stdout",
     "output_type": "stream",
     "text": [
      " *  *\n",
      "*    *\n",
      " *  *\n",
      "     *   *\n",
      "      * *\n",
      "      *\n"
     ]
    }
   ],
   "source": [
    "for i in range (1,7):\n",
    "    if i==1 or i==3:\n",
    "         print(\" *  *\")\n",
    "    elif i==2:\n",
    "        print(\"*    *\")\n",
    "    elif i==4:\n",
    "        print(\"     *   *\")\n",
    "    elif i==5:\n",
    "        print(\"      * *\")\n",
    "    else:\n",
    "        print(\"      *\")"
   ]
  },
  {
   "cell_type": "code",
   "execution_count": 157,
   "id": "b6f2347b",
   "metadata": {},
   "outputs": [
    {
     "name": "stdout",
     "output_type": "stream",
     "text": [
      "*    *\n",
      "  *\n",
      " *  *\n",
      " *  *\n",
      " *  *\n",
      "  *\n"
     ]
    }
   ],
   "source": [
    "for x in range (1,7):\n",
    "    if x==1:\n",
    "        print(\"*    *\")\n",
    "    elif x==2 or x==6:\n",
    "        print(\"  *\")\n",
    "    else:\n",
    "        print(\" *  *\")"
   ]
  },
  {
   "cell_type": "code",
   "execution_count": 125,
   "id": "c87e8ef8",
   "metadata": {},
   "outputs": [
    {
     "name": "stdout",
     "output_type": "stream",
     "text": [
      "*  *  *\n",
      "*     *\n",
      "  *\n",
      "    *\n",
      "      *\n",
      "*     *\n",
      "*  *  *\n"
     ]
    }
   ],
   "source": [
    "for x in range (1,8):\n",
    "    if x==7 or x==1:\n",
    "        print(\"*  *  *\")\n",
    "    elif x==2 or x==6:\n",
    "        print(\"*     *\")\n",
    "    elif x==3:\n",
    "         print(\"  *\")\n",
    "    elif x==4:\n",
    "         print(\"    *\")\n",
    "    else:\n",
    "         print(\"      *\")"
   ]
  },
  {
   "cell_type": "code",
   "execution_count": 126,
   "id": "3db27933",
   "metadata": {},
   "outputs": [
    {
     "name": "stdout",
     "output_type": "stream",
     "text": [
      "  *\n",
      "* * *\n",
      "  *\n",
      "  *\n",
      "  *  *\n",
      "   **\n"
     ]
    }
   ],
   "source": [
    "for x in range(1,7):\n",
    "        if x==1 or x==3 or x==4:\n",
    "            print(\"  *\")\n",
    "        elif x==2:\n",
    "            print(\"* * *\")\n",
    "        elif x==5:\n",
    "            print(\"  *  *\")\n",
    "        else:\n",
    "             print(\"   **\")"
   ]
  },
  {
   "cell_type": "code",
   "execution_count": 127,
   "id": "4fda11ac",
   "metadata": {},
   "outputs": [
    {
     "name": "stdout",
     "output_type": "stream",
     "text": [
      "  *     *\n",
      "  *     *\n",
      "  *     *\n",
      "  *     *\n",
      "  *     *\n",
      "   *  *  *\n"
     ]
    }
   ],
   "source": [
    "for x in range(1,7):\n",
    "        if x==5 or x==4 or x==3 or x==2 or x==1:\n",
    "            print(\"  *     *\")\n",
    "        else:\n",
    "            print(\"   *  *  *\")"
   ]
  },
  {
   "cell_type": "code",
   "execution_count": 128,
   "id": "bfc208fb",
   "metadata": {},
   "outputs": [
    {
     "name": "stdout",
     "output_type": "stream",
     "text": [
      "*   *\n",
      " * *\n",
      "  *\n"
     ]
    }
   ],
   "source": [
    "for x in range(0,3):\n",
    "    if x==0:\n",
    "        print(\"*   *\")\n",
    "    elif x==1:\n",
    "        print(\" * *\")\n",
    "    else:\n",
    "        print(\"  *\")"
   ]
  },
  {
   "cell_type": "code",
   "execution_count": 152,
   "id": "14346896",
   "metadata": {},
   "outputs": [
    {
     "name": "stdout",
     "output_type": "stream",
     "text": [
      "*      *\n",
      "*      *\n",
      "*   *  *\n",
      "*   *  *\n"
     ]
    }
   ],
   "source": [
    "for w in range(6,10):\n",
    "    if w==6:\n",
    "        print( \"*      *\")\n",
    "    elif w==7:\n",
    "        print(\"*      *\")\n",
    "    elif w==8:\n",
    "        print(\"*   *  *\")\n",
    "    else:\n",
    "        print(\"*   *  *\")\n",
    "    "
   ]
  },
  {
   "cell_type": "code",
   "execution_count": 3,
   "id": "8397ba79",
   "metadata": {},
   "outputs": [
    {
     "name": "stdout",
     "output_type": "stream",
     "text": [
      " *   *\n",
      "  * * \n",
      "   * \n",
      "  * *\n",
      " *   *\n",
      " *   *\n"
     ]
    }
   ],
   "source": [
    "for x in range(0,6):\n",
    "    if x==0:\n",
    "        print(\" *   *\")\n",
    "    elif x==1:\n",
    "        print(\"  * * \")\n",
    "    elif x==2:\n",
    "        print(\"   * \")\n",
    "    elif x==3:\n",
    "        print(\"  * *\")\n",
    "    else:\n",
    "        print(\" *   *\")\n",
    "    "
   ]
  },
  {
   "cell_type": "code",
   "execution_count": 173,
   "id": "ac0dfaf0",
   "metadata": {},
   "outputs": [
    {
     "name": "stdout",
     "output_type": "stream",
     "text": [
      "*   *\n",
      "*   *\n",
      "*   *\n",
      "*   *\n",
      " * *\n",
      "  * \n",
      "  * \n",
      "  * \n",
      "* *\n"
     ]
    }
   ],
   "source": [
    "for x in range(1,10):\n",
    "    if x==1 or x==4 or x==1 or x==2 or x==3:\n",
    "        print(\"*   *\")\n",
    "    elif x==5:\n",
    "        print(\" * *\")\n",
    "    elif x==6 or x==7 or x==8 :\n",
    "        print(\"  * \")\n",
    "    else:\n",
    "        print(\"* *\")\n"
   ]
  },
  {
   "cell_type": "code",
   "execution_count": 130,
   "id": "a0aa1b63",
   "metadata": {},
   "outputs": [
    {
     "name": "stdout",
     "output_type": "stream",
     "text": [
      "* * *\n",
      "    *\n",
      "  *\n",
      " *\n",
      "*\n",
      "* * *\n"
     ]
    }
   ],
   "source": [
    "for x in range (0,6):\n",
    "    if x==0 or x==5:\n",
    "        print(\"* * *\")\n",
    "    elif x==1 :\n",
    "        print(\"    *\")\n",
    "    elif x==2:\n",
    "        print(\"  *\")\n",
    "    elif x==3:\n",
    "        print(\" *\")\n",
    "    elif x==4:\n",
    "        print(\"*\")\n",
    "    else:\n",
    "        print(\"  *\")"
   ]
  },
  {
   "cell_type": "code",
   "execution_count": null,
   "id": "66235c13",
   "metadata": {},
   "outputs": [],
   "source": []
  }
 ],
 "metadata": {
  "kernelspec": {
   "display_name": "Python 3 (ipykernel)",
   "language": "python",
   "name": "python3"
  },
  "language_info": {
   "codemirror_mode": {
    "name": "ipython",
    "version": 3
   },
   "file_extension": ".py",
   "mimetype": "text/x-python",
   "name": "python",
   "nbconvert_exporter": "python",
   "pygments_lexer": "ipython3",
   "version": "3.9.13"
  }
 },
 "nbformat": 4,
 "nbformat_minor": 5
}
