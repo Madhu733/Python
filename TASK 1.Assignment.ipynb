{
 "cells": [
  {
   "cell_type": "code",
   "execution_count": 6,
   "id": "f01b9d6c",
   "metadata": {},
   "outputs": [
    {
     "name": "stdout",
     "output_type": "stream",
     "text": [
      "Enter a string to convert into lower case:MadhuGanaveni 75g9\n"
     ]
    },
    {
     "data": {
      "text/plain": [
       "'madhuganaveni 75g9'"
      ]
     },
     "execution_count": 6,
     "metadata": {},
     "output_type": "execute_result"
    }
   ],
   "source": [
    "#1.Write a python program to convert a string to lower case\n",
    "x=input(\"Enter a string to convert into lower case:\")\n",
    "x.lower()"
   ]
  },
  {
   "cell_type": "code",
   "execution_count": 10,
   "id": "3d5f058d",
   "metadata": {},
   "outputs": [
    {
     "name": "stdout",
     "output_type": "stream",
     "text": [
      "enter a input to convert into odd indexed character to lower case:PYTHON\n",
      "PyThOn\n"
     ]
    }
   ],
   "source": [
    "#2.Write a python program to convert only odd indexed characters to lower case\n",
    "#Ex:- PYTHON Output: - PyThOn\n",
    "x=input(\"enter a input to convert into odd indexed character to lower case:\")\n",
    "y=list(x)\n",
    "z=\"\"\n",
    "for i in range(0,len(x)):\n",
    "    if i%2==0:\n",
    "        z=z+str(x[i])\n",
    "    else:\n",
    "        z=z+str(x[i]).lower()\n",
    "print(z)\n"
   ]
  },
  {
   "cell_type": "code",
   "execution_count": 11,
   "id": "c58c0c6d",
   "metadata": {},
   "outputs": [
    {
     "name": "stdout",
     "output_type": "stream",
     "text": [
      "Enter a input to convert into even indexed character to lower case:PYTHON\n",
      " pYtHoN\n"
     ]
    }
   ],
   "source": [
    "#3.Write a python program to convert only even indexed characters to lower case\n",
    "#Ex:- PYTHON Output: - pYtHoN\n",
    "x=input(\"Enter a input to convert into even indexed character to lower case:\")\n",
    "y=list(x)\n",
    "z=\" \"\n",
    "for i in range(0,len(x)):\n",
    "    if i%2==0:\n",
    "        z=z+str(x[i]).lower()\n",
    "    else:\n",
    "        z=z+str(x[i])\n",
    "print(z)"
   ]
  },
  {
   "cell_type": "code",
   "execution_count": 12,
   "id": "ef9a7fde",
   "metadata": {},
   "outputs": [
    {
     "name": "stdout",
     "output_type": "stream",
     "text": [
      "Enter a input to convert only odd indexed characters to upper:python\n",
      "pYtHoN\n"
     ]
    }
   ],
   "source": [
    "#4.Write a python program to convert only odd indexed characters to upper case\n",
    "#Ex:- python Output: - pYtHoN\n",
    "x=input(\"Enter a input to convert only odd indexed characters to upper:\")\n",
    "y=list(x)\n",
    "z=\"\"\n",
    "for i in range(0,len(x)):\n",
    "    if i%2==0:\n",
    "        z=z+str(x[i])\n",
    "    else:\n",
    "        z=z+str(x[i]).upper()\n",
    "print(z)"
   ]
  },
  {
   "cell_type": "code",
   "execution_count": 13,
   "id": "7f2aaafc",
   "metadata": {},
   "outputs": [
    {
     "name": "stdout",
     "output_type": "stream",
     "text": [
      "Enter a input to convert only even indexed chracters to upper case:python\n",
      " PyThOn\n"
     ]
    }
   ],
   "source": [
    "#5.Write a python program to convert only even indexed characters to upper case\n",
    "#Ex:- python Output: - PyThOn\n",
    "a=input(\"Enter a input to convert only even indexed chracters to upper case:\")\n",
    "b=list(a)\n",
    "c=\" \"\n",
    "for x in range(0,len(a)):\n",
    "    if x%2==0:\n",
    "        c=c+str(a[x]).upper()\n",
    "    else:\n",
    "        c=c+str(a[x])\n",
    "print(c)"
   ]
  },
  {
   "cell_type": "code",
   "execution_count": 17,
   "id": "6a4f189f",
   "metadata": {},
   "outputs": [
    {
     "name": "stdout",
     "output_type": "stream",
     "text": [
      "My Name is: Madhu Ganaveni\n",
      "Gender: Male\n",
      "My Age is: 24\n",
      "My phone number is: 7330885805\n",
      "My father name is: Raja Reddy\n",
      "My Mother name is: Mallu\n",
      "My address is: 41-143/6,Sanjaypuri colony,Jagthgirigutta,Hyderabad\n",
      "My Name is Madhu Ganaveni, Gender Male, My Age is 24, My phone number is 7330885805, My father name is Raja Reddy, My Mother name is Mallu, My address is 41-143/6,Sanjaypuri colony,Jagthgirigutta,Hyderabad\n"
     ]
    }
   ],
   "source": [
    "#6.Write a python program where you have different variable which contains\n",
    "#your name ,gender,age, phone no ,fathers name and mothers name.And by using this variable create a\n",
    "#variable named bio-data where you will use all this variable\n",
    "#Ex:-print(bio-data)\n",
    "#Output:- My name is ...., My age is ....,My phone-no is ....,my fathers name is ...,and my mothers name is......\n",
    "Name = input(\"My Name is: \")\n",
    "Gender = input(\"Gender: \")\n",
    "Age = int(input(\"My Age is: \"))\n",
    "ph_no = int(input(\"My phone number is: \"))\n",
    "fname = input(\"My father name is: \")\n",
    "mname = input(\"My Mother name is: \")\n",
    "Address = input(\"My address is: \")\n",
    "\n",
    "Bio_data = \"My Name is {}, Gender {}, My Age is {}, My phone number is {}, My father name is {}, My Mother name is {}, My address is {}\"\n",
    "print(Bio_data.format(Name, Gender, Age, ph_no, fname, mname, Address))\n"
   ]
  },
  {
   "cell_type": "code",
   "execution_count": 27,
   "id": "ce4eb8d3",
   "metadata": {},
   "outputs": [
    {
     "name": "stdout",
     "output_type": "stream",
     "text": [
      "Enter a string to know how many '@ 'occured:ganavenimadhu@gm@il.com\n",
      " @ occured in: 2 times\n"
     ]
    }
   ],
   "source": [
    "#7.Write a python program to count how many times “@” occurred\n",
    "var=input(\"Enter a string to know how many '@ 'occured:\")\n",
    "b=var.count(\"@\")\n",
    "print(\" @ occured in:\", b,\"times\" )"
   ]
  },
  {
   "cell_type": "code",
   "execution_count": 45,
   "id": "14e15aaf",
   "metadata": {},
   "outputs": [
    {
     "name": "stdout",
     "output_type": "stream",
     "text": [
      "Enter a string to get only names:\"Madhu.@gmail.com,Manoj.@gmail.com,Thiru.@gmail.com\"\n",
      "\"Madhu,Manoj,Thiru\n"
     ]
    }
   ],
   "source": [
    "#8.Write a python program to get only names from the string “name1.@gmail.com,name2.@gmail.com,name3.@gmail.com”\n",
    "#Output-name1,name2,name3\n",
    "x=input(\"Enter a string to get only names:\")\n",
    "y=x.split(\".@gmail.com\")\n",
    "z=\"\"\n",
    "for x in range(0,3):\n",
    "    z=z+y[x]\n",
    "print(z)\n",
    "    "
   ]
  },
  {
   "cell_type": "code",
   "execution_count": 47,
   "id": "573126ff",
   "metadata": {},
   "outputs": [
    {
     "name": "stdout",
     "output_type": "stream",
     "text": [
      "Enter a string:“mynameissan\"\n"
     ]
    },
    {
     "data": {
      "text/plain": [
       "'mei'"
      ]
     },
     "execution_count": 47,
     "metadata": {},
     "output_type": "execute_result"
    }
   ],
   "source": [
    "#9.Given a string of odd length greater that 9, return a new string made of the middle three characters of a given String\n",
    "#Ex:- “mynameissan\n",
    "#Output:- “mei”\n",
    "x=input(\"Enter a string:\")\n",
    "x[5:8]"
   ]
  },
  {
   "cell_type": "code",
   "execution_count": 48,
   "id": "3def62ed",
   "metadata": {},
   "outputs": [
    {
     "name": "stdout",
     "output_type": "stream",
     "text": [
      "Enter a string of odd length greater than 9: 88575018667\n",
      "501\n"
     ]
    }
   ],
   "source": [
    "#9.Given a string of odd length greater that 9, return a new string made of the middle three characters of a given String\n",
    "#Ex:- “mynameissan\n",
    "#Output:- “mei”\n",
    "\n",
    "x=input(\"Enter a string of odd length greater than 9: \")\n",
    "y=(len(x)+1)//2\n",
    "print(x[(y-2):(y+1)])"
   ]
  },
  {
   "cell_type": "code",
   "execution_count": 49,
   "id": "36db86db",
   "metadata": {},
   "outputs": [
    {
     "name": "stdout",
     "output_type": "stream",
     "text": [
      "Please enter a string spider\n",
      "Enetr a string of 2 characters you want to insert in the middlejupiternotebook\n",
      "spijupiternotebookder\n"
     ]
    }
   ],
   "source": [
    "#10. Write a python program to insert a 2 string in the middle of 1 string\n",
    "#Ex:-Str1=”myn”\n",
    "#Str2=”sa” Output:-“msayn”\n",
    "x=input(\"Please enter a string \")\n",
    "y=input(\"Enetr a string of 2 characters you want to insert in the middle\")\n",
    "z=len(x)//2\n",
    "print(x[:z]+y+x[z:])\n",
    "\n"
   ]
  },
  {
   "cell_type": "code",
   "execution_count": 50,
   "id": "3374e941",
   "metadata": {},
   "outputs": [
    {
     "name": "stdout",
     "output_type": "stream",
     "text": [
      "Please enter a string Jupiternotebook\n",
      "Enetr a string of 2 characters you want to insert in the middleSpider\n",
      "JupiterSpidernotebook\n"
     ]
    }
   ],
   "source": [
    "x=input(\"Please enter a string \")\n",
    "y=input(\"Enetr a string of 2 characters you want to insert in the middle\")\n",
    "z=len(x)//2\n",
    "print(x[:z]+y+x[z:])\n"
   ]
  },
  {
   "cell_type": "code",
   "execution_count": 51,
   "id": "87ec030a",
   "metadata": {},
   "outputs": [
    {
     "name": "stdout",
     "output_type": "stream",
     "text": [
      "Enetr a string: abcdefghijklmnopqrstuvwxyz\n",
      "bcdfghjklmnpqrstvwxyz\n"
     ]
    }
   ],
   "source": [
    "#11. Write a program to remove vowels from the entire alphabets\n",
    "#Ex:- “abcdefghijklmnopqrstuvwxyz” Output:- “bcdfghjklmnpqrstvwxyz\n",
    "\n",
    "x=input(\"Enetr a string: \")\n",
    "z=list(x)\n",
    "a=\"\"\n",
    "for y in range(0,len(x)):\n",
    "    if z[y]==\"a\" or z[y]==\"e\" or z[y]==\"i\" or z[y]==\"o\" or z[y]==\"u\":\n",
    "        a+=\"\"\n",
    "    else:\n",
    "        a+=str(z[y])\n",
    "print(a)"
   ]
  },
  {
   "cell_type": "code",
   "execution_count": null,
   "id": "325f607a",
   "metadata": {},
   "outputs": [],
   "source": []
  }
 ],
 "metadata": {
  "kernelspec": {
   "display_name": "Python 3 (ipykernel)",
   "language": "python",
   "name": "python3"
  },
  "language_info": {
   "codemirror_mode": {
    "name": "ipython",
    "version": 3
   },
   "file_extension": ".py",
   "mimetype": "text/x-python",
   "name": "python",
   "nbconvert_exporter": "python",
   "pygments_lexer": "ipython3",
   "version": "3.9.13"
  }
 },
 "nbformat": 4,
 "nbformat_minor": 5
}
