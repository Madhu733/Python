{
 "cells": [
  {
   "cell_type": "code",
   "execution_count": 3,
   "id": "e6a17065",
   "metadata": {},
   "outputs": [],
   "source": [
    "#1. Create a function that takes a boolean variable flag and returns it as a string. \n",
    "#Examples\n",
    "#bool_to_string(True) ➞ \"True\" \n",
    "#bool_to_string(False) ➞ \"False\"\n",
    "def bool_to_string(flag):\n",
    "    if flag==True:\n",
    "        return \"True\"\n",
    "    elif flag==False:\n",
    "        return \"False\"\n",
    "    else:\n",
    "        return \"None\""
   ]
  },
  {
   "cell_type": "code",
   "execution_count": 4,
   "id": "531e6bc4",
   "metadata": {},
   "outputs": [
    {
     "data": {
      "text/plain": [
       "'False'"
      ]
     },
     "execution_count": 4,
     "metadata": {},
     "output_type": "execute_result"
    }
   ],
   "source": [
    "bool_to_string(False)"
   ]
  },
  {
   "cell_type": "code",
   "execution_count": 5,
   "id": "47de63b7",
   "metadata": {},
   "outputs": [],
   "source": [
    "#2. Create a function that returns True when num1 is equal to num2; otherwise return False.\n",
    "#Examples\n",
    "#is_same_num(4, 8) ➞ False \n",
    "#is_same_num(2, 2) ➞ True \n",
    "#is_same_num(2, \"2\") ➞ False\n",
    "def is_same_num(x,y):\n",
    "    if x==y:\n",
    "        return \"True\"\n",
    "    else:\n",
    "        return \"False\""
   ]
  },
  {
   "cell_type": "code",
   "execution_count": 6,
   "id": "5dcaefba",
   "metadata": {},
   "outputs": [
    {
     "data": {
      "text/plain": [
       "'True'"
      ]
     },
     "execution_count": 6,
     "metadata": {},
     "output_type": "execute_result"
    }
   ],
   "source": [
    "is_same_num(2,2)"
   ]
  },
  {
   "cell_type": "code",
   "execution_count": 7,
   "id": "55b37e59",
   "metadata": {},
   "outputs": [],
   "source": [
    "#3 Create a function that takes a number as its only argument and returns True if it's less than or equal to zero, otherwise return False.\n",
    "#Examples\n",
    "##3 Create a function that takes a number as its only argument and returns True if it's less than or equal to zero, otherwise return False.\n",
    "#Examples\n",
    "#less_than_or_equal_to_zero(5) ➞ False \n",
    "#less_than_or_equal_to_zero(0) ➞ True \n",
    "#less_than_or_equal_to_zero(-2) ➞ True\n",
    "def less_than_or_equal_to_zero(x):\n",
    "    if x<=0:\n",
    "        return \"True\"\n",
    "    else:\n",
    "        return \"False\""
   ]
  },
  {
   "cell_type": "code",
   "execution_count": 8,
   "id": "826b3cf3",
   "metadata": {},
   "outputs": [
    {
     "data": {
      "text/plain": [
       "'True'"
      ]
     },
     "execution_count": 8,
     "metadata": {},
     "output_type": "execute_result"
    }
   ],
   "source": [
    "less_than_or_equal_to_zero(-2)"
   ]
  },
  {
   "cell_type": "code",
   "execution_count": 4,
   "id": "f3c523ed",
   "metadata": {},
   "outputs": [],
   "source": [
    "#4 Emmy has written a function that returns a greeting to users. However, she's in love with Mubashir, \n",
    "#and would like to greet him slightly differently. She added a special case in her function, \n",
    "#but she made a mistake.Can you help her?\n",
    "#Can you help her?\n",
    "#greeting(\"Matt\") ➞ \"Hello, Matt!\" \n",
    "#greeting(\"Helen\") ➞ \"Hello, Helen!\" \n",
    "#greeting(\"Mubashir\") ➞ \"Hello, my Love!\"\n",
    "def greeting(name):\n",
    "    if name==\"Mubashir\" or name==\"mubashir\":\n",
    "        return \"Hello, my Love!\"\n",
    "    else:\n",
    "        return(\"Hello, {}!\" .format(name))"
   ]
  },
  {
   "cell_type": "code",
   "execution_count": 5,
   "id": "d685f714",
   "metadata": {},
   "outputs": [
    {
     "data": {
      "text/plain": [
       "'Hello, Helen!'"
      ]
     },
     "execution_count": 5,
     "metadata": {},
     "output_type": "execute_result"
    }
   ],
   "source": [
    "greeting(\"Helen\")"
   ]
  },
  {
   "cell_type": "code",
   "execution_count": 6,
   "id": "1d1090d8",
   "metadata": {},
   "outputs": [
    {
     "data": {
      "text/plain": [
       "'Hello, Matt!'"
      ]
     },
     "execution_count": 6,
     "metadata": {},
     "output_type": "execute_result"
    }
   ],
   "source": [
    "greeting(\"Matt\")"
   ]
  },
  {
   "cell_type": "code",
   "execution_count": 7,
   "id": "ad275e69",
   "metadata": {},
   "outputs": [
    {
     "data": {
      "text/plain": [
       "'Hello, my Love!'"
      ]
     },
     "execution_count": 7,
     "metadata": {},
     "output_type": "execute_result"
    }
   ],
   "source": [
    "greeting(\"Mubashir\")"
   ]
  },
  {
   "cell_type": "code",
   "execution_count": 8,
   "id": "d48ed6bc",
   "metadata": {},
   "outputs": [
    {
     "data": {
      "text/plain": [
       "'Hello, Madhu!'"
      ]
     },
     "execution_count": 8,
     "metadata": {},
     "output_type": "execute_result"
    }
   ],
   "source": [
    "greeting(\"Madhu\")"
   ]
  },
  {
   "cell_type": "code",
   "execution_count": 9,
   "id": "01eee9f9",
   "metadata": {},
   "outputs": [],
   "source": [
    "#5 Create a function that takes two arguments. Both arguments are integers, a and b.\n",
    "# Return True if one of them is 10 or if their sum is 10.\n",
    "#Examples\n",
    "#makes10(9, 10) ➞ True \n",
    "#makes10(9, 9) ➞ False \n",
    "#makes10(1, 9) ➞ True\n",
    "def makes10(x,y):\n",
    "    if x==10 or y==10 or x+y==10:\n",
    "        return True\n",
    "    else:\n",
    "        return False"
   ]
  },
  {
   "cell_type": "code",
   "execution_count": 10,
   "id": "5553a0e4",
   "metadata": {},
   "outputs": [
    {
     "data": {
      "text/plain": [
       "True"
      ]
     },
     "execution_count": 10,
     "metadata": {},
     "output_type": "execute_result"
    }
   ],
   "source": [
    " makes10(2,8)"
   ]
  },
  {
   "cell_type": "code",
   "execution_count": 11,
   "id": "9ea66748",
   "metadata": {},
   "outputs": [
    {
     "data": {
      "text/plain": [
       "False"
      ]
     },
     "execution_count": 11,
     "metadata": {},
     "output_type": "execute_result"
    }
   ],
   "source": [
    " makes10(9,9)"
   ]
  },
  {
   "cell_type": "code",
   "execution_count": 13,
   "id": "e461b3fa",
   "metadata": {},
   "outputs": [
    {
     "data": {
      "text/plain": [
       "True"
      ]
     },
     "execution_count": 13,
     "metadata": {},
     "output_type": "execute_result"
    }
   ],
   "source": [
    " makes10(1,10)"
   ]
  },
  {
   "cell_type": "code",
   "execution_count": 20,
   "id": "0404a796",
   "metadata": {},
   "outputs": [],
   "source": [
    "#6 Create a function that takes three arguments prob, prize, pay and returns True if prob * prize > pay;\n",
    "#otherwise return False.\n",
    "#To illustrate:\n",
    "#profitable_gamble(0.2, 50, 9)\n",
    "#... should yield True, since the net profit is 1 (0.2 * 50 - 9), and 1 > 0.\n",
    "def profitable_gamble(prob,prize,pay):\n",
    "    if prob*prize>pay:\n",
    "        return True\n",
    "    else:\n",
    "        return False"
   ]
  },
  {
   "cell_type": "code",
   "execution_count": 21,
   "id": "1dad550f",
   "metadata": {},
   "outputs": [
    {
     "data": {
      "text/plain": [
       "True"
      ]
     },
     "execution_count": 21,
     "metadata": {},
     "output_type": "execute_result"
    }
   ],
   "source": [
    "profitable_gamble(10,20,150)"
   ]
  },
  {
   "cell_type": "code",
   "execution_count": 31,
   "id": "a016b777",
   "metadata": {},
   "outputs": [],
   "source": [
    "#7 Create a function that takes an integer and returns True if it's divisible by 100, otherwise return False.\n",
    "#Examples\n",
    "#divisible(1) ➞ False\n",
    "#divisible(1000) ➞ True\n",
    "#divisible(100) ➞ True\n",
    "def divisible(x):\n",
    "    if x%100==0:\n",
    "        return True\n",
    "    else:\n",
    "        return False"
   ]
  },
  {
   "cell_type": "code",
   "execution_count": 32,
   "id": "08be06cf",
   "metadata": {},
   "outputs": [
    {
     "data": {
      "text/plain": [
       "True"
      ]
     },
     "execution_count": 32,
     "metadata": {},
     "output_type": "execute_result"
    }
   ],
   "source": [
    "divisible(1000)\n"
   ]
  },
  {
   "cell_type": "code",
   "execution_count": 33,
   "id": "b5658eea",
   "metadata": {},
   "outputs": [
    {
     "data": {
      "text/plain": [
       "False"
      ]
     },
     "execution_count": 33,
     "metadata": {},
     "output_type": "execute_result"
    }
   ],
   "source": [
    "divisible(1)"
   ]
  },
  {
   "cell_type": "code",
   "execution_count": 34,
   "id": "df32718a",
   "metadata": {},
   "outputs": [
    {
     "data": {
      "text/plain": [
       "False"
      ]
     },
     "execution_count": 34,
     "metadata": {},
     "output_type": "execute_result"
    }
   ],
   "source": [
    "divisible(50)"
   ]
  },
  {
   "cell_type": "code",
   "execution_count": 35,
   "id": "15df602b",
   "metadata": {},
   "outputs": [
    {
     "data": {
      "text/plain": [
       "True"
      ]
     },
     "execution_count": 35,
     "metadata": {},
     "output_type": "execute_result"
    }
   ],
   "source": [
    "divisible(300)"
   ]
  },
  {
   "cell_type": "code",
   "execution_count": 36,
   "id": "ec2f2f09",
   "metadata": {},
   "outputs": [],
   "source": [
    "#8 Create a function that takes two strings as arguments and return either True or False\n",
    "#depending on whether the total number of characters in the first string is equal\n",
    "#to the total number of characters in the second string.\n",
    "#Examples\n",
    "#comp(\"AB\", \"CD\") ➞ True\n",
    "#comp(\"ABC\", \"DE\") ➞ False\n",
    "#comp(\"hello\", \"edabit\") ➞ False\n",
    "def comp(x,y):\n",
    "    if len(x)==len(y):\n",
    "        return True\n",
    "    else:\n",
    "        return False\n"
   ]
  },
  {
   "cell_type": "code",
   "execution_count": 37,
   "id": "a90a3708",
   "metadata": {},
   "outputs": [
    {
     "data": {
      "text/plain": [
       "True"
      ]
     },
     "execution_count": 37,
     "metadata": {},
     "output_type": "execute_result"
    }
   ],
   "source": [
    "comp(\"AB\",\"CD\")"
   ]
  },
  {
   "cell_type": "code",
   "execution_count": 38,
   "id": "c963ea06",
   "metadata": {},
   "outputs": [
    {
     "data": {
      "text/plain": [
       "False"
      ]
     },
     "execution_count": 38,
     "metadata": {},
     "output_type": "execute_result"
    }
   ],
   "source": [
    "comp(\"ABC\",\"DE\")"
   ]
  },
  {
   "cell_type": "code",
   "execution_count": 40,
   "id": "688cbedd",
   "metadata": {},
   "outputs": [
    {
     "data": {
      "text/plain": [
       "False"
      ]
     },
     "execution_count": 40,
     "metadata": {},
     "output_type": "execute_result"
    }
   ],
   "source": [
    "comp(\"hello\", \"edabit\")"
   ]
  },
  {
   "cell_type": "code",
   "execution_count": 39,
   "id": "913a6525",
   "metadata": {},
   "outputs": [
    {
     "data": {
      "text/plain": [
       "True"
      ]
     },
     "execution_count": 39,
     "metadata": {},
     "output_type": "execute_result"
    }
   ],
   "source": [
    "comp(\"true\",\"Zero\")"
   ]
  },
  {
   "cell_type": "code",
   "execution_count": 46,
   "id": "c683b6da",
   "metadata": {},
   "outputs": [],
   "source": [
    "#9 Given a string, return True if its length is even or False if the length is odd.\n",
    "#Examples\n",
    "#odd_or_even(\"apples\") ➞ True\n",
    "# The word \"apples\" has 6 characters.\n",
    "# 6 is an even number, so the program outputs True.\n",
    "#odd_or_even(\"pears\") ➞ False\n",
    "# \"pears\" has 5 letters, and 5 is odd.\n",
    "# Therefore the program outputs False.\n",
    "def odd_or_even(s):\n",
    "    if (len(s))%2==0:\n",
    "        return True\n",
    "    else:\n",
    "        return False\n"
   ]
  },
  {
   "cell_type": "code",
   "execution_count": 48,
   "id": "d8ea4c06",
   "metadata": {},
   "outputs": [
    {
     "data": {
      "text/plain": [
       "True"
      ]
     },
     "execution_count": 48,
     "metadata": {},
     "output_type": "execute_result"
    }
   ],
   "source": [
    "odd_or_even(\"apples\")"
   ]
  },
  {
   "cell_type": "code",
   "execution_count": 49,
   "id": "f840a617",
   "metadata": {},
   "outputs": [
    {
     "data": {
      "text/plain": [
       "False"
      ]
     },
     "execution_count": 49,
     "metadata": {},
     "output_type": "execute_result"
    }
   ],
   "source": [
    " odd_or_even(\"pears\")"
   ]
  },
  {
   "cell_type": "code",
   "execution_count": 50,
   "id": "c0957b99",
   "metadata": {},
   "outputs": [
    {
     "data": {
      "text/plain": [
       "False"
      ]
     },
     "execution_count": 50,
     "metadata": {},
     "output_type": "execute_result"
    }
   ],
   "source": [
    " odd_or_even(\"cherrys\")"
   ]
  },
  {
   "cell_type": "code",
   "execution_count": 59,
   "id": "a0e64365",
   "metadata": {},
   "outputs": [],
   "source": [
    "#10 Create a function that takes a string; we'll say that\n",
    "#the front is the first three characters of the string.\n",
    "#If the string length is less than three characters, the front is whatever is there. \n",
    "#Return a new string, which is three copies of the front.\n",
    "#Examples\n",
    "#front3(\"Python\") ➞ \"PytPytPyt\"\n",
    "#front3(\"Cucumber\") ➞ \"CucCucCuc\"\n",
    "#front3(\"bioshock\") ➞ \"biobiobio\"\n",
    "def front3(s):\n",
    "    if len(s)<=3:\n",
    "        front=s\n",
    "    else:\n",
    "         front=s[:3]\n",
    "    return front*3"
   ]
  },
  {
   "cell_type": "code",
   "execution_count": 60,
   "id": "0636ca5a",
   "metadata": {},
   "outputs": [
    {
     "data": {
      "text/plain": [
       "'pytpytpyt'"
      ]
     },
     "execution_count": 60,
     "metadata": {},
     "output_type": "execute_result"
    }
   ],
   "source": [
    "front3(\"python\")"
   ]
  },
  {
   "cell_type": "code",
   "execution_count": 61,
   "id": "5c708093",
   "metadata": {},
   "outputs": [
    {
     "data": {
      "text/plain": [
       "'cuccuccuc'"
      ]
     },
     "execution_count": 61,
     "metadata": {},
     "output_type": "execute_result"
    }
   ],
   "source": [
    "front3(\"cucumber\")\n"
   ]
  },
  {
   "cell_type": "code",
   "execution_count": 62,
   "id": "dc8c56bf",
   "metadata": {},
   "outputs": [
    {
     "data": {
      "text/plain": [
       "'biobiobio'"
      ]
     },
     "execution_count": 62,
     "metadata": {},
     "output_type": "execute_result"
    }
   ],
   "source": [
    "front3(\"bioshock\")"
   ]
  },
  {
   "cell_type": "code",
   "execution_count": 70,
   "id": "05af6086",
   "metadata": {},
   "outputs": [],
   "source": [
    "#11 Darts is a target game played by throwing feathered darts at a circular board with numbered spaces.\n",
    "#Our darts game is the simplest of all games. The score of a single turn is calculated based on the distance from\n",
    "#the middle. You need to create a function that takes the dart location as two cartesian coordinates (x, y) and \n",
    "#returns a score based on the distance from the middle, aka Bullseye (x=0, y=0).\n",
    "#● Bullseye and inner circle scores = 10 points\n",
    "#● Middle ring scores = 5 points\n",
    "#● Outer ring scores = 1 point\n",
    "#● Outside the target = 0 points\n",
    "def darts(x,y):\n",
    "    r=((x**2)+(y**2))**2\n",
    "    if r<=1:\n",
    "        p=10\n",
    "    elif r>1 and r<=5:\n",
    "        p=5\n",
    "    elif r>5 and r<=10:\n",
    "        p=1\n",
    "    else:\n",
    "        p=0\n",
    "    return p"
   ]
  },
  {
   "cell_type": "code",
   "execution_count": 71,
   "id": "7caf6514",
   "metadata": {},
   "outputs": [
    {
     "data": {
      "text/plain": [
       "5"
      ]
     },
     "execution_count": 71,
     "metadata": {},
     "output_type": "execute_result"
    }
   ],
   "source": [
    "darts(1,1)\n"
   ]
  },
  {
   "cell_type": "code",
   "execution_count": 73,
   "id": "ce7b1a8d",
   "metadata": {},
   "outputs": [
    {
     "data": {
      "text/plain": [
       "0"
      ]
     },
     "execution_count": 73,
     "metadata": {},
     "output_type": "execute_result"
    }
   ],
   "source": [
    "darts(2,1)"
   ]
  },
  {
   "cell_type": "code",
   "execution_count": 78,
   "id": "1f3ec35b",
   "metadata": {},
   "outputs": [
    {
     "data": {
      "text/plain": [
       "0"
      ]
     },
     "execution_count": 78,
     "metadata": {},
     "output_type": "execute_result"
    }
   ],
   "source": [
    "darts(2,2)"
   ]
  },
  {
   "cell_type": "code",
   "execution_count": 106,
   "id": "fb8a3d19",
   "metadata": {},
   "outputs": [],
   "source": [
    "#12  Write a function that returns True if a year is a leap, otherwise return False. A year is a \"leap year\" if it \n",
    "#lasts 366 days, instead of 365 in a typical year. That extra day is added to the end of the shortest month,\n",
    "#creating February 29.A leap year occurs every four years, and will take place if the year is a multiple of four.\n",
    "#The exception to this is a year at the beginning of a century (for example, 1900 or 2000), where the year must be \n",
    "#divisible by 4 to be a leap year.\n",
    "def month_name(num):\n",
    "    year={1:\"January\",2:\"February\",3:\"March\",4:\"April\",5:\"May\",6:\"June\",7:\"July\",8:\"August\",9:\"September\",\\\n",
    "          10:\"October\",11:\"November\",12:\"December\"}\n",
    "    for x in year.keys():\n",
    "        if x==num:\n",
    "            month=year[x]\n",
    "        else:\n",
    "            continue\n",
    "    return month"
   ]
  },
  {
   "cell_type": "code",
   "execution_count": 108,
   "id": "c4bbb621",
   "metadata": {},
   "outputs": [
    {
     "data": {
      "text/plain": [
       "'January'"
      ]
     },
     "execution_count": 108,
     "metadata": {},
     "output_type": "execute_result"
    }
   ],
   "source": [
    "month_name(1)"
   ]
  },
  {
   "cell_type": "code",
   "execution_count": 109,
   "id": "c23859af",
   "metadata": {},
   "outputs": [
    {
     "data": {
      "text/plain": [
       "'October'"
      ]
     },
     "execution_count": 109,
     "metadata": {},
     "output_type": "execute_result"
    }
   ],
   "source": [
    "month_name(10)"
   ]
  },
  {
   "cell_type": "code",
   "execution_count": 65,
   "id": "7102e230",
   "metadata": {},
   "outputs": [],
   "source": [
    "#13 Create a function that takes an array of hurdle heights and a jumper's jump height, and determine \n",
    "# whether or not the hurdler can clear all the hurdles.A hurdler can clear a hurdle if their \n",
    "# jump height is greater than or equal to the hurdle height.\n",
    "#Examples\n",
    "#hurdle_jump([1, 2, 3, 4, 5], 5) ➞ True \n",
    "#hurdle_jump([5, 5, 3, 4, 5], 3) ➞ False \n",
    "#hurdle_jump([5, 4, 5, 6], 10) ➞ True \n",
    "#hurdle_jump([1, 2, 1], 1) ➞ False"
   ]
  },
  {
   "cell_type": "code",
   "execution_count": 110,
   "id": "af8a6de0",
   "metadata": {},
   "outputs": [],
   "source": [
    "#14.Create a function that takes a number (from 1 to 12) and returns its corresponding month name as a string.\n",
    "#For example, if you're given 3 as input, your function should return \"March\", because March is the 3rd month.\n",
    "\n",
    "def month_name(num):\n",
    "    year={1:\"January\",2:\"February\",3:\"March\",4:\"April\",5:\"May\",6:\"June\",7:\"July\",8:\"August\",9:\"September\",\\\n",
    "          10:\"October\",11:\"November\",12:\"December\"}\n",
    "    for x in year.keys():\n",
    "        if x==num:\n",
    "            month=year[x]\n",
    "        else:\n",
    "            continue\n",
    "    return month"
   ]
  },
  {
   "cell_type": "code",
   "execution_count": 111,
   "id": "395ec9e3",
   "metadata": {},
   "outputs": [
    {
     "data": {
      "text/plain": [
       "'March'"
      ]
     },
     "execution_count": 111,
     "metadata": {},
     "output_type": "execute_result"
    }
   ],
   "source": [
    "month_name(3)"
   ]
  },
  {
   "cell_type": "code",
   "execution_count": 112,
   "id": "faf18ad7",
   "metadata": {},
   "outputs": [],
   "source": [
    "#15 Create a function that takes in a two-dimensional list and returns the number of sub-lists\n",
    "#with only identical elements.\n",
    "def count_identical(lst):\n",
    "    l=0\n",
    "    for x in lst:\n",
    "        if len(x)==1:\n",
    "            l+=1\n",
    "        else:\n",
    "            a=x[0];b=0\n",
    "            for y in range(1,len(x)):\n",
    "                if a==x[y]:\n",
    "                    b+=1\n",
    "            if b>=1:\n",
    "                l+=1\n",
    "    return l"
   ]
  },
  {
   "cell_type": "code",
   "execution_count": 114,
   "id": "47915652",
   "metadata": {},
   "outputs": [
    {
     "data": {
      "text/plain": [
       "4"
      ]
     },
     "execution_count": 114,
     "metadata": {},
     "output_type": "execute_result"
    }
   ],
   "source": [
    "count_identical([[1],[2],[3],[4]])"
   ]
  },
  {
   "cell_type": "code",
   "execution_count": 115,
   "id": "4b2541be",
   "metadata": {},
   "outputs": [
    {
     "data": {
      "text/plain": [
       "1"
      ]
     },
     "execution_count": 115,
     "metadata": {},
     "output_type": "execute_result"
    }
   ],
   "source": [
    "count_identical([[1, 2], [2, 3],[3, 4],[4, 4]])\n"
   ]
  },
  {
   "cell_type": "code",
   "execution_count": 116,
   "id": "fac345d2",
   "metadata": {},
   "outputs": [
    {
     "data": {
      "text/plain": [
       "4"
      ]
     },
     "execution_count": 116,
     "metadata": {},
     "output_type": "execute_result"
    }
   ],
   "source": [
    "count_identical([[33, 33],[5],[\"a\", \"a\"],[2, 2, 2],[1, 2, 2],[3, 1]])\n"
   ]
  },
  {
   "cell_type": "code",
   "execution_count": 117,
   "id": "651db27d",
   "metadata": {},
   "outputs": [
    {
     "data": {
      "text/plain": [
       "2"
      ]
     },
     "execution_count": 117,
     "metadata": {},
     "output_type": "execute_result"
    }
   ],
   "source": [
    "count_identical([[\"@\", \"@\", \"@\", \"@\"],[2, 3], [3, 4], [4, 4]])\n"
   ]
  },
  {
   "cell_type": "code",
   "execution_count": 118,
   "id": "2b21b77d",
   "metadata": {},
   "outputs": [],
   "source": [
    "#16 A bartender is writing a simple program to determine whether he should serve drinks to someone. \n",
    "#He only serves drinks to people 18 and older and when he's not on break.Given the person's age, \n",
    "#and whether break time is in session, create a function which returns whether he should serve drinks.\n",
    "def should_serve_drinks(age,btime):\n",
    "    if btime==True:\n",
    "        return False\n",
    "    else:\n",
    "        if age>=18:\n",
    "             return True\n",
    "        else:\n",
    "            return False"
   ]
  },
  {
   "cell_type": "code",
   "execution_count": 119,
   "id": "59d0039a",
   "metadata": {},
   "outputs": [
    {
     "data": {
      "text/plain": [
       "False"
      ]
     },
     "execution_count": 119,
     "metadata": {},
     "output_type": "execute_result"
    }
   ],
   "source": [
    "should_serve_drinks(20,True)"
   ]
  },
  {
   "cell_type": "code",
   "execution_count": 120,
   "id": "4b790d82",
   "metadata": {},
   "outputs": [
    {
     "data": {
      "text/plain": [
       "True"
      ]
     },
     "execution_count": 120,
     "metadata": {},
     "output_type": "execute_result"
    }
   ],
   "source": [
    "should_serve_drinks(19, False) "
   ]
  },
  {
   "cell_type": "code",
   "execution_count": 121,
   "id": "3d6adb0b",
   "metadata": {},
   "outputs": [
    {
     "data": {
      "text/plain": [
       "False"
      ]
     },
     "execution_count": 121,
     "metadata": {},
     "output_type": "execute_result"
    }
   ],
   "source": [
    "should_serve_drinks(30, True)"
   ]
  },
  {
   "cell_type": "code",
   "execution_count": 122,
   "id": "5bc7febc",
   "metadata": {},
   "outputs": [],
   "source": [
    "#17 You will need to write three unfinished logic gates. \n",
    "#Continue to write the three logic gates: AND, OR, and NOT.\n",
    "def AND(x,y):\n",
    "    if x==1 and y==1:\n",
    "        return 1\n",
    "    else:\n",
    "        return 0\n",
    "\n",
    "def OR(x,y):\n",
    "    if x==1 or y==1:\n",
    "        return 1\n",
    "    else:\n",
    "        return 0\n",
    "def NOT(x):\n",
    "    if x==1:\n",
    "        return 0\n",
    "    elif x==0:\n",
    "        return 1\n"
   ]
  },
  {
   "cell_type": "code",
   "execution_count": 123,
   "id": "38cc9b19",
   "metadata": {},
   "outputs": [
    {
     "data": {
      "text/plain": [
       "1"
      ]
     },
     "execution_count": 123,
     "metadata": {},
     "output_type": "execute_result"
    }
   ],
   "source": [
    "AND(1, 1)"
   ]
  },
  {
   "cell_type": "code",
   "execution_count": 124,
   "id": "69753798",
   "metadata": {},
   "outputs": [
    {
     "data": {
      "text/plain": [
       "0"
      ]
     },
     "execution_count": 124,
     "metadata": {},
     "output_type": "execute_result"
    }
   ],
   "source": [
    "AND(0, 0)"
   ]
  },
  {
   "cell_type": "code",
   "execution_count": 125,
   "id": "95e379b2",
   "metadata": {},
   "outputs": [
    {
     "data": {
      "text/plain": [
       "1"
      ]
     },
     "execution_count": 125,
     "metadata": {},
     "output_type": "execute_result"
    }
   ],
   "source": [
    "OR(1, 0)"
   ]
  },
  {
   "cell_type": "code",
   "execution_count": 126,
   "id": "b8c713c2",
   "metadata": {},
   "outputs": [
    {
     "data": {
      "text/plain": [
       "1"
      ]
     },
     "execution_count": 126,
     "metadata": {},
     "output_type": "execute_result"
    }
   ],
   "source": [
    "OR(1, 1)"
   ]
  },
  {
   "cell_type": "code",
   "execution_count": 127,
   "id": "14db4cf8",
   "metadata": {},
   "outputs": [
    {
     "data": {
      "text/plain": [
       "1"
      ]
     },
     "execution_count": 127,
     "metadata": {},
     "output_type": "execute_result"
    }
   ],
   "source": [
    "NOT(0)"
   ]
  },
  {
   "cell_type": "code",
   "execution_count": 128,
   "id": "84678f72",
   "metadata": {},
   "outputs": [
    {
     "data": {
      "text/plain": [
       "0"
      ]
     },
     "execution_count": 128,
     "metadata": {},
     "output_type": "execute_result"
    }
   ],
   "source": [
    "NOT(1)"
   ]
  },
  {
   "cell_type": "code",
   "execution_count": 103,
   "id": "454dfc3e",
   "metadata": {},
   "outputs": [],
   "source": [
    "#18 Write a function that accepts base (decimal), height (decimal) and shape (\"triangle\", \"parallelogram\") \n",
    "#as input and calculates the area of that shape\n",
    "def area_shape(base=1,height=1,shape=\"parallelogram\"):\n",
    "    s=shape.lower()\n",
    "    if s==\"triangle\":\n",
    "        area=0.5*base*height\n",
    "    elif s==\"parallelogram\":\n",
    "        area=base*height\n",
    "    return area"
   ]
  },
  {
   "cell_type": "code",
   "execution_count": 104,
   "id": "db84945e",
   "metadata": {},
   "outputs": [
    {
     "data": {
      "text/plain": [
       "64"
      ]
     },
     "execution_count": 104,
     "metadata": {},
     "output_type": "execute_result"
    }
   ],
   "source": [
    "area_shape(8,8,shape=\"parallelogram\")"
   ]
  },
  {
   "cell_type": "code",
   "execution_count": 105,
   "id": "06133368",
   "metadata": {},
   "outputs": [
    {
     "data": {
      "text/plain": [
       "32.0"
      ]
     },
     "execution_count": 105,
     "metadata": {},
     "output_type": "execute_result"
    }
   ],
   "source": [
    "area_shape(8,8,shape=\"triangle\")"
   ]
  },
  {
   "cell_type": "code",
   "execution_count": 97,
   "id": "814d28c4",
   "metadata": {},
   "outputs": [],
   "source": [
    "#19 Create a function that takes a string (a random name). If the last character of the name is an \"n\", \n",
    "#return True, otherwise return False\n",
    "def last_character_n(s):\n",
    "    if s.endswith(\"n\") or s.endswith(\"N\"):\n",
    "        return True\n",
    "    else:\n",
    "        return False\n",
    "        \n",
    "    "
   ]
  },
  {
   "cell_type": "code",
   "execution_count": 98,
   "id": "a8364db6",
   "metadata": {},
   "outputs": [
    {
     "data": {
      "text/plain": [
       "False"
      ]
     },
     "execution_count": 98,
     "metadata": {},
     "output_type": "execute_result"
    }
   ],
   "source": [
    "last_character_n(\"Circustic\")"
   ]
  },
  {
   "cell_type": "code",
   "execution_count": 99,
   "id": "faf890a6",
   "metadata": {},
   "outputs": [
    {
     "data": {
      "text/plain": [
       "True"
      ]
     },
     "execution_count": 99,
     "metadata": {},
     "output_type": "execute_result"
    }
   ],
   "source": [
    "last_character_n(\"Swidden\")"
   ]
  },
  {
   "cell_type": "code",
   "execution_count": 100,
   "id": "21aa71d9",
   "metadata": {},
   "outputs": [
    {
     "data": {
      "text/plain": [
       "True"
      ]
     },
     "execution_count": 100,
     "metadata": {},
     "output_type": "execute_result"
    }
   ],
   "source": [
    "last_character_n(\"N\")"
   ]
  },
  {
   "cell_type": "code",
   "execution_count": 89,
   "id": "dcecdce4",
   "metadata": {},
   "outputs": [],
   "source": [
    "#20 Create a function that takes in a word and determines whether or not it is plural.\n",
    "#A plural word is one that ends in \"s\".\n",
    "def plural(x):\n",
    "    if x.endswith(\"s\") or x.endswith(\"S\"):\n",
    "        return \"is plural\"\n",
    "    else:\n",
    "        return \"not plural\""
   ]
  },
  {
   "cell_type": "code",
   "execution_count": 90,
   "id": "3043ae52",
   "metadata": {},
   "outputs": [
    {
     "data": {
      "text/plain": [
       "'is plural'"
      ]
     },
     "execution_count": 90,
     "metadata": {},
     "output_type": "execute_result"
    }
   ],
   "source": [
    "plural(\"Makers\")"
   ]
  },
  {
   "cell_type": "code",
   "execution_count": 91,
   "id": "7dbc33bd",
   "metadata": {},
   "outputs": [
    {
     "data": {
      "text/plain": [
       "'not plural'"
      ]
     },
     "execution_count": 91,
     "metadata": {},
     "output_type": "execute_result"
    }
   ],
   "source": [
    "plural(\"checking\")"
   ]
  },
  {
   "cell_type": "code",
   "execution_count": 92,
   "id": "8790eb6e",
   "metadata": {},
   "outputs": [
    {
     "data": {
      "text/plain": [
       "'is plural'"
      ]
     },
     "execution_count": 92,
     "metadata": {},
     "output_type": "execute_result"
    }
   ],
   "source": [
    "plural(\"CRACKERS\")"
   ]
  },
  {
   "cell_type": "code",
   "execution_count": 82,
   "id": "27b96ee2",
   "metadata": {},
   "outputs": [],
   "source": [
    "#21 Create a function that takes a number as an argument and returns \"even\" for even numbers\n",
    "#and \"odd\" for odd numbers.\n",
    "def f(x):\n",
    "    if x%2==0:\n",
    "        return \"even\"\n",
    "    else:\n",
    "        return \"odd\""
   ]
  },
  {
   "cell_type": "code",
   "execution_count": 83,
   "id": "69aa9f0c",
   "metadata": {},
   "outputs": [
    {
     "data": {
      "text/plain": [
       "'even'"
      ]
     },
     "execution_count": 83,
     "metadata": {},
     "output_type": "execute_result"
    }
   ],
   "source": [
    "f(10)"
   ]
  },
  {
   "cell_type": "code",
   "execution_count": 84,
   "id": "ed602941",
   "metadata": {},
   "outputs": [
    {
     "data": {
      "text/plain": [
       "'odd'"
      ]
     },
     "execution_count": 84,
     "metadata": {},
     "output_type": "execute_result"
    }
   ],
   "source": [
    "f(11)"
   ]
  },
  {
   "cell_type": "code",
   "execution_count": null,
   "id": "a163fdf8",
   "metadata": {},
   "outputs": [],
   "source": []
  },
  {
   "cell_type": "code",
   "execution_count": null,
   "id": "85218bef",
   "metadata": {},
   "outputs": [],
   "source": []
  },
  {
   "cell_type": "code",
   "execution_count": null,
   "id": "becf3784",
   "metadata": {},
   "outputs": [],
   "source": []
  }
 ],
 "metadata": {
  "kernelspec": {
   "display_name": "Python 3 (ipykernel)",
   "language": "python",
   "name": "python3"
  },
  "language_info": {
   "codemirror_mode": {
    "name": "ipython",
    "version": 3
   },
   "file_extension": ".py",
   "mimetype": "text/x-python",
   "name": "python",
   "nbconvert_exporter": "python",
   "pygments_lexer": "ipython3",
   "version": "3.9.13"
  }
 },
 "nbformat": 4,
 "nbformat_minor": 5
}
