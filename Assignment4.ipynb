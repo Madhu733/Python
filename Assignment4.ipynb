{
 "cells": [
  {
   "cell_type": "code",
   "execution_count": 5,
   "id": "470c74e8",
   "metadata": {},
   "outputs": [
    {
     "name": "stdout",
     "output_type": "stream",
     "text": [
      "1\n",
      "2\n",
      "3\n",
      "4\n",
      "5\n",
      "6\n"
     ]
    }
   ],
   "source": [
    "#1) Write a Python program to loop through all the elements in a list\n",
    "#Ex:\n",
    "#Input: [1,2,3,4,5,6] Output:\n",
    "#1\n",
    "#2\n",
    "#3\n",
    "#4 \n",
    "#5 \n",
    "#6\n",
    "x=[1,2,3,4,5,6]\n",
    "for i in x:\n",
    "    print(i)\n",
    "    "
   ]
  },
  {
   "cell_type": "code",
   "execution_count": 9,
   "id": "882822bd",
   "metadata": {},
   "outputs": [
    {
     "name": "stdout",
     "output_type": "stream",
     "text": [
      "1\n",
      "2\n",
      "3\n",
      "4\n",
      "5\n",
      "6\n"
     ]
    }
   ],
   "source": [
    "x=[1,2,3,4,5,6]\n",
    "for i in range(0,6):\n",
    "    print(x[i])"
   ]
  },
  {
   "cell_type": "code",
   "execution_count": 1,
   "id": "d297279b",
   "metadata": {},
   "outputs": [
    {
     "name": "stdout",
     "output_type": "stream",
     "text": [
      "number of elements to insert into a list:5\n",
      "enter elements to insert:8\n",
      "enter elements to insert:8\n",
      "enter elements to insert:5\n",
      "enter elements to insert:8\n",
      "enter elements to insert:0\n",
      "['8', '8', '5', '8', '0']\n"
     ]
    }
   ],
   "source": [
    "#2. Write a Python program where you will ask the users to insert elements in a list\n",
    "y=[]\n",
    "a=int(input(\"number of elements to insert into a list:\"))\n",
    "for x in range(1,a+1):\n",
    "     b=input(\"enter elements to insert:\")\n",
    "     y.append(b)\n",
    "print(y)"
   ]
  },
  {
   "cell_type": "code",
   "execution_count": 2,
   "id": "cd4861ec",
   "metadata": {},
   "outputs": [
    {
     "data": {
      "text/plain": [
       "[1, 3, 5, 7]"
      ]
     },
     "execution_count": 2,
     "metadata": {},
     "output_type": "execute_result"
    }
   ],
   "source": [
    "#3. Write a Python program to remove all the odd index value from a list and only even index elements should remain\n",
    "#Ex:\n",
    "#Input: [1,2,3,4,5,6,7,”a”]\n",
    "#Output: [1,3,5,7]\n",
    "l=[1,2,3,4,5,6,7]\n",
    "l[::2]"
   ]
  },
  {
   "cell_type": "code",
   "execution_count": 6,
   "id": "68fd6fe4",
   "metadata": {},
   "outputs": [
    {
     "name": "stdout",
     "output_type": "stream",
     "text": [
      "sum: 10\n",
      "product: 24\n"
     ]
    }
   ],
   "source": [
    "#4. Write a Python program to sum and multiply all the items in a list\n",
    "#Ex:\n",
    "#Input: [1,2,3,4] Output: sum:- 10\n",
    "#Product:- 24\n",
    "\n",
    "y=[1, 2, 3, 4]\n",
    "totalsum = 0\n",
    "totalproduct = 1\n",
    "for x in y:\n",
    "    totalsum += x\n",
    "    totalproduct *= x\n",
    "print(\"sum:\", totalsum)\n",
    "print(\"product:\", totalproduct)\n"
   ]
  },
  {
   "cell_type": "code",
   "execution_count": 8,
   "id": "06195c10",
   "metadata": {},
   "outputs": [
    {
     "name": "stdout",
     "output_type": "stream",
     "text": [
      "The Max value is : 90\n",
      "The Min value is: 4\n"
     ]
    }
   ],
   "source": [
    "#5. Write a Python program to get the maximum and minimum numbers from a list\n",
    "#Ex:\n",
    "#Input: [8,4,11,7,90]\n",
    "#Output: max: - 90 Min: - 4\n",
    "X=[8,4,11,7,90]\n",
    "print(\"The Max value is :\", max(X))\n",
    "print(\"The Min value is:\",min(X))\n"
   ]
  },
  {
   "cell_type": "code",
   "execution_count": 7,
   "id": "332dd302",
   "metadata": {},
   "outputs": [
    {
     "name": "stdout",
     "output_type": "stream",
     "text": [
      "minimum value is: -123\n",
      "maximum number is: 89\n"
     ]
    }
   ],
   "source": [
    "y=[45,-23,89,-123,67]\n",
    "y.sort()\n",
    "print(\"minimum value is:\",y[0])\n",
    "print(\"maximum number is:\",y[-1])"
   ]
  },
  {
   "cell_type": "code",
   "execution_count": 9,
   "id": "4ab2ca94",
   "metadata": {},
   "outputs": [
    {
     "name": "stdout",
     "output_type": "stream",
     "text": [
      "['Green', 'White', 'Black']\n"
     ]
    }
   ],
   "source": [
    "\n",
    "#6.Write a python program to print a specified list after removing the 0th,4th and 5th elements.\n",
    "#Ex:\n",
    "#Input: ['Red', 'Green', 'White', 'Black', 'Pink', 'Yellow'] \n",
    "#Output: ['Green', 'White', 'Black']\n",
    "l=[]\n",
    "x=['Red', 'Green', 'White', 'Black', 'Pink', 'Yellow']\n",
    "\n",
    "for y in range(0,len(x)):\n",
    "    if y!=0 and y!=4 and y!=5:\n",
    "        l.append(x[y])\n",
    "    else:\n",
    "        continue\n",
    "print(l)"
   ]
  },
  {
   "cell_type": "code",
   "execution_count": 12,
   "id": "58ae6fbb",
   "metadata": {},
   "outputs": [
    {
     "name": "stdout",
     "output_type": "stream",
     "text": [
      "String of a is: 123456\n"
     ]
    },
    {
     "data": {
      "text/plain": [
       "str"
      ]
     },
     "execution_count": 12,
     "metadata": {},
     "output_type": "execute_result"
    }
   ],
   "source": [
    "#7. Write a Python program to convert a list of characters into a string.\n",
    "l=[1,2,3,4,5,6]\n",
    "a=\"\"\n",
    "for x in l:\n",
    "    a+=str(x)\n",
    "print(\"String of a is:\", a)\n",
    "type(a)"
   ]
  },
  {
   "cell_type": "code",
   "execution_count": 13,
   "id": "7b316e43",
   "metadata": {},
   "outputs": [
    {
     "name": "stdout",
     "output_type": "stream",
     "text": [
      "3.0\n"
     ]
    }
   ],
   "source": [
    "#8.Write a Python program to compute average of given lists\n",
    "\n",
    "l=[1,2,3,4,5]\n",
    "num=len(l)\n",
    "avg=0\n",
    "for x in l:\n",
    "    avg+=x/num\n",
    "print(avg)"
   ]
  },
  {
   "cell_type": "code",
   "execution_count": 14,
   "id": "6b40607b",
   "metadata": {},
   "outputs": [
    {
     "name": "stdout",
     "output_type": "stream",
     "text": [
      "<class 'str'>\n",
      "<class 'int'>\n",
      "<class 'float'>\n",
      "<class 'int'>\n",
      "<class 'int'>\n",
      "4\n"
     ]
    }
   ],
   "source": [
    "#9.Write a Python program to count integer in a given mixed list.\n",
    "#Ex:Input: [10, “a”,2,3,5.5,1.34,” Abc”,” rt”]\n",
    "#Output: Number of integers in the list:3\n",
    "x=[\"a\",21,-19.8,34,56]\n",
    "count=0\n",
    "for y in x:\n",
    "    print(type(y))\n",
    "    if type(y)==int or type(y)==float:\n",
    "        count+=1\n",
    "        \n",
    "print(count) \n",
    "\n",
    "\n"
   ]
  },
  {
   "cell_type": "code",
   "execution_count": 15,
   "id": "8b3ed3d4",
   "metadata": {},
   "outputs": [
    {
     "data": {
      "text/plain": [
       "[(2+0j), 78.9, '@', 'a', 23]"
      ]
     },
     "execution_count": 15,
     "metadata": {},
     "output_type": "execute_result"
    }
   ],
   "source": [
    "#10. Write a Python program to reverse the list\n",
    "x=[23,\"a\",\"@\",78.9,2+0j]\n",
    "x.reverse()\n",
    "x\n",
    "\n"
   ]
  },
  {
   "cell_type": "code",
   "execution_count": 18,
   "id": "f715eac0",
   "metadata": {},
   "outputs": [
    {
     "name": "stdout",
     "output_type": "stream",
     "text": [
      "('p', 'y', 't', 'h', 'o', 'n', '1', '.', '2')\n"
     ]
    }
   ],
   "source": [
    "#11. Write a Python program convert a given string to a tuple\n",
    "#Ex: Input: “python1.2”\n",
    "#Output: (“p”,” y”,”t”,”h”,” o”,” n”,”1”,”.”,”2”)\n",
    "x=(\"python1.2\")\n",
    "y=tuple(x)\n",
    "type(y)\n",
    "print(y)\n"
   ]
  },
  {
   "cell_type": "code",
   "execution_count": null,
   "id": "bb58deab",
   "metadata": {},
   "outputs": [],
   "source": []
  },
  {
   "cell_type": "code",
   "execution_count": null,
   "id": "01f7796d",
   "metadata": {},
   "outputs": [],
   "source": []
  }
 ],
 "metadata": {
  "kernelspec": {
   "display_name": "Python 3 (ipykernel)",
   "language": "python",
   "name": "python3"
  },
  "language_info": {
   "codemirror_mode": {
    "name": "ipython",
    "version": 3
   },
   "file_extension": ".py",
   "mimetype": "text/x-python",
   "name": "python",
   "nbconvert_exporter": "python",
   "pygments_lexer": "ipython3",
   "version": "3.9.13"
  }
 },
 "nbformat": 4,
 "nbformat_minor": 5
}
