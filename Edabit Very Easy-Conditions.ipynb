{
 "cells": [
  {
   "cell_type": "code",
   "execution_count": 1,
   "id": "5fd148d7",
   "metadata": {},
   "outputs": [],
   "source": [
    "#1 Create a function that takes a boolean variable flag and returns it as a string.\n",
    "#Examples\n",
    "#bool_to_string(True) ➞ \"True\"\n",
    "#bool_to_string(False) ➞ \"False\"\n",
    "\n",
    "def bool_to_string(flag):\n",
    "    if flag==True:\n",
    "        return \"True\"\n",
    "    elif flag==False:\n",
    "        return \"False\"\n",
    "    else:\n",
    "        return None"
   ]
  },
  {
   "cell_type": "code",
   "execution_count": 2,
   "id": "8ed9e3dc",
   "metadata": {},
   "outputs": [
    {
     "data": {
      "text/plain": [
       "'True'"
      ]
     },
     "execution_count": 2,
     "metadata": {},
     "output_type": "execute_result"
    }
   ],
   "source": [
    "bool_to_string(True)"
   ]
  },
  {
   "cell_type": "code",
   "execution_count": 3,
   "id": "b6edbfbf",
   "metadata": {},
   "outputs": [
    {
     "data": {
      "text/plain": [
       "'False'"
      ]
     },
     "execution_count": 3,
     "metadata": {},
     "output_type": "execute_result"
    }
   ],
   "source": [
    "bool_to_string(False)"
   ]
  },
  {
   "cell_type": "code",
   "execution_count": 4,
   "id": "00a027b5",
   "metadata": {},
   "outputs": [
    {
     "ename": "NameError",
     "evalue": "name 'false' is not defined",
     "output_type": "error",
     "traceback": [
      "\u001b[1;31m---------------------------------------------------------------------------\u001b[0m",
      "\u001b[1;31mNameError\u001b[0m                                 Traceback (most recent call last)",
      "\u001b[1;32m~\\AppData\\Local\\Temp\\ipykernel_12836\\1514416633.py\u001b[0m in \u001b[0;36m<module>\u001b[1;34m\u001b[0m\n\u001b[1;32m----> 1\u001b[1;33m \u001b[0mbool_to_string\u001b[0m\u001b[1;33m(\u001b[0m\u001b[0mfalse\u001b[0m\u001b[1;33m)\u001b[0m\u001b[1;33m\u001b[0m\u001b[1;33m\u001b[0m\u001b[0m\n\u001b[0m",
      "\u001b[1;31mNameError\u001b[0m: name 'false' is not defined"
     ]
    }
   ],
   "source": [
    "bool_to_string(false)"
   ]
  },
  {
   "cell_type": "code",
   "execution_count": 5,
   "id": "7db333df",
   "metadata": {},
   "outputs": [],
   "source": [
    "#2 Create a function that returns True when num1 is equal to num2; otherwise return False.\n",
    "#Examples\n",
    "#is_same_num(4, 8) ➞ False\n",
    "#is_same_num(2, 2) ➞  True\n",
    "#is_same_num(2, \"2\") ➞ False\n",
    "\n",
    "def is_same_num(num1,num2):\n",
    "    if num1==num2:\n",
    "        print(True)\n",
    "    else:\n",
    "        print(False)"
   ]
  },
  {
   "cell_type": "code",
   "execution_count": 6,
   "id": "1b95d36d",
   "metadata": {},
   "outputs": [
    {
     "name": "stdout",
     "output_type": "stream",
     "text": [
      "False\n"
     ]
    }
   ],
   "source": [
    "is_same_num(4,8)"
   ]
  },
  {
   "cell_type": "code",
   "execution_count": 7,
   "id": "48ea4caf",
   "metadata": {},
   "outputs": [
    {
     "name": "stdout",
     "output_type": "stream",
     "text": [
      "True\n"
     ]
    }
   ],
   "source": [
    "is_same_num(2,2)"
   ]
  },
  {
   "cell_type": "code",
   "execution_count": 8,
   "id": "0c65bcd1",
   "metadata": {},
   "outputs": [
    {
     "name": "stdout",
     "output_type": "stream",
     "text": [
      "False\n"
     ]
    }
   ],
   "source": [
    "is_same_num(2,\"2\")"
   ]
  },
  {
   "cell_type": "code",
   "execution_count": 9,
   "id": "5d146a20",
   "metadata": {},
   "outputs": [],
   "source": [
    "#3 Create a function that takes a number as its only argument and returns True if it's less than or equal to zero, otherwise return False.\n",
    "#Examples\n",
    "#less_than_or_equal_to_zero(5) ➞ False\n",
    "#less_than_or_equal_to_zero(0) ➞ True\n",
    "#less_than_or_equal_to_zero(-2) ➞ True\n",
    "\n",
    "def less_than_or_equal_to_zero(num1):\n",
    "        if num1<=0:\n",
    "            print(True)\n",
    "        else:\n",
    "            print(False)"
   ]
  },
  {
   "cell_type": "code",
   "execution_count": 10,
   "id": "f76f3a6b",
   "metadata": {},
   "outputs": [
    {
     "name": "stdout",
     "output_type": "stream",
     "text": [
      "True\n"
     ]
    }
   ],
   "source": [
    "less_than_or_equal_to_zero(0)"
   ]
  },
  {
   "cell_type": "code",
   "execution_count": 11,
   "id": "c5cd4199",
   "metadata": {},
   "outputs": [
    {
     "name": "stdout",
     "output_type": "stream",
     "text": [
      "False\n"
     ]
    }
   ],
   "source": [
    "less_than_or_equal_to_zero(2)"
   ]
  },
  {
   "cell_type": "code",
   "execution_count": 12,
   "id": "e92d6e30",
   "metadata": {},
   "outputs": [
    {
     "name": "stdout",
     "output_type": "stream",
     "text": [
      "False\n"
     ]
    }
   ],
   "source": [
    "less_than_or_equal_to_zero(5)"
   ]
  },
  {
   "cell_type": "code",
   "execution_count": 13,
   "id": "f122caa8",
   "metadata": {},
   "outputs": [],
   "source": [
    "#4 Emmy has written a function that returns a greeting to users. However, she's in love with Mubashir, and would like to greet him slightly differently. She added a special case in her function, but she made a mistake.\n",
    "#Can you help her?\n",
    "#Examples\n",
    "#greeting(\"Matt\") ➞ \"Hello, Matt!\"\n",
    "#greeting(\"Helen\") ➞ \"Hello, Helen!\"\n",
    "#greeting(\"Mubashir\") ➞ \"Hello, my Love!\"\n",
    "\n",
    "def greeting(name):\n",
    "    if name==\"Mubashir\" or name==\"mubashir\":\n",
    "        print(\"\\\"Hello, my Love!\\\"\")\n",
    "    else:\n",
    "        print(\"\\\"Hello, {}!\\\"\".format(name))\n"
   ]
  },
  {
   "cell_type": "code",
   "execution_count": 14,
   "id": "2992d74f",
   "metadata": {},
   "outputs": [
    {
     "name": "stdout",
     "output_type": "stream",
     "text": [
      "\"Hello, Matt!\"\n"
     ]
    }
   ],
   "source": [
    "greeting(\"Matt\")"
   ]
  },
  {
   "cell_type": "code",
   "execution_count": 15,
   "id": "f2729b56",
   "metadata": {},
   "outputs": [
    {
     "name": "stdout",
     "output_type": "stream",
     "text": [
      "\"Hello, my Love!\"\n"
     ]
    }
   ],
   "source": [
    "greeting(\"Mubashir\")"
   ]
  },
  {
   "cell_type": "code",
   "execution_count": 16,
   "id": "62d824e5",
   "metadata": {},
   "outputs": [
    {
     "name": "stdout",
     "output_type": "stream",
     "text": [
      "\"Hello, Helen!\"\n"
     ]
    }
   ],
   "source": [
    "greeting(\"Helen\")"
   ]
  },
  {
   "cell_type": "code",
   "execution_count": 18,
   "id": "70800d12",
   "metadata": {},
   "outputs": [],
   "source": [
    "#5 Create a function that takes two arguments. Both arguments are integers, a and b. Return True if one of them is 10 or if their sum is 10.\n",
    "#Examples\n",
    "#makes10(9, 10) ➞ True\n",
    "#makes10(9, 9) ➞ False\n",
    "#makes10(1, 9) ➞ True\n",
    "def makes10(a,b):\n",
    "    if a==10 or b==10 or a+b==10:\n",
    "        return True\n",
    "    else:\n",
    "        return False"
   ]
  },
  {
   "cell_type": "code",
   "execution_count": 19,
   "id": "5e14952e",
   "metadata": {},
   "outputs": [
    {
     "data": {
      "text/plain": [
       "True"
      ]
     },
     "execution_count": 19,
     "metadata": {},
     "output_type": "execute_result"
    }
   ],
   "source": [
    " makes10(9,10)"
   ]
  },
  {
   "cell_type": "code",
   "execution_count": 20,
   "id": "982c2769",
   "metadata": {},
   "outputs": [
    {
     "data": {
      "text/plain": [
       "False"
      ]
     },
     "execution_count": 20,
     "metadata": {},
     "output_type": "execute_result"
    }
   ],
   "source": [
    " makes10(9,9)"
   ]
  },
  {
   "cell_type": "code",
   "execution_count": 21,
   "id": "1b1cdfbd",
   "metadata": {},
   "outputs": [
    {
     "data": {
      "text/plain": [
       "True"
      ]
     },
     "execution_count": 21,
     "metadata": {},
     "output_type": "execute_result"
    }
   ],
   "source": [
    " makes10(1,9)"
   ]
  },
  {
   "cell_type": "code",
   "execution_count": 22,
   "id": "993ce8c2",
   "metadata": {},
   "outputs": [],
   "source": [
    "#6 Create a function that takes three arguments prob, prize, pay and returns True if prob * prize > pay; otherwise return False.\n",
    "#To illustrate:\n",
    "#profitable_gamble(0.2, 50, 9)\n",
    "#... should yield True, since the net profit is 1 (0.2 * 50 - 9), and 1 > 0.\n",
    "#Examples\n",
    "#profitable_gamble(0.2, 50, 9) ➞ True\n",
    "#profitable_gamble(0.9, 1, 2) ➞ False\n",
    "#profitable_gamble(0.9, 3, 2) ➞ True\n",
    "def profitable_gamble(prob,prize,pay):\n",
    "    if prob*prize>pay:\n",
    "        return True\n",
    "    else:\n",
    "        return False"
   ]
  },
  {
   "cell_type": "code",
   "execution_count": 23,
   "id": "f1e44a98",
   "metadata": {},
   "outputs": [
    {
     "data": {
      "text/plain": [
       "True"
      ]
     },
     "execution_count": 23,
     "metadata": {},
     "output_type": "execute_result"
    }
   ],
   "source": [
    "profitable_gamble(0.2,50,9)"
   ]
  },
  {
   "cell_type": "code",
   "execution_count": 24,
   "id": "612c3656",
   "metadata": {},
   "outputs": [
    {
     "data": {
      "text/plain": [
       "False"
      ]
     },
     "execution_count": 24,
     "metadata": {},
     "output_type": "execute_result"
    }
   ],
   "source": [
    "profitable_gamble(0.9,1,2)"
   ]
  },
  {
   "cell_type": "code",
   "execution_count": 25,
   "id": "19b6961a",
   "metadata": {},
   "outputs": [
    {
     "data": {
      "text/plain": [
       "True"
      ]
     },
     "execution_count": 25,
     "metadata": {},
     "output_type": "execute_result"
    }
   ],
   "source": [
    "profitable_gamble(0.9,3,2)"
   ]
  },
  {
   "cell_type": "code",
   "execution_count": 26,
   "id": "d7610052",
   "metadata": {},
   "outputs": [],
   "source": [
    "#7 Create a function that takes an integer and returns True if it's divisible by 100, otherwise return False.\n",
    "#Examples\n",
    "#divisible(1) ➞ False\n",
    "#divisible(1000) ➞ True\n",
    "#divisible(100) ➞ True\n",
    "\n",
    "def divisible(x):\n",
    "    if num%100==0:\n",
    "        return True\n",
    "    else:\n",
    "        return False"
   ]
  },
  {
   "cell_type": "code",
   "execution_count": 27,
   "id": "a754de01",
   "metadata": {},
   "outputs": [
    {
     "data": {
      "text/plain": [
       "False"
      ]
     },
     "execution_count": 27,
     "metadata": {},
     "output_type": "execute_result"
    }
   ],
   "source": [
    "divisible(1)"
   ]
  },
  {
   "cell_type": "code",
   "execution_count": 28,
   "id": "ce2707df",
   "metadata": {},
   "outputs": [
    {
     "data": {
      "text/plain": [
       "True"
      ]
     },
     "execution_count": 28,
     "metadata": {},
     "output_type": "execute_result"
    }
   ],
   "source": [
    "divisible(1000)"
   ]
  },
  {
   "cell_type": "code",
   "execution_count": 29,
   "id": "188695f7",
   "metadata": {},
   "outputs": [
    {
     "data": {
      "text/plain": [
       "True"
      ]
     },
     "execution_count": 29,
     "metadata": {},
     "output_type": "execute_result"
    }
   ],
   "source": [
    "divisible(100)"
   ]
  },
  {
   "cell_type": "code",
   "execution_count": 30,
   "id": "5522d0a0",
   "metadata": {},
   "outputs": [],
   "source": [
    "#8 Create a function that takes two strings as arguments and return either True or False depending on whether the total number of characters in the first string is equal to the total number of characters in the second string.\n",
    "#Examples\n",
    "#comp(\"AB\", \"CD\") ➞ True\n",
    "#comp(\"ABC\", \"DE\") ➞ False\n",
    "#comp(\"hello\", \"edabit\") ➞ False\n",
    "\n",
    "def comp(a,b):\n",
    "    if len(a)==len(b):\n",
    "        return True\n",
    "    else:\n",
    "        return False"
   ]
  },
  {
   "cell_type": "code",
   "execution_count": 31,
   "id": "2b4fb5c6",
   "metadata": {},
   "outputs": [
    {
     "data": {
      "text/plain": [
       "True"
      ]
     },
     "execution_count": 31,
     "metadata": {},
     "output_type": "execute_result"
    }
   ],
   "source": [
    "comp(\"AB\", \"CD\")"
   ]
  },
  {
   "cell_type": "code",
   "execution_count": 32,
   "id": "49122a4f",
   "metadata": {},
   "outputs": [
    {
     "data": {
      "text/plain": [
       "False"
      ]
     },
     "execution_count": 32,
     "metadata": {},
     "output_type": "execute_result"
    }
   ],
   "source": [
    "comp(\"ABC\", \"DE\")"
   ]
  },
  {
   "cell_type": "code",
   "execution_count": 33,
   "id": "fa726960",
   "metadata": {},
   "outputs": [
    {
     "data": {
      "text/plain": [
       "False"
      ]
     },
     "execution_count": 33,
     "metadata": {},
     "output_type": "execute_result"
    }
   ],
   "source": [
    "comp(\"hello\", \"edabit\")"
   ]
  },
  {
   "cell_type": "code",
   "execution_count": 34,
   "id": "37babb28",
   "metadata": {},
   "outputs": [],
   "source": [
    "#9 Given a string, return True if its length is even or False if the length is odd.\n",
    "#Examples\n",
    "#odd_or_even(\"apples\") ➞ True\n",
    "# The word \"apples\" has 6 characters.\n",
    "# 6 is an even number, so the program outputs True.\n",
    "#odd_or_even(\"pears\") ➞ False\n",
    "# \"pears\" has 5 letters, and 5 is odd.\n",
    "# Therefore the program outputs False.\n",
    "#odd_or_even(\"cherry\") ➞ True\n",
    "\n",
    "def odd_or_even(s):\n",
    "    if len(s)%2==0:\n",
    "        return True\n",
    "    else:\n",
    "        return False"
   ]
  },
  {
   "cell_type": "code",
   "execution_count": 35,
   "id": "9dacc015",
   "metadata": {},
   "outputs": [
    {
     "data": {
      "text/plain": [
       "True"
      ]
     },
     "execution_count": 35,
     "metadata": {},
     "output_type": "execute_result"
    }
   ],
   "source": [
    " odd_or_even(\"apples\")"
   ]
  },
  {
   "cell_type": "code",
   "execution_count": 36,
   "id": "cbbdd827",
   "metadata": {},
   "outputs": [
    {
     "data": {
      "text/plain": [
       "False"
      ]
     },
     "execution_count": 36,
     "metadata": {},
     "output_type": "execute_result"
    }
   ],
   "source": [
    " odd_or_even(\"pears\")"
   ]
  },
  {
   "cell_type": "code",
   "execution_count": 37,
   "id": "eb7e2987",
   "metadata": {},
   "outputs": [
    {
     "data": {
      "text/plain": [
       "True"
      ]
     },
     "execution_count": 37,
     "metadata": {},
     "output_type": "execute_result"
    }
   ],
   "source": [
    " odd_or_even(\"cherry\")"
   ]
  },
  {
   "cell_type": "code",
   "execution_count": 38,
   "id": "5d9d6fe3",
   "metadata": {},
   "outputs": [],
   "source": [
    "#10 Create a function that takes a string; we'll say that the front is the first three characters of the string. If the string length is less than three characters, the front is whatever is there. Return a new string, which is three copies of the front.\n",
    "#Examples\n",
    "#front3(\"Python\") ➞ \"PytPytPyt\"\n",
    "#front3(\"Cucumber\") ➞ \"CucCucCuc\"\n",
    "#front3(\"bioshock\") ➞ \"biobiobio\"\n",
    "def front3(s):\n",
    "    if len(s)<=3:\n",
    "        front=s\n",
    "    else:\n",
    "        front=s[:3]\n",
    "    return front*3"
   ]
  },
  {
   "cell_type": "code",
   "execution_count": 39,
   "id": "a5a559be",
   "metadata": {},
   "outputs": [
    {
     "data": {
      "text/plain": [
       "'pytpytpyt'"
      ]
     },
     "execution_count": 39,
     "metadata": {},
     "output_type": "execute_result"
    }
   ],
   "source": [
    "front3(\"python\")"
   ]
  },
  {
   "cell_type": "code",
   "execution_count": 40,
   "id": "1e7f605e",
   "metadata": {},
   "outputs": [
    {
     "data": {
      "text/plain": [
       "'cuccuccuc'"
      ]
     },
     "execution_count": 40,
     "metadata": {},
     "output_type": "execute_result"
    }
   ],
   "source": [
    "front3(\"cucumber\")"
   ]
  },
  {
   "cell_type": "code",
   "execution_count": 41,
   "id": "6c0755cf",
   "metadata": {},
   "outputs": [
    {
     "data": {
      "text/plain": [
       "'biobiobio'"
      ]
     },
     "execution_count": 41,
     "metadata": {},
     "output_type": "execute_result"
    }
   ],
   "source": [
    "front3(\"bioshock\")"
   ]
  },
  {
   "cell_type": "code",
   "execution_count": 48,
   "id": "9d704bf6",
   "metadata": {},
   "outputs": [],
   "source": [
    "#11 Write a function that returns True if the given integer is even, and False if it's odd.\n",
    "\n",
    "def Even(x):\n",
    "    return x%2==0\n"
   ]
  },
  {
   "cell_type": "code",
   "execution_count": 49,
   "id": "f9f0022b",
   "metadata": {},
   "outputs": [
    {
     "data": {
      "text/plain": [
       "True"
      ]
     },
     "execution_count": 49,
     "metadata": {},
     "output_type": "execute_result"
    }
   ],
   "source": [
    "Even(2)"
   ]
  },
  {
   "cell_type": "code",
   "execution_count": 50,
   "id": "0163da5b",
   "metadata": {},
   "outputs": [
    {
     "data": {
      "text/plain": [
       "False"
      ]
     },
     "execution_count": 50,
     "metadata": {},
     "output_type": "execute_result"
    }
   ],
   "source": [
    "Even(3)"
   ]
  },
  {
   "cell_type": "code",
   "execution_count": 51,
   "id": "b96cc629",
   "metadata": {},
   "outputs": [],
   "source": [
    "#12 Create a function that takes a number as an argument and returns \"even\" for even numbers and \"odd\" for odd numbers.\n",
    "#Examples\n",
    "#isEvenOrOdd(3) ➞ \"odd\"\n",
    "#isEvenOrOdd(146) ➞ \"even\"\n",
    "#isEvenOrOdd(19) ➞ \"odd\"\n",
    "\n",
    "def isEvenOrOdd(a):\n",
    "    if a%2==0:\n",
    "        return \"even\"\n",
    "    else:\n",
    "        return \"odd\""
   ]
  },
  {
   "cell_type": "code",
   "execution_count": 52,
   "id": "ab5db5ee",
   "metadata": {},
   "outputs": [
    {
     "data": {
      "text/plain": [
       "'odd'"
      ]
     },
     "execution_count": 52,
     "metadata": {},
     "output_type": "execute_result"
    }
   ],
   "source": [
    "isEvenOrOdd(3)"
   ]
  },
  {
   "cell_type": "code",
   "execution_count": 53,
   "id": "110ab161",
   "metadata": {},
   "outputs": [
    {
     "data": {
      "text/plain": [
       "'even'"
      ]
     },
     "execution_count": 53,
     "metadata": {},
     "output_type": "execute_result"
    }
   ],
   "source": [
    "isEvenOrOdd(146)"
   ]
  },
  {
   "cell_type": "code",
   "execution_count": 54,
   "id": "75b31448",
   "metadata": {},
   "outputs": [
    {
     "data": {
      "text/plain": [
       "'odd'"
      ]
     },
     "execution_count": 54,
     "metadata": {},
     "output_type": "execute_result"
    }
   ],
   "source": [
    "isEvenOrOdd(19)"
   ]
  },
  {
   "cell_type": "code",
   "execution_count": 55,
   "id": "68e91a82",
   "metadata": {},
   "outputs": [],
   "source": [
    "#13 Create a function that takes in a word and determines whether or not it is plural. A plural word is one that ends in \"s\".\n",
    "#Examples\n",
    "#is_plural(\"changes\") ➞ True\n",
    "#is_plural(\"change\") ➞ False\n",
    "#is_plural(\"dudes\") ➞ True\n",
    "#is_plural(\"magic\") ➞ False\n",
    "\n",
    "def is_plural(s):\n",
    "    if s.endswith(\"s\"):\n",
    "        return True\n",
    "    else:\n",
    "        return False"
   ]
  },
  {
   "cell_type": "code",
   "execution_count": 56,
   "id": "25b142c1",
   "metadata": {},
   "outputs": [
    {
     "data": {
      "text/plain": [
       "True"
      ]
     },
     "execution_count": 56,
     "metadata": {},
     "output_type": "execute_result"
    }
   ],
   "source": [
    "is_plural(\"changes\")"
   ]
  },
  {
   "cell_type": "code",
   "execution_count": 57,
   "id": "7d7cfe8b",
   "metadata": {},
   "outputs": [
    {
     "data": {
      "text/plain": [
       "False"
      ]
     },
     "execution_count": 57,
     "metadata": {},
     "output_type": "execute_result"
    }
   ],
   "source": [
    "is_plural(\"change\") "
   ]
  },
  {
   "cell_type": "code",
   "execution_count": 59,
   "id": "b41ffaa4",
   "metadata": {},
   "outputs": [
    {
     "data": {
      "text/plain": [
       "True"
      ]
     },
     "execution_count": 59,
     "metadata": {},
     "output_type": "execute_result"
    }
   ],
   "source": [
    "is_plural(\"dudes\")"
   ]
  },
  {
   "cell_type": "code",
   "execution_count": 60,
   "id": "84f632ac",
   "metadata": {},
   "outputs": [
    {
     "data": {
      "text/plain": [
       "False"
      ]
     },
     "execution_count": 60,
     "metadata": {},
     "output_type": "execute_result"
    }
   ],
   "source": [
    "is_plural(\"magic\")"
   ]
  },
  {
   "cell_type": "code",
   "execution_count": 61,
   "id": "f67b5215",
   "metadata": {},
   "outputs": [],
   "source": [
    "#14 Create a function that takes a string (a random name). If the last character of the name is an \"n\", return True, otherwise return False.\n",
    "#Examples\n",
    "#is_last_character_n(\"Aiden\") ➞ True\n",
    "#is_last_character_n(\"Piet\") ➞ False\n",
    "#is_last_character_n(\"Bert\") ➞ False\n",
    "#is_last_character_n(\"Dean\") ➞ True\n",
    "\n",
    "def is_last_character_n(s):\n",
    "    if s.endswith(\"n\"):\n",
    "        return True\n",
    "    else:\n",
    "        return False"
   ]
  },
  {
   "cell_type": "code",
   "execution_count": 62,
   "id": "55f4f03f",
   "metadata": {},
   "outputs": [
    {
     "data": {
      "text/plain": [
       "True"
      ]
     },
     "execution_count": 62,
     "metadata": {},
     "output_type": "execute_result"
    }
   ],
   "source": [
    "is_last_character_n(\"Aiden\")"
   ]
  },
  {
   "cell_type": "code",
   "execution_count": 63,
   "id": "4d045e50",
   "metadata": {},
   "outputs": [
    {
     "data": {
      "text/plain": [
       "False"
      ]
     },
     "execution_count": 63,
     "metadata": {},
     "output_type": "execute_result"
    }
   ],
   "source": [
    "is_last_character_n(\"piet\")"
   ]
  },
  {
   "cell_type": "code",
   "execution_count": 64,
   "id": "0debe008",
   "metadata": {},
   "outputs": [
    {
     "data": {
      "text/plain": [
       "False"
      ]
     },
     "execution_count": 64,
     "metadata": {},
     "output_type": "execute_result"
    }
   ],
   "source": [
    "is_last_character_n(\"Bert\")"
   ]
  },
  {
   "cell_type": "code",
   "execution_count": 65,
   "id": "cd9b306d",
   "metadata": {},
   "outputs": [
    {
     "data": {
      "text/plain": [
       "True"
      ]
     },
     "execution_count": 65,
     "metadata": {},
     "output_type": "execute_result"
    }
   ],
   "source": [
    "is_last_character_n(\"Dean\")"
   ]
  },
  {
   "cell_type": "code",
   "execution_count": 66,
   "id": "68feeaba",
   "metadata": {},
   "outputs": [],
   "source": [
    "#15 The packaging system is running wild! The candy is lying loose all over in the warehouse, the cereal is missing,\n",
    "#and bread is stuffed in a bottle. What is going on here? The candy should be in plastic and the bread should be in\n",
    "#a bag.\n",
    "#The packaging machine is running the get_container() function to retrieve the container of a product. But something is not right...\n",
    "#Examples\n",
    "#get_container(\"Bread\") ➞ \"bag\"\n",
    "#get_container(\"Beer\") ➞ \"bottle\"\n",
    "#get_container(\"Candy\") ➞ \"plastic\"\n",
    "#get_container(\"Cheese\") ➞ None\n",
    "\n",
    "def get_container(item):\n",
    "    i=item.lower()\n",
    "    if i==\"bread\":\n",
    "        return \"bag\"\n",
    "    elif i==\"beer\":\n",
    "        return \"bottle\"\n",
    "    elif i==\"candy\":\n",
    "        return \"plastic\"\n",
    "    else:\n",
    "        return \"None\""
   ]
  },
  {
   "cell_type": "code",
   "execution_count": 67,
   "id": "8279e3bd",
   "metadata": {},
   "outputs": [
    {
     "data": {
      "text/plain": [
       "'bag'"
      ]
     },
     "execution_count": 67,
     "metadata": {},
     "output_type": "execute_result"
    }
   ],
   "source": [
    "get_container(\"Bread\")"
   ]
  },
  {
   "cell_type": "code",
   "execution_count": 68,
   "id": "3928d8c8",
   "metadata": {},
   "outputs": [
    {
     "data": {
      "text/plain": [
       "'bag'"
      ]
     },
     "execution_count": 68,
     "metadata": {},
     "output_type": "execute_result"
    }
   ],
   "source": [
    "get_container(\"bread\")"
   ]
  },
  {
   "cell_type": "code",
   "execution_count": 69,
   "id": "5724a953",
   "metadata": {},
   "outputs": [
    {
     "data": {
      "text/plain": [
       "'bottle'"
      ]
     },
     "execution_count": 69,
     "metadata": {},
     "output_type": "execute_result"
    }
   ],
   "source": [
    "get_container(\"Beer\")"
   ]
  },
  {
   "cell_type": "code",
   "execution_count": 70,
   "id": "f032f067",
   "metadata": {},
   "outputs": [
    {
     "data": {
      "text/plain": [
       "'plastic'"
      ]
     },
     "execution_count": 70,
     "metadata": {},
     "output_type": "execute_result"
    }
   ],
   "source": [
    "get_container(\"Candy\")"
   ]
  },
  {
   "cell_type": "code",
   "execution_count": 72,
   "id": "cdddf35c",
   "metadata": {},
   "outputs": [
    {
     "data": {
      "text/plain": [
       "'None'"
      ]
     },
     "execution_count": 72,
     "metadata": {},
     "output_type": "execute_result"
    }
   ],
   "source": [
    "get_container(\"Cheese\") "
   ]
  },
  {
   "cell_type": "code",
   "execution_count": 73,
   "id": "efb729fc",
   "metadata": {},
   "outputs": [],
   "source": [
    "#16 Create a function that returns the opposite of the given boolean, as a number.\n",
    "#Examples\n",
    "#flip_bool(True) ➞ 0\n",
    "#flip_bool(False) ➞ 1\n",
    "#flip_bool(1) ➞ 0\n",
    "#flip_bool(0) ➞ 1\n",
    "\n",
    "def flip_bool(v):\n",
    "    if v==True or v==1:\n",
    "        return 0\n",
    "    else:\n",
    "        return 1"
   ]
  },
  {
   "cell_type": "code",
   "execution_count": 75,
   "id": "6d12602a",
   "metadata": {},
   "outputs": [
    {
     "data": {
      "text/plain": [
       "0"
      ]
     },
     "execution_count": 75,
     "metadata": {},
     "output_type": "execute_result"
    }
   ],
   "source": [
    "flip_bool(True)"
   ]
  },
  {
   "cell_type": "code",
   "execution_count": 76,
   "id": "cab21a8d",
   "metadata": {},
   "outputs": [
    {
     "data": {
      "text/plain": [
       "1"
      ]
     },
     "execution_count": 76,
     "metadata": {},
     "output_type": "execute_result"
    }
   ],
   "source": [
    "flip_bool(False)"
   ]
  },
  {
   "cell_type": "code",
   "execution_count": 77,
   "id": "5d873625",
   "metadata": {},
   "outputs": [
    {
     "data": {
      "text/plain": [
       "0"
      ]
     },
     "execution_count": 77,
     "metadata": {},
     "output_type": "execute_result"
    }
   ],
   "source": [
    "flip_bool(1)"
   ]
  },
  {
   "cell_type": "code",
   "execution_count": 79,
   "id": "31da2fa5",
   "metadata": {},
   "outputs": [
    {
     "data": {
      "text/plain": [
       "1"
      ]
     },
     "execution_count": 79,
     "metadata": {},
     "output_type": "execute_result"
    }
   ],
   "source": [
    "flip_bool(0)"
   ]
  },
  {
   "cell_type": "code",
   "execution_count": 80,
   "id": "7d90ffe8",
   "metadata": {},
   "outputs": [],
   "source": [
    "#17 Write a function that accepts base (decimal), height (decimal) and shape (\"triangle\", \"parallelogram\") as input and calculates the area of that shape.\n",
    "#Examples\n",
    "#area_shape(2, 3, \"triangle\") ➞ 3\n",
    "#area_shape(8, 6, \"parallelogram\") ➞ 48\n",
    "#area_shape(2.9, 1.3, \"parallelogram\") ➞ 3.77\n",
    "\n",
    "def area_shape(base=1,height=1,shape=\"parallelogram\"):\n",
    "    s=shape.lower()\n",
    "    if s==\"triangle\":\n",
    "        area=(0.5*base*height)\n",
    "    elif s==\"parallelogram\":\n",
    "        area=(base*height)\n",
    "    else: \n",
    "        return None\n",
    "    return area"
   ]
  },
  {
   "cell_type": "code",
   "execution_count": 81,
   "id": "820003ee",
   "metadata": {},
   "outputs": [
    {
     "data": {
      "text/plain": [
       "3.0"
      ]
     },
     "execution_count": 81,
     "metadata": {},
     "output_type": "execute_result"
    }
   ],
   "source": [
    "area_shape(2, 3, \"triangle\")"
   ]
  },
  {
   "cell_type": "code",
   "execution_count": 82,
   "id": "00f4bfd7",
   "metadata": {},
   "outputs": [
    {
     "data": {
      "text/plain": [
       "48"
      ]
     },
     "execution_count": 82,
     "metadata": {},
     "output_type": "execute_result"
    }
   ],
   "source": [
    "area_shape(8, 6, \"parallelogram\")"
   ]
  },
  {
   "cell_type": "code",
   "execution_count": 83,
   "id": "9bd51674",
   "metadata": {},
   "outputs": [
    {
     "data": {
      "text/plain": [
       "3.77"
      ]
     },
     "execution_count": 83,
     "metadata": {},
     "output_type": "execute_result"
    }
   ],
   "source": [
    "area_shape(2.9, 1.3, \"parallelogram\")"
   ]
  },
  {
   "cell_type": "code",
   "execution_count": 84,
   "id": "f0365752",
   "metadata": {},
   "outputs": [],
   "source": [
    "#18 You will need to write three unfinished logic gates. Continue to write the three logic gates: AND, OR, and NOT.\n",
    "#Examples\n",
    "#AND(1, 1) ➞ 1\n",
    "#AND(0, 0) ➞ 0\n",
    "#OR(1, 0) ➞ 1\n",
    "#OR(1, 1) ➞ 1\n",
    "#NOT(0) ➞ 1\n",
    "#NOT(1) ➞ 0\n",
    "def AND(x,y):\n",
    "    if x==1 and y==1:\n",
    "        return 1\n",
    "    else:\n",
    "        return 0\n",
    "\n",
    "def OR(x,y):\n",
    "    if x==1 or y==1:\n",
    "        return 1\n",
    "    else:\n",
    "        return 0\n",
    "def NOT(x):\n",
    "    if x==1:\n",
    "        return 0\n",
    "    elif x==0:\n",
    "        return 1"
   ]
  },
  {
   "cell_type": "code",
   "execution_count": 86,
   "id": "bace5406",
   "metadata": {},
   "outputs": [
    {
     "data": {
      "text/plain": [
       "1"
      ]
     },
     "execution_count": 86,
     "metadata": {},
     "output_type": "execute_result"
    }
   ],
   "source": [
    "AND(1,1)"
   ]
  },
  {
   "cell_type": "code",
   "execution_count": 87,
   "id": "80a1a672",
   "metadata": {},
   "outputs": [
    {
     "data": {
      "text/plain": [
       "0"
      ]
     },
     "execution_count": 87,
     "metadata": {},
     "output_type": "execute_result"
    }
   ],
   "source": [
    "AND(1,0)"
   ]
  },
  {
   "cell_type": "code",
   "execution_count": 88,
   "id": "8bcc2c7f",
   "metadata": {},
   "outputs": [
    {
     "data": {
      "text/plain": [
       "0"
      ]
     },
     "execution_count": 88,
     "metadata": {},
     "output_type": "execute_result"
    }
   ],
   "source": [
    "AND(0,0)"
   ]
  },
  {
   "cell_type": "code",
   "execution_count": 89,
   "id": "f2d2c15c",
   "metadata": {},
   "outputs": [
    {
     "data": {
      "text/plain": [
       "1"
      ]
     },
     "execution_count": 89,
     "metadata": {},
     "output_type": "execute_result"
    }
   ],
   "source": [
    "OR(1, 0)"
   ]
  },
  {
   "cell_type": "code",
   "execution_count": 90,
   "id": "ee4bc81e",
   "metadata": {},
   "outputs": [
    {
     "data": {
      "text/plain": [
       "1"
      ]
     },
     "execution_count": 90,
     "metadata": {},
     "output_type": "execute_result"
    }
   ],
   "source": [
    "OR(1, 1)"
   ]
  },
  {
   "cell_type": "code",
   "execution_count": 91,
   "id": "406e4bae",
   "metadata": {},
   "outputs": [
    {
     "data": {
      "text/plain": [
       "1"
      ]
     },
     "execution_count": 91,
     "metadata": {},
     "output_type": "execute_result"
    }
   ],
   "source": [
    "NOT(0)"
   ]
  },
  {
   "cell_type": "code",
   "execution_count": 92,
   "id": "c89230a0",
   "metadata": {},
   "outputs": [
    {
     "data": {
      "text/plain": [
       "0"
      ]
     },
     "execution_count": 92,
     "metadata": {},
     "output_type": "execute_result"
    }
   ],
   "source": [
    "NOT(1)"
   ]
  },
  {
   "cell_type": "code",
   "execution_count": 93,
   "id": "090a4bb3",
   "metadata": {},
   "outputs": [
    {
     "data": {
      "text/plain": [
       "False"
      ]
     },
     "execution_count": 93,
     "metadata": {},
     "output_type": "execute_result"
    }
   ],
   "source": [
    "not(1)"
   ]
  },
  {
   "cell_type": "code",
   "execution_count": 94,
   "id": "42c64d24",
   "metadata": {},
   "outputs": [
    {
     "data": {
      "text/plain": [
       "True"
      ]
     },
     "execution_count": 94,
     "metadata": {},
     "output_type": "execute_result"
    }
   ],
   "source": [
    "not(0)"
   ]
  },
  {
   "cell_type": "code",
   "execution_count": 95,
   "id": "33f6c8c6",
   "metadata": {},
   "outputs": [],
   "source": [
    "#19 A bartender is writing a simple program to determine whether he should serve drinks to someone. He only serves drinks to people 18 and older and when he's not on break.\n",
    "#Given the person's age, and whether break time is in session, create a function which returns whether he should serve drinks.\n",
    "#Examples\n",
    "#should_serve_drinks(17, True) ➞ False\n",
    "#should_serve_drinks(19, False) ➞ True\n",
    "#should_serve_drinks(30, True) ➞ False\n",
    "\n",
    "def should_serve_drinks(age,btime):\n",
    "    if btime==True:\n",
    "        return False\n",
    "    else:\n",
    "        if age>=18:\n",
    "             return True\n",
    "        else:\n",
    "            return False"
   ]
  },
  {
   "cell_type": "code",
   "execution_count": 96,
   "id": "1b69e6a7",
   "metadata": {},
   "outputs": [
    {
     "data": {
      "text/plain": [
       "False"
      ]
     },
     "execution_count": 96,
     "metadata": {},
     "output_type": "execute_result"
    }
   ],
   "source": [
    "should_serve_drinks(17,True)"
   ]
  },
  {
   "cell_type": "code",
   "execution_count": 97,
   "id": "573ea6c6",
   "metadata": {},
   "outputs": [
    {
     "data": {
      "text/plain": [
       "True"
      ]
     },
     "execution_count": 97,
     "metadata": {},
     "output_type": "execute_result"
    }
   ],
   "source": [
    "should_serve_drinks(19,False)"
   ]
  },
  {
   "cell_type": "code",
   "execution_count": 98,
   "id": "0a60c8d0",
   "metadata": {},
   "outputs": [
    {
     "data": {
      "text/plain": [
       "False"
      ]
     },
     "execution_count": 98,
     "metadata": {},
     "output_type": "execute_result"
    }
   ],
   "source": [
    "should_serve_drinks(30,True)"
   ]
  },
  {
   "cell_type": "code",
   "execution_count": 101,
   "id": "5f6d477e",
   "metadata": {},
   "outputs": [],
   "source": [
    "#20 Create a function that takes a string txt and a number n and returns the repeated string n number of times.\n",
    "#If given argument txt is not a string, return Not A String !!\n",
    "#Examples\n",
    "#repeat_string(\"Mubashir\", 2) ➞ \"MubashirMubashir\"\n",
    "#repeat_string(\"Matt\", 3) ➞ \"MattMattMatt\"\n",
    "#repeat_string(1990, 7) ➞ \"Not A String !!\"\n",
    "def repeat_string(text,n):\n",
    "    if text==str(text):\n",
    "        return text*n\n",
    "    elif text!=str(text):\n",
    "        return \"not a string\""
   ]
  },
  {
   "cell_type": "code",
   "execution_count": 102,
   "id": "8903a524",
   "metadata": {},
   "outputs": [
    {
     "data": {
      "text/plain": [
       "'MubashirMubashir'"
      ]
     },
     "execution_count": 102,
     "metadata": {},
     "output_type": "execute_result"
    }
   ],
   "source": [
    "repeat_string(\"Mubashir\",2)"
   ]
  },
  {
   "cell_type": "code",
   "execution_count": 103,
   "id": "761281e7",
   "metadata": {},
   "outputs": [
    {
     "data": {
      "text/plain": [
       "'MattMattMatt'"
      ]
     },
     "execution_count": 103,
     "metadata": {},
     "output_type": "execute_result"
    }
   ],
   "source": [
    "repeat_string(\"Matt\",3)"
   ]
  },
  {
   "cell_type": "code",
   "execution_count": 104,
   "id": "4c2a173d",
   "metadata": {},
   "outputs": [
    {
     "data": {
      "text/plain": [
       "'not a string'"
      ]
     },
     "execution_count": 104,
     "metadata": {},
     "output_type": "execute_result"
    }
   ],
   "source": [
    "repeat_string(1990, 7)"
   ]
  },
  {
   "cell_type": "code",
   "execution_count": 106,
   "id": "26341dca",
   "metadata": {},
   "outputs": [],
   "source": [
    "#22 A taxi journey costs $3 for the first kilometer travelled. However, all kilometers travelled after that will cost $2 each.\n",
    "#Create a function which returns the distance that the taxi must've travelled, given the cost as a parameter.\n",
    "\n",
    "def dis(cost):\n",
    "    remaining_cost = cost - 3\n",
    "    additional_kilometers = remaining_cost \n",
    "    distance = additional_kilometers + 1\n",
    "    return distance"
   ]
  },
  {
   "cell_type": "code",
   "execution_count": 107,
   "id": "649f16d1",
   "metadata": {},
   "outputs": [
    {
     "data": {
      "text/plain": [
       "48"
      ]
     },
     "execution_count": 107,
     "metadata": {},
     "output_type": "execute_result"
    }
   ],
   "source": [
    "dis(50)"
   ]
  },
  {
   "cell_type": "code",
   "execution_count": 110,
   "id": "30deee56",
   "metadata": {},
   "outputs": [
    {
     "data": {
      "text/plain": [
       "110"
      ]
     },
     "execution_count": 110,
     "metadata": {},
     "output_type": "execute_result"
    }
   ],
   "source": [
    "dis(112)"
   ]
  },
  {
   "cell_type": "code",
   "execution_count": 108,
   "id": "93e9d5cc",
   "metadata": {},
   "outputs": [],
   "source": [
    "def journey_distance(cost):\n",
    "    if cost==3:\n",
    "        return 1\n",
    "    else:\n",
    "        return 1+((cost-3)/2)"
   ]
  },
  {
   "cell_type": "code",
   "execution_count": 111,
   "id": "0890b6ea",
   "metadata": {},
   "outputs": [
    {
     "data": {
      "text/plain": [
       "55.5"
      ]
     },
     "execution_count": 111,
     "metadata": {},
     "output_type": "execute_result"
    }
   ],
   "source": [
    "journey_distance(112)"
   ]
  },
  {
   "cell_type": "code",
   "execution_count": 112,
   "id": "11463c4d",
   "metadata": {},
   "outputs": [
    {
     "data": {
      "text/plain": [
       "4.5"
      ]
     },
     "execution_count": 112,
     "metadata": {},
     "output_type": "execute_result"
    }
   ],
   "source": [
    "journey_distance(10)"
   ]
  },
  {
   "cell_type": "code",
   "execution_count": 114,
   "id": "64e6fcac",
   "metadata": {},
   "outputs": [],
   "source": [
    "#22 Given a list that contains the fulcrum \"f\", the effort \"e\", and the load \"l\", write a function that determines \n",
    "#whether or not the list shows a first class lever, second class lever, or a third class lever.\n",
    "#Examples\n",
    "#determine_lever([\"e\", \"f\", \"l\"]) ➞ \"first class lever\"\n",
    "#determine_lever([\"e\", \"l\", \"f\"]) ➞ \"second class lever\"\n",
    "#determine_lever([\"f\", \"e\", \"l\"]) ➞ \"third class lever\"\n",
    "\n",
    "def determine_lever(l):\n",
    "    if l[0]==\"e\" and l[1]==\"f\" and l[2]==\"l\":\n",
    "        return \"first class lever\"\n",
    "    elif l[0]==\"e\" and l[1]==\"l\" and l[2]==\"f\":\n",
    "        return \"second class lever\"\n",
    "    elif l[0]==\"f\" and l[1]==\"e\" and l[2]==\"l\":\n",
    "        return \"third class lever\"\n",
    "    else:\n",
    "        return \"None\""
   ]
  },
  {
   "cell_type": "code",
   "execution_count": 115,
   "id": "0677093a",
   "metadata": {},
   "outputs": [
    {
     "data": {
      "text/plain": [
       "'first class lever'"
      ]
     },
     "execution_count": 115,
     "metadata": {},
     "output_type": "execute_result"
    }
   ],
   "source": [
    " determine_lever([\"e\", \"f\", \"l\"])\n",
    "    "
   ]
  },
  {
   "cell_type": "code",
   "execution_count": 116,
   "id": "03dd3942",
   "metadata": {},
   "outputs": [
    {
     "data": {
      "text/plain": [
       "'second class lever'"
      ]
     },
     "execution_count": 116,
     "metadata": {},
     "output_type": "execute_result"
    }
   ],
   "source": [
    "determine_lever([\"e\", \"l\", \"f\"])"
   ]
  },
  {
   "cell_type": "code",
   "execution_count": 118,
   "id": "89cf9c03",
   "metadata": {},
   "outputs": [
    {
     "data": {
      "text/plain": [
       "'third class lever'"
      ]
     },
     "execution_count": 118,
     "metadata": {},
     "output_type": "execute_result"
    }
   ],
   "source": [
    "determine_lever([\"f\", \"e\", \"l\"])"
   ]
  },
  {
   "cell_type": "code",
   "execution_count": 119,
   "id": "1d8c396d",
   "metadata": {},
   "outputs": [],
   "source": [
    "#24 Write a function that checks whether a person can watch an MA15+ rated movie. One of the following two conditions is required for admittance:\n",
    "#The person is at least 15 years old.\n",
    "#They have parental supervision.\n",
    "#The function accepts two parameters, age and is_supervised. Return a boolean.\n",
    "#Examples\n",
    "#accept_into_movie(14, True) ➞ True\n",
    "#accept_into_movie(14, False) ➞ False\n",
    "#accept_into_movie(16, False) ➞ True\n",
    "\n",
    "def f2(age,super_vision):\n",
    "    if age>=15 or super_vision:\n",
    "        return \"True\"\n",
    "    else:\n",
    "        return \"False\""
   ]
  },
  {
   "cell_type": "code",
   "execution_count": 120,
   "id": "fbf076a9",
   "metadata": {},
   "outputs": [
    {
     "data": {
      "text/plain": [
       "'True'"
      ]
     },
     "execution_count": 120,
     "metadata": {},
     "output_type": "execute_result"
    }
   ],
   "source": [
    "f2(14,True)"
   ]
  },
  {
   "cell_type": "code",
   "execution_count": 121,
   "id": "51796046",
   "metadata": {},
   "outputs": [
    {
     "data": {
      "text/plain": [
       "'False'"
      ]
     },
     "execution_count": 121,
     "metadata": {},
     "output_type": "execute_result"
    }
   ],
   "source": [
    "f2(14,False)"
   ]
  },
  {
   "cell_type": "code",
   "execution_count": 122,
   "id": "9bd0859a",
   "metadata": {},
   "outputs": [
    {
     "data": {
      "text/plain": [
       "'True'"
      ]
     },
     "execution_count": 122,
     "metadata": {},
     "output_type": "execute_result"
    }
   ],
   "source": [
    "f2(16,False)"
   ]
  },
  {
   "cell_type": "code",
   "execution_count": 123,
   "id": "23a65a22",
   "metadata": {},
   "outputs": [
    {
     "data": {
      "text/plain": [
       "'False'"
      ]
     },
     "execution_count": 123,
     "metadata": {},
     "output_type": "execute_result"
    }
   ],
   "source": [
    "f2(13,False)"
   ]
  },
  {
   "cell_type": "code",
   "execution_count": 124,
   "id": "6dc52839",
   "metadata": {},
   "outputs": [
    {
     "data": {
      "text/plain": [
       "'True'"
      ]
     },
     "execution_count": 124,
     "metadata": {},
     "output_type": "execute_result"
    }
   ],
   "source": [
    "f2(16,True)"
   ]
  },
  {
   "cell_type": "code",
   "execution_count": 129,
   "id": "17899b3d",
   "metadata": {},
   "outputs": [],
   "source": [
    "#25 Create a function that returns a number, based on the string provided. Here is a list of all digits:\n",
    "#String\tNumber\n",
    "#\"one\"\t1\n",
    "#\"two\"\t2\n",
    "#\"three\"\t3\n",
    "#\"four\"\t4\n",
    "#\"five\"\t5\n",
    "#\"six\"\t6\n",
    "#\"seven\"\t7\n",
    "#\"eight\"\t8\n",
    "#\"nine\"\t9\n",
    "#\"zero\"\t0\n",
    "#Examples\n",
    "#word(\"one\") ➞ 1\n",
    "#word(\"two\") ➞ 2\n",
    "#word(\"nine\") ➞ 9\n",
    "def word(num):\n",
    "    x=num.lower()\n",
    "    n=({\"one\":1,\"two\":2,\"three\":3,\"four\":4,\"five\":5,\"six\":6,\"seven\":7,\"eight\":8,\"nine\":9})\n",
    "    return n[x]"
   ]
  },
  {
   "cell_type": "code",
   "execution_count": 130,
   "id": "4f2022d3",
   "metadata": {},
   "outputs": [
    {
     "data": {
      "text/plain": [
       "1"
      ]
     },
     "execution_count": 130,
     "metadata": {},
     "output_type": "execute_result"
    }
   ],
   "source": [
    "word(\"one\")"
   ]
  },
  {
   "cell_type": "code",
   "execution_count": 131,
   "id": "6faf49c3",
   "metadata": {},
   "outputs": [
    {
     "data": {
      "text/plain": [
       "1"
      ]
     },
     "execution_count": 131,
     "metadata": {},
     "output_type": "execute_result"
    }
   ],
   "source": [
    "word(\"ONE\")"
   ]
  },
  {
   "cell_type": "code",
   "execution_count": 132,
   "id": "e7b9a496",
   "metadata": {},
   "outputs": [
    {
     "data": {
      "text/plain": [
       "2"
      ]
     },
     "execution_count": 132,
     "metadata": {},
     "output_type": "execute_result"
    }
   ],
   "source": [
    "word(\"two\")"
   ]
  },
  {
   "cell_type": "code",
   "execution_count": 133,
   "id": "328647f7",
   "metadata": {},
   "outputs": [
    {
     "data": {
      "text/plain": [
       "9"
      ]
     },
     "execution_count": 133,
     "metadata": {},
     "output_type": "execute_result"
    }
   ],
   "source": [
    "word(\"nine\") "
   ]
  },
  {
   "cell_type": "code",
   "execution_count": 142,
   "id": "95b3d692",
   "metadata": {},
   "outputs": [],
   "source": [
    "#26.Write a function that uses the ternary operator to return \"yeah\" if b is True, and \"nope\" otherwise.\n",
    "\n",
    "def operats(b):\n",
    "        return \"yeah\" if b else \"nope\""
   ]
  },
  {
   "cell_type": "code",
   "execution_count": 143,
   "id": "25405e53",
   "metadata": {},
   "outputs": [
    {
     "data": {
      "text/plain": [
       "'yeah'"
      ]
     },
     "execution_count": 143,
     "metadata": {},
     "output_type": "execute_result"
    }
   ],
   "source": [
    "operats(True)"
   ]
  },
  {
   "cell_type": "code",
   "execution_count": 144,
   "id": "358c2fd9",
   "metadata": {},
   "outputs": [
    {
     "data": {
      "text/plain": [
       "'nope'"
      ]
     },
     "execution_count": 144,
     "metadata": {},
     "output_type": "execute_result"
    }
   ],
   "source": [
    "operats(False)"
   ]
  },
  {
   "cell_type": "code",
   "execution_count": 145,
   "id": "630ac50c",
   "metadata": {},
   "outputs": [],
   "source": [
    "#27 Try finding your ancestors and offspring with code.\n",
    "#Create a function that takes a number x and a character y (\"m\" for male, \"f\" for female), and returns the name of an ancestor (m/f) or descendant (m/f).\n",
    "#If the number is negative, return the related ancestor.\n",
    "#If positive, return the related descendant.\n",
    "#You are generation 0. In the case of 0 (male or female), return \"me!\".\n",
    "#Examples\n",
    "#generation(2, \"f\") ➞ \"granddaughter\"\n",
    "#generation(-3, \"m\") ➞ \"great grandfather\"\n",
    "#generation(1, \"f\") ➞ \"daughter\"\n",
    "#Notes\n",
    "#Check the Resources tab for helpful hints.\n",
    "#Generation\tMale\tFemale\n",
    "#-3\tgreat grandfather\tgreat grandmother\n",
    "#-2\tgrandfather\tgrandmother\n",
    "#-1\tfather\tmother\n",
    "#0\tme!\tme!\n",
    "#1\tson\tdaughter\n",
    "#2\tgrandson\tgranddaughter\n",
    "#3\tgreat grandson\tgreat granddaughter\n",
    "def ancestors(num,char):\n",
    "    if char==\"female\":\n",
    "        x={-3:\"great grandmother\",-2:\"grandmother\",-1:\"mother\",0:\"me!\",1:\"daughter\",2:\"granddaughter\",3:\"great granddaughter\"}\n",
    "        return x[num]\n",
    "    elif char==\"male\":\n",
    "        x={-3:\"great grandfather\",-2:\"grandfather\",-1:\"father\",0:\"me!\",1:\"son\",2:\"grandson\",3:\"great grandson\"}\n",
    "        return x[num]\n",
    "    else: \n",
    "        return \"invalid\""
   ]
  },
  {
   "cell_type": "code",
   "execution_count": 147,
   "id": "5d2d3e7a",
   "metadata": {},
   "outputs": [
    {
     "name": "stdout",
     "output_type": "stream",
     "text": [
      "great grandfather\n",
      "great grandmother\n",
      "grandson\n",
      "daughter\n",
      "me!\n",
      "invalid\n"
     ]
    }
   ],
   "source": [
    "print(ancestors(-3,\"male\"))\n",
    "print(ancestors(-3,\"female\"))\n",
    "print(ancestors(2,\"male\"))\n",
    "print(ancestors(1,\"female\"))\n",
    "print(ancestors(0,\"male\"))\n",
    "print(ancestors(8,\"trans\"))"
   ]
  },
  {
   "cell_type": "code",
   "execution_count": 150,
   "id": "b5538f50",
   "metadata": {},
   "outputs": [],
   "source": [
    "def generation(n,s):\n",
    "    g=s.lower()\n",
    "    if g==\"m\":\n",
    "        if n==0:\n",
    "            return \"me\"\n",
    "        elif n==-1:\n",
    "            return \"father\"\n",
    "        elif n==-2:\n",
    "            return \"grandfather\"\n",
    "        elif n<-2:\n",
    "            return ((\"great \"*abs(n+2))+\"grandfather\")\n",
    "        elif n==1:\n",
    "            return \"son\"\n",
    "        elif n==2:\n",
    "            return \"grandson\"\n",
    "        elif n>2:\n",
    "            return ((\"great \"*(n-2))+\"grandson\")\n",
    "    else:\n",
    "        if n==0:\n",
    "            return \"me\"\n",
    "        elif n==-1:\n",
    "            return \"mother\"\n",
    "        elif n==-2:\n",
    "            return \"grandmother\"\n",
    "        elif n<-2:\n",
    "            return ((\"great \"*abs(n+2))+\"grandmother\")\n",
    "        elif n==1:\n",
    "            return \"daughter\"\n",
    "        elif n==2:\n",
    "            return \"granddaughter\"\n",
    "        elif n>2:\n",
    "            return ((\"great \"*(n-2))+\"granddaughter\")"
   ]
  },
  {
   "cell_type": "code",
   "execution_count": 151,
   "id": "7fbabbf0",
   "metadata": {},
   "outputs": [
    {
     "data": {
      "text/plain": [
       "'great grandmother'"
      ]
     },
     "execution_count": 151,
     "metadata": {},
     "output_type": "execute_result"
    }
   ],
   "source": [
    "generation(-3,\"male\")"
   ]
  },
  {
   "cell_type": "code",
   "execution_count": 1,
   "id": "eb998134",
   "metadata": {},
   "outputs": [],
   "source": [
    "#27 Backpack Bill and Wallet Will set off for the annual festival. As they approach the stalls, Bill retorts that \n",
    "#he'll be able to bring home more stuff than Will. Taking this as a challenge, Will refutes and a competition \n",
    "#spurs into action.\n",
    "#Backpack Bill has an infinite inventory space, but a limited number of coins.\n",
    "#Wallet Will has an infinite number of coins, but a limited inventory space.\n",
    "#Create a function that returns the name of the man who can bring home the most items. The parameters are given\n",
    "#as follows:\n",
    "#Bill's amount of money.\n",
    "#Will's amount of inventory space.\n",
    "#The item's price.\n",
    "#The item's size.\n",
    "def got_more_items(Bm,Winvsp,price,size):\n",
    "    Bill=Bm/price\n",
    "    Will=Winvsp/size\n",
    "    if Bill>Will:\n",
    "        return \"Bill brings more items than will\"\n",
    "    elif Bill<Will:\n",
    "        return \"Will brings more items than Bill\"\n",
    "    else:\n",
    "        return \"Tie\"\n",
    "\n",
    "\n"
   ]
  },
  {
   "cell_type": "code",
   "execution_count": 2,
   "id": "6c211797",
   "metadata": {},
   "outputs": [
    {
     "data": {
      "text/plain": [
       "'Will brings more items than Bill'"
      ]
     },
     "execution_count": 2,
     "metadata": {},
     "output_type": "execute_result"
    }
   ],
   "source": [
    " got_more_items(150,200,50,10)"
   ]
  },
  {
   "cell_type": "code",
   "execution_count": 16,
   "id": "d9fdb6ed",
   "metadata": {},
   "outputs": [],
   "source": [
    "#28 Create a function that validates whether a number n is within the bounds of lower and upper. Return False\n",
    "#if n is not an integer.\n",
    "#Examples\n",
    "#int_within_bounds(3, 1, 9) ➞ True\n",
    "#int_within_bounds(6, 1, 6) ➞ False\n",
    "#int_within_bounds(4.5, 3, 8) ➞ False\n",
    "def int_within_bounds(x,y,z):\n",
    "    if type(x)==int:\n",
    "        return x>y and x<z\n",
    "    else:\n",
    "        return False"
   ]
  },
  {
   "cell_type": "code",
   "execution_count": 17,
   "id": "0e9249fc",
   "metadata": {},
   "outputs": [
    {
     "data": {
      "text/plain": [
       "True"
      ]
     },
     "execution_count": 17,
     "metadata": {},
     "output_type": "execute_result"
    }
   ],
   "source": [
    "int_within_bounds(3, 1, 9)"
   ]
  },
  {
   "cell_type": "code",
   "execution_count": 18,
   "id": "6d02ed63",
   "metadata": {},
   "outputs": [
    {
     "data": {
      "text/plain": [
       "False"
      ]
     },
     "execution_count": 18,
     "metadata": {},
     "output_type": "execute_result"
    }
   ],
   "source": [
    "int_within_bounds(6, 1, 6)"
   ]
  },
  {
   "cell_type": "code",
   "execution_count": 19,
   "id": "a2912846",
   "metadata": {},
   "outputs": [
    {
     "data": {
      "text/plain": [
       "False"
      ]
     },
     "execution_count": 19,
     "metadata": {},
     "output_type": "execute_result"
    }
   ],
   "source": [
    "int_within_bounds(4.5, 3, 8) "
   ]
  },
  {
   "cell_type": "code",
   "execution_count": 20,
   "id": "e9e03057",
   "metadata": {},
   "outputs": [],
   "source": [
    "#29 Write a function that returns the boolean True if the given number is zero, the string \"positive\" if the \n",
    "#number is greater than zero or the string \"negative\" if it's smaller than zero.\n",
    "\n",
    "def given_no(x):\n",
    "    if x==0 or x>0:\n",
    "        return True\n",
    "    else:\n",
    "        return False"
   ]
  },
  {
   "cell_type": "code",
   "execution_count": 21,
   "id": "01ab6274",
   "metadata": {},
   "outputs": [
    {
     "data": {
      "text/plain": [
       "True"
      ]
     },
     "execution_count": 21,
     "metadata": {},
     "output_type": "execute_result"
    }
   ],
   "source": [
    "given_no(0)"
   ]
  },
  {
   "cell_type": "code",
   "execution_count": 22,
   "id": "796e7dcd",
   "metadata": {},
   "outputs": [
    {
     "data": {
      "text/plain": [
       "False"
      ]
     },
     "execution_count": 22,
     "metadata": {},
     "output_type": "execute_result"
    }
   ],
   "source": [
    "given_no(-5)"
   ]
  },
  {
   "cell_type": "code",
   "execution_count": 23,
   "id": "3b9498e8",
   "metadata": {},
   "outputs": [
    {
     "data": {
      "text/plain": [
       "True"
      ]
     },
     "execution_count": 23,
     "metadata": {},
     "output_type": "execute_result"
    }
   ],
   "source": [
    "given_no(5)"
   ]
  },
  {
   "cell_type": "code",
   "execution_count": 7,
   "id": "cfc245b2",
   "metadata": {},
   "outputs": [],
   "source": [
    "#30 Create a function that takes three numbers as arguments and returns True \n",
    "#if it's a triangle and False if not.\n",
    "\n",
    "def is_it_triangle(s1,s2,s3):\n",
    "    return s1+s2>s3 and s2+s3>s1 and s3+s1>s2"
   ]
  },
  {
   "cell_type": "code",
   "execution_count": 8,
   "id": "bedadf02",
   "metadata": {},
   "outputs": [
    {
     "data": {
      "text/plain": [
       "False"
      ]
     },
     "execution_count": 8,
     "metadata": {},
     "output_type": "execute_result"
    }
   ],
   "source": [
    "is_it_triangle(10,2,50)"
   ]
  },
  {
   "cell_type": "code",
   "execution_count": 9,
   "id": "2500a9d5",
   "metadata": {},
   "outputs": [
    {
     "data": {
      "text/plain": [
       "True"
      ]
     },
     "execution_count": 9,
     "metadata": {},
     "output_type": "execute_result"
    }
   ],
   "source": [
    "is_it_triangle(1,1,1)"
   ]
  },
  {
   "cell_type": "code",
   "execution_count": 10,
   "id": "06b9e601",
   "metadata": {},
   "outputs": [
    {
     "name": "stdout",
     "output_type": "stream",
     "text": [
      "True\n",
      "False\n",
      "True\n"
     ]
    }
   ],
   "source": [
    "print(is_it_triangle(3, 4, 5))  # Output: True\n",
    "print(is_it_triangle(1, 1, 10))  # Output: False\n",
    "print(is_it_triangle(6, 8, 10))  # Output: True\n"
   ]
  },
  {
   "cell_type": "code",
   "execution_count": 12,
   "id": "c9a0376a",
   "metadata": {},
   "outputs": [],
   "source": [
    "#31 A \"truthy\" value is a value that translates to True when evaluated in a Boolean context. All values are truthy \n",
    "#unless they're defined as falsy.\n",
    "#All falsy values are as follows:\n",
    "#False, None, 0, [], {},\"\"\n",
    "#Create a function that takes an argument of any data type and returns 1 if it's truthy and 0 if it's falsy.\n",
    "def truthy(a):\n",
    "    if a==False or a==None or a==[] or a=={}or a==\"\":\n",
    "        return False\n",
    "    else:\n",
    "        return True"
   ]
  },
  {
   "cell_type": "code",
   "execution_count": 14,
   "id": "75dd0b9d",
   "metadata": {},
   "outputs": [
    {
     "data": {
      "text/plain": [
       "False"
      ]
     },
     "execution_count": 14,
     "metadata": {},
     "output_type": "execute_result"
    }
   ],
   "source": [
    "truthy(0)"
   ]
  },
  {
   "cell_type": "code",
   "execution_count": 15,
   "id": "0839543b",
   "metadata": {},
   "outputs": [
    {
     "data": {
      "text/plain": [
       "True"
      ]
     },
     "execution_count": 15,
     "metadata": {},
     "output_type": "execute_result"
    }
   ],
   "source": [
    "truthy(\"check\")"
   ]
  },
  {
   "cell_type": "code",
   "execution_count": 16,
   "id": "6cf6a0da",
   "metadata": {},
   "outputs": [
    {
     "data": {
      "text/plain": [
       "True"
      ]
     },
     "execution_count": 16,
     "metadata": {},
     "output_type": "execute_result"
    }
   ],
   "source": [
    "truthy(1)"
   ]
  },
  {
   "cell_type": "code",
   "execution_count": 17,
   "id": "0160685a",
   "metadata": {},
   "outputs": [
    {
     "data": {
      "text/plain": [
       "False"
      ]
     },
     "execution_count": 17,
     "metadata": {},
     "output_type": "execute_result"
    }
   ],
   "source": [
    "truthy(\"\")"
   ]
  },
  {
   "cell_type": "code",
   "execution_count": 18,
   "id": "6c3e3235",
   "metadata": {},
   "outputs": [
    {
     "data": {
      "text/plain": [
       "True"
      ]
     },
     "execution_count": 18,
     "metadata": {},
     "output_type": "execute_result"
    }
   ],
   "source": [
    "truthy(lambda n:n)"
   ]
  },
  {
   "cell_type": "code",
   "execution_count": 19,
   "id": "c36ea686",
   "metadata": {},
   "outputs": [],
   "source": [
    "def istruthy(a):\n",
    "    return not(a==False or a==None or a==0 or a==[] or a=={} or a==\"\")"
   ]
  },
  {
   "cell_type": "code",
   "execution_count": 21,
   "id": "9a20dda7",
   "metadata": {},
   "outputs": [
    {
     "name": "stdout",
     "output_type": "stream",
     "text": [
      "False\n",
      "True\n",
      "True\n",
      "False\n",
      "False\n",
      "True\n",
      "False\n"
     ]
    }
   ],
   "source": [
    "print(istruthy(0))\n",
    "print(istruthy(1))\n",
    "print(istruthy(True))\n",
    "print(istruthy(False))\n",
    "print(istruthy(\"\"))\n",
    "print(istruthy(\"Null\"))\n",
    "print(istruthy([]))"
   ]
  },
  {
   "cell_type": "code",
   "execution_count": 34,
   "id": "49ba44ad",
   "metadata": {},
   "outputs": [],
   "source": [
    "#32 Write a function that returns True if both numbers are:\n",
    "#Smaller than 0, OR ...\n",
    "#Greater than 0, OR ...\n",
    "#Exactly 0\n",
    "#Otherwise, return False.\n",
    "def both(x,y):\n",
    "    if (x==0 and y==0) or ((x*y)>0): \n",
    "        return True\n",
    "    else:\n",
    "        return False"
   ]
  },
  {
   "cell_type": "code",
   "execution_count": 35,
   "id": "ad606043",
   "metadata": {},
   "outputs": [
    {
     "data": {
      "text/plain": [
       "False"
      ]
     },
     "execution_count": 35,
     "metadata": {},
     "output_type": "execute_result"
    }
   ],
   "source": [
    "both(2,0)"
   ]
  },
  {
   "cell_type": "code",
   "execution_count": 36,
   "id": "30ba11e4",
   "metadata": {},
   "outputs": [
    {
     "data": {
      "text/plain": [
       "True"
      ]
     },
     "execution_count": 36,
     "metadata": {},
     "output_type": "execute_result"
    }
   ],
   "source": [
    "both(-1,-2) "
   ]
  },
  {
   "cell_type": "code",
   "execution_count": 37,
   "id": "56d3e0a8",
   "metadata": {},
   "outputs": [],
   "source": [
    "def Both_no(a,b):\n",
    "    return ((a==0 and b==0) or ((a*b)>0))"
   ]
  },
  {
   "cell_type": "code",
   "execution_count": 38,
   "id": "148e3fe9",
   "metadata": {},
   "outputs": [
    {
     "data": {
      "text/plain": [
       "True"
      ]
     },
     "execution_count": 38,
     "metadata": {},
     "output_type": "execute_result"
    }
   ],
   "source": [
    "Both_no(0,0)"
   ]
  },
  {
   "cell_type": "code",
   "execution_count": 41,
   "id": "cf186dc5",
   "metadata": {},
   "outputs": [
    {
     "data": {
      "text/plain": [
       "False"
      ]
     },
     "execution_count": 41,
     "metadata": {},
     "output_type": "execute_result"
    }
   ],
   "source": [
    "Both_no(2,-1)"
   ]
  },
  {
   "cell_type": "code",
   "execution_count": 42,
   "id": "9c5501ab",
   "metadata": {},
   "outputs": [
    {
     "data": {
      "text/plain": [
       "True"
      ]
     },
     "execution_count": 42,
     "metadata": {},
     "output_type": "execute_result"
    }
   ],
   "source": [
    "Both_no(-1,-2)"
   ]
  },
  {
   "cell_type": "code",
   "execution_count": 43,
   "id": "ab6300db",
   "metadata": {},
   "outputs": [],
   "source": [
    "#33 Create a function that takes a list. This list will contain numbers represented as strings.\n",
    "#Your function should split this list into two new lists. \n",
    "#The first list should contain only even numbers.The second only odd. Then, \n",
    "#wrap these two lists in one main list and return it.Return an empty list \n",
    "#if there are no even numbers, or odd.\n",
    "def clean_up_list(a):\n",
    "    eve=[];odd=[];lst=[]\n",
    "    for x in a:\n",
    "        y=int(x)\n",
    "        if y%2==0:\n",
    "            eve.append(y)\n",
    "        else:\n",
    "            odd.append(y)\n",
    "    lst.append(eve)\n",
    "    lst.append(odd)\n",
    "    return lst"
   ]
  },
  {
   "cell_type": "code",
   "execution_count": 45,
   "id": "501126ba",
   "metadata": {},
   "outputs": [
    {
     "data": {
      "text/plain": [
       "[[], [5]]"
      ]
     },
     "execution_count": 45,
     "metadata": {},
     "output_type": "execute_result"
    }
   ],
   "source": [
    "clean_up_list([\"5\"])"
   ]
  },
  {
   "cell_type": "code",
   "execution_count": 46,
   "id": "e84540e3",
   "metadata": {},
   "outputs": [
    {
     "data": {
      "text/plain": [
       "[[8], []]"
      ]
     },
     "execution_count": 46,
     "metadata": {},
     "output_type": "execute_result"
    }
   ],
   "source": [
    "clean_up_list([\"8\"])"
   ]
  },
  {
   "cell_type": "code",
   "execution_count": 48,
   "id": "da039ed0",
   "metadata": {},
   "outputs": [
    {
     "data": {
      "text/plain": [
       "[[0], []]"
      ]
     },
     "execution_count": 48,
     "metadata": {},
     "output_type": "execute_result"
    }
   ],
   "source": [
    "clean_up_list([\"0\"])"
   ]
  },
  {
   "cell_type": "code",
   "execution_count": 49,
   "id": "a0ca85c9",
   "metadata": {},
   "outputs": [
    {
     "data": {
      "text/plain": [
       "[[], [3]]"
      ]
     },
     "execution_count": 49,
     "metadata": {},
     "output_type": "execute_result"
    }
   ],
   "source": [
    "clean_up_list([\"3\"])"
   ]
  },
  {
   "cell_type": "code",
   "execution_count": 50,
   "id": "581a2b46",
   "metadata": {},
   "outputs": [
    {
     "data": {
      "text/plain": [
       "[[2], []]"
      ]
     },
     "execution_count": 50,
     "metadata": {},
     "output_type": "execute_result"
    }
   ],
   "source": [
    "clean_up_list([\"2\"])"
   ]
  },
  {
   "cell_type": "code",
   "execution_count": 51,
   "id": "baf10d27",
   "metadata": {},
   "outputs": [
    {
     "data": {
      "text/plain": [
       "[[], [7]]"
      ]
     },
     "execution_count": 51,
     "metadata": {},
     "output_type": "execute_result"
    }
   ],
   "source": [
    "clean_up_list([\"7\"])"
   ]
  },
  {
   "cell_type": "code",
   "execution_count": 52,
   "id": "52c99866",
   "metadata": {},
   "outputs": [
    {
     "data": {
      "text/plain": [
       "[[2, 4, 10, 12], [7, 13, 11]]"
      ]
     },
     "execution_count": 52,
     "metadata": {},
     "output_type": "execute_result"
    }
   ],
   "source": [
    "clean_up_list([\"2\",\"4\",\"7\",\"10\",\"13\",\"12\",\"11\"])"
   ]
  },
  {
   "cell_type": "code",
   "execution_count": 56,
   "id": "57a41039",
   "metadata": {},
   "outputs": [],
   "source": [
    "#34 When creating variables, the variable name must always start with a letter and cannot contain spaces, though \n",
    "#numbers and underscores are allowed to be contained in it also.\n",
    "#Create a function which returns True if a given variable name is valid, otherwise return False.\n",
    "def variable_valid(var):\n",
    "    if var[0].isalpha() and var==var.split()[0]:\n",
    "        return True\n",
    "    else:\n",
    "        return False"
   ]
  },
  {
   "cell_type": "code",
   "execution_count": 57,
   "id": "cc8907a6",
   "metadata": {},
   "outputs": [
    {
     "data": {
      "text/plain": [
       "True"
      ]
     },
     "execution_count": 57,
     "metadata": {},
     "output_type": "execute_result"
    }
   ],
   "source": [
    "variable_valid(\"Valid\")"
   ]
  },
  {
   "cell_type": "code",
   "execution_count": 58,
   "id": "51d73b6f",
   "metadata": {},
   "outputs": [
    {
     "data": {
      "text/plain": [
       "False"
      ]
     },
     "execution_count": 58,
     "metadata": {},
     "output_type": "execute_result"
    }
   ],
   "source": [
    "variable_valid(\"733MSK\")"
   ]
  },
  {
   "cell_type": "code",
   "execution_count": 59,
   "id": "1e1b9ec8",
   "metadata": {},
   "outputs": [
    {
     "data": {
      "text/plain": [
       "False"
      ]
     },
     "execution_count": 59,
     "metadata": {},
     "output_type": "execute_result"
    }
   ],
   "source": [
    "variable_valid(\"_Valid\")"
   ]
  },
  {
   "cell_type": "code",
   "execution_count": 60,
   "id": "44ed2039",
   "metadata": {},
   "outputs": [],
   "source": [
    "#35 In a board game, a piece may advance 1-6 tiles forward depending on the number rolled on a six-sided die. \n",
    "#If you advance your piece onto the same tile as another player's piece, both of you earn a bonus.Can you reach \n",
    "#your friend's tile number in the next roll? Create a function that returns if it's possible to earn a bonus when \n",
    "#you roll the die.\n",
    "def possible_bonus(a,b):\n",
    "    if a<b and b-a<=6:\n",
    "        return True\n",
    "    else:\n",
    "        return False"
   ]
  },
  {
   "cell_type": "code",
   "execution_count": 61,
   "id": "6995e406",
   "metadata": {},
   "outputs": [
    {
     "data": {
      "text/plain": [
       "True"
      ]
     },
     "execution_count": 61,
     "metadata": {},
     "output_type": "execute_result"
    }
   ],
   "source": [
    "possible_bonus(4,9)"
   ]
  },
  {
   "cell_type": "code",
   "execution_count": 62,
   "id": "cc4b0413",
   "metadata": {},
   "outputs": [
    {
     "data": {
      "text/plain": [
       "False"
      ]
     },
     "execution_count": 62,
     "metadata": {},
     "output_type": "execute_result"
    }
   ],
   "source": [
    "possible_bonus(5, 3)"
   ]
  },
  {
   "cell_type": "code",
   "execution_count": 63,
   "id": "ef783076",
   "metadata": {},
   "outputs": [
    {
     "data": {
      "text/plain": [
       "False"
      ]
     },
     "execution_count": 63,
     "metadata": {},
     "output_type": "execute_result"
    }
   ],
   "source": [
    "possible_bonus(1, 9)"
   ]
  },
  {
   "cell_type": "code",
   "execution_count": 64,
   "id": "d8f54a7a",
   "metadata": {},
   "outputs": [],
   "source": [
    "#36 Create a function that takes two integers and checks if they are equal.\n",
    "\n",
    "def is_equal(a,b):\n",
    "    return a==b"
   ]
  },
  {
   "cell_type": "code",
   "execution_count": 65,
   "id": "7b343aa8",
   "metadata": {},
   "outputs": [
    {
     "data": {
      "text/plain": [
       "False"
      ]
     },
     "execution_count": 65,
     "metadata": {},
     "output_type": "execute_result"
    }
   ],
   "source": [
    "\n",
    "is_equal(\"1\", 1)"
   ]
  },
  {
   "cell_type": "code",
   "execution_count": 66,
   "id": "47f855de",
   "metadata": {},
   "outputs": [
    {
     "data": {
      "text/plain": [
       "True"
      ]
     },
     "execution_count": 66,
     "metadata": {},
     "output_type": "execute_result"
    }
   ],
   "source": [
    "\n",
    "is_equal(1, 1)"
   ]
  },
  {
   "cell_type": "code",
   "execution_count": 68,
   "id": "bf27067a",
   "metadata": {},
   "outputs": [
    {
     "data": {
      "text/plain": [
       "False"
      ]
     },
     "execution_count": 68,
     "metadata": {},
     "output_type": "execute_result"
    }
   ],
   "source": [
    "is_equal(10, 11)"
   ]
  },
  {
   "cell_type": "code",
   "execution_count": 69,
   "id": "5a3f98ed",
   "metadata": {},
   "outputs": [],
   "source": [
    "#37 Write a function that takes a string name and a number num (either 0 or 1) and return \"Hello\" + name if num\n",
    "#is 1, otherwise return \"Bye\" + name.\n",
    "#37 Write a function that takes a string name and a number num (either 0 or 1) and return \"Hello\" + name if num\n",
    "#is 1, otherwise return \"Bye\" + name.\n",
    "def say_hello_bye(name,num):\n",
    "    if num==0:\n",
    "        return (\"Bye \"+name)\n",
    "    else:\n",
    "        return (\"Hello \"+name)"
   ]
  },
  {
   "cell_type": "code",
   "execution_count": 70,
   "id": "2bcabffe",
   "metadata": {},
   "outputs": [
    {
     "data": {
      "text/plain": [
       "'Hello man'"
      ]
     },
     "execution_count": 70,
     "metadata": {},
     "output_type": "execute_result"
    }
   ],
   "source": [
    "say_hello_bye(\"man\", 1)"
   ]
  },
  {
   "cell_type": "code",
   "execution_count": 72,
   "id": "192ea053",
   "metadata": {},
   "outputs": [],
   "source": [
    "#38 Create a function that takes three number arguments — one number as an input and two additional numbers \n",
    "#representing the endpoints of a closed range — and return the number limited to this range.\n",
    "#If the number falls within the range, the number should be returned.\n",
    "#If the number is less than the lower limit of the range, the lower limit should be returned.\n",
    "#If the number is grdef limit_number(a,l,u):\n",
    "def limit_number(a,l,u):\n",
    "    if a>l and a<u:\n",
    "        return a\n",
    "    elif a<l:\n",
    "        return l\n",
    "    else:\n",
    "        return u\n"
   ]
  },
  {
   "cell_type": "code",
   "execution_count": 74,
   "id": "4df48957",
   "metadata": {},
   "outputs": [
    {
     "data": {
      "text/plain": [
       "10"
      ]
     },
     "execution_count": 74,
     "metadata": {},
     "output_type": "execute_result"
    }
   ],
   "source": [
    "limit_number(15, 1, 10)"
   ]
  },
  {
   "cell_type": "code",
   "execution_count": 75,
   "id": "1956c48b",
   "metadata": {},
   "outputs": [
    {
     "data": {
      "text/plain": [
       "7"
      ]
     },
     "execution_count": 75,
     "metadata": {},
     "output_type": "execute_result"
    }
   ],
   "source": [
    "limit_number(-30, 7, 10)"
   ]
  },
  {
   "cell_type": "code",
   "execution_count": 76,
   "id": "b7540527",
   "metadata": {},
   "outputs": [
    {
     "data": {
      "text/plain": [
       "10"
      ]
     },
     "execution_count": 76,
     "metadata": {},
     "output_type": "execute_result"
    }
   ],
   "source": [
    "limit_number(41, 1, 10)"
   ]
  },
  {
   "cell_type": "code",
   "execution_count": 78,
   "id": "4776c73f",
   "metadata": {},
   "outputs": [
    {
     "data": {
      "text/plain": [
       "3.6"
      ]
     },
     "execution_count": 78,
     "metadata": {},
     "output_type": "execute_result"
    }
   ],
   "source": [
    "limit_number(3.6, 1, 10)"
   ]
  },
  {
   "cell_type": "code",
   "execution_count": 79,
   "id": "46b905d5",
   "metadata": {},
   "outputs": [],
   "source": [
    "#39 Write a function that takes an integer and:\n",
    "#If the number is a multiple of 3, return \"Hello\".\n",
    "#If the number is a multiple of 5, return \"World\".\n",
    "#If the number is a multiple of both 3 and 5, return \"Hello World\".\n",
    "\n",
    "def hello_world(x):\n",
    "    if x%3==0 and x%5==0:\n",
    "        return \"Hello World\"\n",
    "    elif x%3==0:\n",
    "        return \"Hello\"\n",
    "    elif x%5==0:\n",
    "        return \"World\"\n",
    "    else:\n",
    "        return None"
   ]
  },
  {
   "cell_type": "code",
   "execution_count": 80,
   "id": "7ca744ad",
   "metadata": {},
   "outputs": [
    {
     "data": {
      "text/plain": [
       "'Hello'"
      ]
     },
     "execution_count": 80,
     "metadata": {},
     "output_type": "execute_result"
    }
   ],
   "source": [
    "hello_world(3) "
   ]
  },
  {
   "cell_type": "code",
   "execution_count": 81,
   "id": "2abe53cc",
   "metadata": {},
   "outputs": [
    {
     "data": {
      "text/plain": [
       "'Hello World'"
      ]
     },
     "execution_count": 81,
     "metadata": {},
     "output_type": "execute_result"
    }
   ],
   "source": [
    "hello_world(15) "
   ]
  },
  {
   "cell_type": "code",
   "execution_count": 82,
   "id": "9640ee2a",
   "metadata": {},
   "outputs": [
    {
     "data": {
      "text/plain": [
       "'World'"
      ]
     },
     "execution_count": 82,
     "metadata": {},
     "output_type": "execute_result"
    }
   ],
   "source": [
    "hello_world(5) "
   ]
  },
  {
   "cell_type": "code",
   "execution_count": 83,
   "id": "91d6ac43",
   "metadata": {},
   "outputs": [],
   "source": [
    "#40 Given a string and a style character, return the newly formatted string. Style characters are single letters \n",
    "#that represent the different types of formatting.\n",
    "#For the purposes of this challenge, the style characters are as follows:\n",
    "#\"b\" is for bold\n",
    "#\"i\" is for italics\n",
    "#\"c\" is for inline code\n",
    "#\"s\" is for strikethrough\n",
    "def md_format(s,form):\n",
    "    f=form.lower()\n",
    "    if f==\"b\":\n",
    "        return \"**\"+s+\"**\"\n",
    "    elif f==\"i\":\n",
    "        return \"_\"+s+\"_\"\n",
    "    elif f==\"c\":\n",
    "        return \"`\"+s+\"`\"\n",
    "    elif f==\"s\":\n",
    "        return \"~\"+s+\"~\"\n",
    "    else:\n",
    "        return None"
   ]
  },
  {
   "cell_type": "code",
   "execution_count": 84,
   "id": "c366ed64",
   "metadata": {},
   "outputs": [
    {
     "data": {
      "text/plain": [
       "'**Bold**'"
      ]
     },
     "execution_count": 84,
     "metadata": {},
     "output_type": "execute_result"
    }
   ],
   "source": [
    "md_format(\"Bold\", \"b\")"
   ]
  },
  {
   "cell_type": "code",
   "execution_count": 85,
   "id": "ed1a3d1d",
   "metadata": {},
   "outputs": [
    {
     "data": {
      "text/plain": [
       "'_italic_'"
      ]
     },
     "execution_count": 85,
     "metadata": {},
     "output_type": "execute_result"
    }
   ],
   "source": [
    "md_format(\"italic\", \"i\")"
   ]
  },
  {
   "cell_type": "code",
   "execution_count": 86,
   "id": "4b004649",
   "metadata": {},
   "outputs": [
    {
     "data": {
      "text/plain": [
       "'`inline code`'"
      ]
     },
     "execution_count": 86,
     "metadata": {},
     "output_type": "execute_result"
    }
   ],
   "source": [
    "md_format(\"inline code\", \"c\")"
   ]
  },
  {
   "cell_type": "code",
   "execution_count": 87,
   "id": "f21bdfe5",
   "metadata": {},
   "outputs": [
    {
     "data": {
      "text/plain": [
       "'**strikethrough**'"
      ]
     },
     "execution_count": 87,
     "metadata": {},
     "output_type": "execute_result"
    }
   ],
   "source": [
    "md_format(\"strikethrough\", \"b\")"
   ]
  },
  {
   "cell_type": "code",
   "execution_count": 88,
   "id": "29730412",
   "metadata": {},
   "outputs": [],
   "source": [
    "#41 Darts is a target game played by throwing feathered darts at a circular board with numbered spaces. \n",
    "#Our darts game is the simplest of all games. The score of a single turn is calculated based on the distance \n",
    "#from the middle. You need to create a function that takes the dart location as two cartesian coordinates (x, y)\n",
    "#and returns a score based on the distance from the middle, aka Bullseye (x=0, y=0).\n",
    "#Bullseye and inner circle scores = 10 points\n",
    "#Middle ring scores = 5 points\n",
    "#Outer ring scores = 1 point\n",
    "#Outside the target = 0 points\n",
    "#We play it simple so a dart in the double or treble ring counts as usual and does not affect the segment score.\n",
    "#Board and circle radius is as follows:\n",
    "#Board radius and outer circle radius = 10 units\n",
    "#Middle circle radius = 5 units\n",
    "#Inner circle radius = 1 unit\n",
    "def darts(x,y):\n",
    "    r=((x**2)+(y**2))**2\n",
    "    if r<=1:\n",
    "        p=10\n",
    "    elif r>1 and r<=5:\n",
    "        p=5\n",
    "    elif r>5 and r<=10:\n",
    "        p=1\n",
    "    else:\n",
    "        p=0\n",
    "    return p"
   ]
  },
  {
   "cell_type": "code",
   "execution_count": 89,
   "id": "a592654b",
   "metadata": {},
   "outputs": [
    {
     "data": {
      "text/plain": [
       "10"
      ]
     },
     "execution_count": 89,
     "metadata": {},
     "output_type": "execute_result"
    }
   ],
   "source": [
    "darts(0, -0.8)"
   ]
  },
  {
   "cell_type": "code",
   "execution_count": 90,
   "id": "bd6b527b",
   "metadata": {},
   "outputs": [
    {
     "data": {
      "text/plain": [
       "0"
      ]
     },
     "execution_count": 90,
     "metadata": {},
     "output_type": "execute_result"
    }
   ],
   "source": [
    "darts(2.5, 5)"
   ]
  },
  {
   "cell_type": "code",
   "execution_count": 91,
   "id": "efd6d6e1",
   "metadata": {},
   "outputs": [
    {
     "data": {
      "text/plain": [
       "0"
      ]
     },
     "execution_count": 91,
     "metadata": {},
     "output_type": "execute_result"
    }
   ],
   "source": [
    "darts(5,2)"
   ]
  },
  {
   "cell_type": "code",
   "execution_count": 96,
   "id": "bd152cf6",
   "metadata": {},
   "outputs": [
    {
     "data": {
      "text/plain": [
       "0"
      ]
     },
     "execution_count": 96,
     "metadata": {},
     "output_type": "execute_result"
    }
   ],
   "source": [
    "darts(0,-5)"
   ]
  },
  {
   "cell_type": "code",
   "execution_count": 97,
   "id": "61f2bcaf",
   "metadata": {},
   "outputs": [],
   "source": [
    "#42 Write a function that returns True if a year is a leap, otherwise return False.A year is a \"leap year\" if it \n",
    "#lasts 366 days, instead of 365 in a typical year. That extra day is added to the end of the shortest month, \n",
    "#creating February 29.A leap year occurs every four years, and will take place if the year is a multiple of four.\n",
    "#The exception to this is a year at the beginning of a century (for example, 1900 or 2000), where the year must\n",
    "#be divisible by 400 to be a leap year.Look at the examples, and if you need help, look at the resources panel.\n",
    "\n",
    "def leap_year(y):\n",
    "    if y%4==0:\n",
    "        return True\n",
    "    else:\n",
    "        return False"
   ]
  },
  {
   "cell_type": "code",
   "execution_count": 98,
   "id": "7c655612",
   "metadata": {},
   "outputs": [
    {
     "data": {
      "text/plain": [
       "False"
      ]
     },
     "execution_count": 98,
     "metadata": {},
     "output_type": "execute_result"
    }
   ],
   "source": [
    "leap_year(2019)"
   ]
  },
  {
   "cell_type": "code",
   "execution_count": 105,
   "id": "bb6b7218",
   "metadata": {},
   "outputs": [
    {
     "data": {
      "text/plain": [
       "True"
      ]
     },
     "execution_count": 105,
     "metadata": {},
     "output_type": "execute_result"
    }
   ],
   "source": [
    "leap_year(2000)"
   ]
  },
  {
   "cell_type": "code",
   "execution_count": 106,
   "id": "e7259a78",
   "metadata": {},
   "outputs": [
    {
     "data": {
      "text/plain": [
       "True"
      ]
     },
     "execution_count": 106,
     "metadata": {},
     "output_type": "execute_result"
    }
   ],
   "source": [
    "leap_year(2004)"
   ]
  },
  {
   "cell_type": "code",
   "execution_count": 107,
   "id": "ef1b7bdb",
   "metadata": {},
   "outputs": [
    {
     "data": {
      "text/plain": [
       "True"
      ]
     },
     "execution_count": 107,
     "metadata": {},
     "output_type": "execute_result"
    }
   ],
   "source": [
    "leap_year(2024)"
   ]
  },
  {
   "cell_type": "code",
   "execution_count": 108,
   "id": "f0a9e180",
   "metadata": {},
   "outputs": [],
   "source": [
    "#43 Given a pH value, return whether that value is \"alkaline\" (greater than 7), \"acidic\" (less than 7), or\n",
    "#\"neutral\" (7). Return \"invalid\" if the value given is less than 0 or greater than 14.\n",
    "\n",
    "def PH_name(n):\n",
    "    if n>7:\n",
    "        return \"Basic\"\n",
    "    elif n<7:\n",
    "        return \"Acidic\"\n",
    "    else:\n",
    "        return \"Neutral\""
   ]
  },
  {
   "cell_type": "code",
   "execution_count": 109,
   "id": "03d0b6f7",
   "metadata": {},
   "outputs": [
    {
     "data": {
      "text/plain": [
       "'Basic'"
      ]
     },
     "execution_count": 109,
     "metadata": {},
     "output_type": "execute_result"
    }
   ],
   "source": [
    "PH_name(7.5)"
   ]
  },
  {
   "cell_type": "code",
   "execution_count": 110,
   "id": "84b8794c",
   "metadata": {},
   "outputs": [
    {
     "data": {
      "text/plain": [
       "'Neutral'"
      ]
     },
     "execution_count": 110,
     "metadata": {},
     "output_type": "execute_result"
    }
   ],
   "source": [
    "PH_name(7)"
   ]
  },
  {
   "cell_type": "code",
   "execution_count": 111,
   "id": "9a50a10a",
   "metadata": {},
   "outputs": [
    {
     "data": {
      "text/plain": [
       "'Acidic'"
      ]
     },
     "execution_count": 111,
     "metadata": {},
     "output_type": "execute_result"
    }
   ],
   "source": [
    "PH_name(6)"
   ]
  },
  {
   "cell_type": "code",
   "execution_count": 112,
   "id": "9505732b",
   "metadata": {},
   "outputs": [
    {
     "data": {
      "text/plain": [
       "'Acidic'"
      ]
     },
     "execution_count": 112,
     "metadata": {},
     "output_type": "execute_result"
    }
   ],
   "source": [
    "PH_name(6.5)"
   ]
  },
  {
   "cell_type": "code",
   "execution_count": 113,
   "id": "28e55184",
   "metadata": {},
   "outputs": [
    {
     "data": {
      "text/plain": [
       "'Basic'"
      ]
     },
     "execution_count": 113,
     "metadata": {},
     "output_type": "execute_result"
    }
   ],
   "source": [
    "PH_name(8.5)"
   ]
  },
  {
   "cell_type": "code",
   "execution_count": 114,
   "id": "517ec420",
   "metadata": {},
   "outputs": [],
   "source": [
    "#44 Create a function that takes an array of hurdle heights and a jumper's jump height, and determine \n",
    "# whether or not the hurdler can clear all the hurdles.A hurdler can clear a hurdle if their \n",
    "# jump height is greater than or equal to the hurdle height.\n",
    "#Examples\n",
    "#hurdle_jump([1, 2, 3, 4, 5], 5) ➞ True \n",
    "#hurdle_jump([5, 5, 3, 4, 5], 3) ➞ False \n",
    "#hurdle_jump([5, 4, 5, 6], 10) ➞ True \n",
    "#hurdle_jump([1, 2, 1], 1) ➞ False\n",
    "\n",
    "\n",
    "\n",
    "def hurdle_jump(hurdle_heights,jump_heights):\n",
    "    t=0;\n",
    "    for x in hurdle_heights:\n",
    "        if x<=jump_heights:\n",
    "            t+=1 \n",
    "        else:\n",
    "             continue\n",
    "    if t==len(hurdle_heights):\n",
    "        return True\n",
    "    else:\n",
    "        return False"
   ]
  },
  {
   "cell_type": "code",
   "execution_count": 115,
   "id": "146f62ad",
   "metadata": {},
   "outputs": [
    {
     "data": {
      "text/plain": [
       "True"
      ]
     },
     "execution_count": 115,
     "metadata": {},
     "output_type": "execute_result"
    }
   ],
   "source": [
    "hurdle_jump([1, 2, 3, 4, 5], 5)"
   ]
  },
  {
   "cell_type": "code",
   "execution_count": 116,
   "id": "7df4e83a",
   "metadata": {},
   "outputs": [
    {
     "data": {
      "text/plain": [
       "False"
      ]
     },
     "execution_count": 116,
     "metadata": {},
     "output_type": "execute_result"
    }
   ],
   "source": [
    "hurdle_jump([5, 5, 3, 4, 5], 3)"
   ]
  },
  {
   "cell_type": "code",
   "execution_count": 117,
   "id": "6897bc95",
   "metadata": {},
   "outputs": [
    {
     "data": {
      "text/plain": [
       "True"
      ]
     },
     "execution_count": 117,
     "metadata": {},
     "output_type": "execute_result"
    }
   ],
   "source": [
    "hurdle_jump([5, 4, 5, 6], 10)"
   ]
  },
  {
   "cell_type": "code",
   "execution_count": 118,
   "id": "9e004bc7",
   "metadata": {},
   "outputs": [
    {
     "data": {
      "text/plain": [
       "False"
      ]
     },
     "execution_count": 118,
     "metadata": {},
     "output_type": "execute_result"
    }
   ],
   "source": [
    "hurdle_jump([1, 2, 1], 1) "
   ]
  },
  {
   "cell_type": "code",
   "execution_count": 119,
   "id": "fa251db7",
   "metadata": {},
   "outputs": [],
   "source": [
    "#45 Create a function which returns the type of triangle, given the side lengths. Return the following values if \n",
    "#they match the criteria.\n",
    "#No sides equal: \"scalene\"\n",
    "#Two sides equal: \"isosceles\"\n",
    "#All sides equal: \"equilateral\"\n",
    "#Less or more than 3 sides given: \"not a triangle\"\n",
    "    \n",
    "def get_triangle_type(l):\n",
    "    if len(l)==3:\n",
    "        if l[0]==l[1] and l[1]==l[2]:\n",
    "            return \"equilateral\"\n",
    "        elif l[0]==l[1] or l[1]==l[2] or l[2]==l[0]:\n",
    "            return \"isosceles\"\n",
    "        else:\n",
    "            return \"scalene\"\n",
    "    else:\n",
    "        return \"not a triangle\""
   ]
  },
  {
   "cell_type": "code",
   "execution_count": 120,
   "id": "ee93b265",
   "metadata": {},
   "outputs": [
    {
     "data": {
      "text/plain": [
       "'scalene'"
      ]
     },
     "execution_count": 120,
     "metadata": {},
     "output_type": "execute_result"
    }
   ],
   "source": [
    "get_triangle_type([2, 6, 5])"
   ]
  },
  {
   "cell_type": "code",
   "execution_count": 121,
   "id": "1b5890e2",
   "metadata": {},
   "outputs": [
    {
     "data": {
      "text/plain": [
       "'isosceles'"
      ]
     },
     "execution_count": 121,
     "metadata": {},
     "output_type": "execute_result"
    }
   ],
   "source": [
    "get_triangle_type([4, 4, 7])"
   ]
  },
  {
   "cell_type": "code",
   "execution_count": 122,
   "id": "1cfa8ce3",
   "metadata": {},
   "outputs": [
    {
     "data": {
      "text/plain": [
       "'equilateral'"
      ]
     },
     "execution_count": 122,
     "metadata": {},
     "output_type": "execute_result"
    }
   ],
   "source": [
    "get_triangle_type([8, 8, 8])"
   ]
  },
  {
   "cell_type": "code",
   "execution_count": 123,
   "id": "c1d40225",
   "metadata": {},
   "outputs": [
    {
     "data": {
      "text/plain": [
       "'not a triangle'"
      ]
     },
     "execution_count": 123,
     "metadata": {},
     "output_type": "execute_result"
    }
   ],
   "source": [
    "get_triangle_type([3, 5, 5, 2])"
   ]
  },
  {
   "cell_type": "code",
   "execution_count": 124,
   "id": "3b106841",
   "metadata": {},
   "outputs": [],
   "source": [
    "#46 Write a function that returns True if two rooks can attack each other, and False otherwise.\n",
    "\n",
    "def can_capture(lst):\n",
    "    if lst[0][0]==lst[1][0]:\n",
    "        return True\n",
    "    elif lst[0][1]==lst[1][1]:\n",
    "        return True\n",
    "    else:\n",
    "        return False"
   ]
  },
  {
   "cell_type": "code",
   "execution_count": 125,
   "id": "c422c149",
   "metadata": {},
   "outputs": [
    {
     "data": {
      "text/plain": [
       "True"
      ]
     },
     "execution_count": 125,
     "metadata": {},
     "output_type": "execute_result"
    }
   ],
   "source": [
    "can_capture([\"A9\", \"E9\"])"
   ]
  },
  {
   "cell_type": "code",
   "execution_count": 126,
   "id": "abbab414",
   "metadata": {},
   "outputs": [
    {
     "data": {
      "text/plain": [
       "True"
      ]
     },
     "execution_count": 126,
     "metadata": {},
     "output_type": "execute_result"
    }
   ],
   "source": [
    "can_capture([\"A1\", \"B1\"])"
   ]
  },
  {
   "cell_type": "code",
   "execution_count": 127,
   "id": "6a381f0c",
   "metadata": {},
   "outputs": [
    {
     "data": {
      "text/plain": [
       "False"
      ]
     },
     "execution_count": 127,
     "metadata": {},
     "output_type": "execute_result"
    }
   ],
   "source": [
    "can_capture([\"A1\", \"B2\"])"
   ]
  },
  {
   "cell_type": "code",
   "execution_count": 128,
   "id": "322db12e",
   "metadata": {},
   "outputs": [],
   "source": [
    "#47 Given an integer n. Your task is to find how many digits this integer contains\n",
    "#without using str or len methods\n",
    "\n",
    "def sum_digits(n):\n",
    "    d=0\n",
    "    while n>=1:\n",
    "        d+=1\n",
    "        n/=10\n",
    "    return d"
   ]
  },
  {
   "cell_type": "code",
   "execution_count": 129,
   "id": "11baba39",
   "metadata": {},
   "outputs": [
    {
     "data": {
      "text/plain": [
       "3"
      ]
     },
     "execution_count": 129,
     "metadata": {},
     "output_type": "execute_result"
    }
   ],
   "source": [
    "sum_digits(100)"
   ]
  },
  {
   "cell_type": "code",
   "execution_count": 130,
   "id": "6fe01294",
   "metadata": {},
   "outputs": [
    {
     "data": {
      "text/plain": [
       "4"
      ]
     },
     "execution_count": 130,
     "metadata": {},
     "output_type": "execute_result"
    }
   ],
   "source": [
    "sum_digits(1000)"
   ]
  },
  {
   "cell_type": "code",
   "execution_count": 131,
   "id": "8a86d18a",
   "metadata": {},
   "outputs": [
    {
     "data": {
      "text/plain": [
       "1"
      ]
     },
     "execution_count": 131,
     "metadata": {},
     "output_type": "execute_result"
    }
   ],
   "source": [
    "sum_digits(1)"
   ]
  },
  {
   "cell_type": "code",
   "execution_count": 132,
   "id": "59138047",
   "metadata": {},
   "outputs": [],
   "source": [
    "#48 Create a function that takes in a two-dimensional list and returns the number of sub-lists with only \n",
    "#identical elements.\n",
    "\n",
    "def count_identical(lst):\n",
    "    l=0\n",
    "    for x in lst:\n",
    "        if len(x)==1:\n",
    "            l+=1\n",
    "        else:\n",
    "            a=x[0];b=0\n",
    "            for y in range(1,len(x)):\n",
    "                if a==x[y]:\n",
    "                    b+=1\n",
    "            if b>=1:\n",
    "                l+=1\n",
    "    return l"
   ]
  },
  {
   "cell_type": "code",
   "execution_count": 133,
   "id": "1bb4348a",
   "metadata": {},
   "outputs": [
    {
     "data": {
      "text/plain": [
       "4"
      ]
     },
     "execution_count": 133,
     "metadata": {},
     "output_type": "execute_result"
    }
   ],
   "source": [
    "count_identical([[33, 33],[5],[\"a\", \"a\"],[2, 2, 2],[1, 2, 2],[3, 1]])"
   ]
  },
  {
   "cell_type": "code",
   "execution_count": 134,
   "id": "4e26a9eb",
   "metadata": {},
   "outputs": [],
   "source": [
    "#49 Create a function that takes a number (from 1 to 12) and returns its corresponding month name as a string. \n",
    "#For example, if you're given 3 as input, your function should return \"March\", because March is the 3rd month.\n",
    "\n",
    "def month_name(num):\n",
    "    year={1:\"January\",2:\"February\",3:\"March\",4:\"April\",5:\"May\",6:\"June\",7:\"July\",8:\"August\",9:\"September\",\\\n",
    "          10:\"October\",11:\"November\",12:\"December\"}\n",
    "    for x in year.keys():\n",
    "        if x==num:\n",
    "            month=year[x]\n",
    "        else:\n",
    "            continue\n",
    "    return month"
   ]
  },
  {
   "cell_type": "code",
   "execution_count": 135,
   "id": "4b28becb",
   "metadata": {},
   "outputs": [
    {
     "data": {
      "text/plain": [
       "'April'"
      ]
     },
     "execution_count": 135,
     "metadata": {},
     "output_type": "execute_result"
    }
   ],
   "source": [
    "month_name(4)"
   ]
  },
  {
   "cell_type": "code",
   "execution_count": 136,
   "id": "3e6a41bc",
   "metadata": {},
   "outputs": [],
   "source": [
    "#50 Create a function that takes an initial word and extracts any words that start with the same letters as\n",
    "#the initial word.\n",
    "\n",
    "def dictionary(s,lst):\n",
    "    l=[]\n",
    "    for x in lst:\n",
    "        if x.startswith(s):\n",
    "            l.append(x)\n",
    "        else:\n",
    "            continue\n",
    "    return l"
   ]
  },
  {
   "cell_type": "code",
   "execution_count": 137,
   "id": "673d0336",
   "metadata": {},
   "outputs": [
    {
     "data": {
      "text/plain": [
       "['button']"
      ]
     },
     "execution_count": 137,
     "metadata": {},
     "output_type": "execute_result"
    }
   ],
   "source": [
    "dictionary(\"bu\", [\"button\", \"breakfast\", \"border\"])"
   ]
  },
  {
   "cell_type": "code",
   "execution_count": 138,
   "id": "ca66670e",
   "metadata": {},
   "outputs": [
    {
     "data": {
      "text/plain": [
       "[]"
      ]
     },
     "execution_count": 138,
     "metadata": {},
     "output_type": "execute_result"
    }
   ],
   "source": [
    "\n",
    "dictionary(\"beau\", [\"pastry\", \"delicious\", \"name\", \"boring\"])"
   ]
  },
  {
   "cell_type": "code",
   "execution_count": 139,
   "id": "6d34756b",
   "metadata": {},
   "outputs": [
    {
     "data": {
      "text/plain": [
       "['triplet', 'tries', 'trip']"
      ]
     },
     "execution_count": 139,
     "metadata": {},
     "output_type": "execute_result"
    }
   ],
   "source": [
    "dictionary(\"tri\", [\"triplet\", \"tries\", \"trip\", \"piano\", \"tree\"])"
   ]
  },
  {
   "cell_type": "code",
   "execution_count": 140,
   "id": "ffb79d15",
   "metadata": {},
   "outputs": [],
   "source": [
    "#51 Create a function that takes a list of strings and returns the words that are exactly four letters.\n",
    "\n",
    "def is_four_letters(lst):\n",
    "    l=[]\n",
    "    for x in lst:\n",
    "        if len(x)==4:\n",
    "            l.append(x)\n",
    "        else:\n",
    "            continue\n",
    "    return l"
   ]
  },
  {
   "cell_type": "code",
   "execution_count": 141,
   "id": "f2b3b818",
   "metadata": {},
   "outputs": [
    {
     "data": {
      "text/plain": [
       "['Pair']"
      ]
     },
     "execution_count": 141,
     "metadata": {},
     "output_type": "execute_result"
    }
   ],
   "source": [
    "is_four_letters([\"Tomato\", \"Potato\", \"Pair\"]) "
   ]
  },
  {
   "cell_type": "code",
   "execution_count": 142,
   "id": "3182c03c",
   "metadata": {},
   "outputs": [
    {
     "data": {
      "text/plain": [
       "['Bear']"
      ]
     },
     "execution_count": 142,
     "metadata": {},
     "output_type": "execute_result"
    }
   ],
   "source": [
    "is_four_letters([\"Kangaroo\", \"Bear\", \"Fox\"]) "
   ]
  },
  {
   "cell_type": "code",
   "execution_count": 143,
   "id": "e8b324e9",
   "metadata": {},
   "outputs": [
    {
     "data": {
      "text/plain": [
       "['Ryan', 'Matt']"
      ]
     },
     "execution_count": 143,
     "metadata": {},
     "output_type": "execute_result"
    }
   ],
   "source": [
    "is_four_letters([\"Ryan\", \"Kieran\", \"Jason\", \"Matt\"]) "
   ]
  },
  {
   "cell_type": "code",
   "execution_count": 144,
   "id": "dd4254f5",
   "metadata": {},
   "outputs": [],
   "source": [
    "#52 Create a function that takes a year as an argument and returns the corresponding Chinese zodiac.\n",
    "\n",
    "def chinese_zodiac(y):\n",
    "    if y%12==1:\n",
    "        return \"Rooster\"\n",
    "    elif y%12==2:\n",
    "        return \"Dog\"\n",
    "    elif y%12==3:\n",
    "        return \"Pig\"\n",
    "    elif y%12==4:\n",
    "        return \"Rat\"\n",
    "    elif y%12==5:\n",
    "        return \"Ox\"\n",
    "    elif y%12==6:\n",
    "        return \"Tiger\"\n",
    "    elif y%12==7:\n",
    "        return \"Rabbit\"\n",
    "    elif y%12==8:\n",
    "        return \"Dragon\"\n",
    "    elif y%12==9:\n",
    "        return \"Snake\"\n",
    "    elif y%12==10:\n",
    "        return \"Horse\"\n",
    "    elif y%12==11:\n",
    "        return \"Sheep\"\n",
    "    else:\n",
    "        return \"Monkey\""
   ]
  },
  {
   "cell_type": "code",
   "execution_count": 145,
   "id": "cc080b98",
   "metadata": {},
   "outputs": [
    {
     "data": {
      "text/plain": [
       "'Ox'"
      ]
     },
     "execution_count": 145,
     "metadata": {},
     "output_type": "execute_result"
    }
   ],
   "source": [
    "chinese_zodiac(1997)"
   ]
  },
  {
   "cell_type": "code",
   "execution_count": 146,
   "id": "d19b093a",
   "metadata": {},
   "outputs": [
    {
     "data": {
      "text/plain": [
       "'Rabbit'"
      ]
     },
     "execution_count": 146,
     "metadata": {},
     "output_type": "execute_result"
    }
   ],
   "source": [
    "chinese_zodiac(1999)"
   ]
  },
  {
   "cell_type": "code",
   "execution_count": 147,
   "id": "804551bc",
   "metadata": {},
   "outputs": [
    {
     "data": {
      "text/plain": [
       "'Monkey'"
      ]
     },
     "execution_count": 147,
     "metadata": {},
     "output_type": "execute_result"
    }
   ],
   "source": [
    "chinese_zodiac(2004)"
   ]
  },
  {
   "cell_type": "code",
   "execution_count": 148,
   "id": "c6364cc1",
   "metadata": {},
   "outputs": [],
   "source": [
    "#53 Create a function that determines if the temp of the water is considered boiling or not. temp will be measured\n",
    "#in Fahrenheit and Celsius.\n",
    "\n",
    "def is_boiling(temp):\n",
    "    if temp.endswith(\"F\"):\n",
    "        return int(temp[:len(temp)-1])>=212\n",
    "    elif temp.endswith(\"C\"):\n",
    "        return int(temp[:len(temp)-1])>=100\n",
    "    else:\n",
    "        return \"none\""
   ]
  },
  {
   "cell_type": "code",
   "execution_count": 149,
   "id": "2eb3d6f6",
   "metadata": {},
   "outputs": [
    {
     "data": {
      "text/plain": [
       "True"
      ]
     },
     "execution_count": 149,
     "metadata": {},
     "output_type": "execute_result"
    }
   ],
   "source": [
    "is_boiling(\"212F\")"
   ]
  },
  {
   "cell_type": "code",
   "execution_count": 150,
   "id": "c0c89e2f",
   "metadata": {},
   "outputs": [
    {
     "data": {
      "text/plain": [
       "True"
      ]
     },
     "execution_count": 150,
     "metadata": {},
     "output_type": "execute_result"
    }
   ],
   "source": [
    "is_boiling(\"100C\")"
   ]
  },
  {
   "cell_type": "code",
   "execution_count": 151,
   "id": "fa8eeb53",
   "metadata": {},
   "outputs": [
    {
     "data": {
      "text/plain": [
       "False"
      ]
     },
     "execution_count": 151,
     "metadata": {},
     "output_type": "execute_result"
    }
   ],
   "source": [
    "is_boiling(\"0F\")"
   ]
  },
  {
   "cell_type": "code",
   "execution_count": 152,
   "id": "465b73a1",
   "metadata": {},
   "outputs": [],
   "source": [
    "#54 Create a function that takes two arguments of a list of numbers lst and a constant number n and returns the\n",
    "#n largest numbers from the given list.\n",
    "\n",
    "def largest_numbers(n,lst):\n",
    "    lst.sort(reverse=True)\n",
    "    l=[]\n",
    "    for x in range(n):\n",
    "        l.append(lst[x])\n",
    "    return l"
   ]
  },
  {
   "cell_type": "code",
   "execution_count": 153,
   "id": "b852a226",
   "metadata": {},
   "outputs": [
    {
     "data": {
      "text/plain": [
       "[4, 3]"
      ]
     },
     "execution_count": 153,
     "metadata": {},
     "output_type": "execute_result"
    }
   ],
   "source": [
    "largest_numbers(2, [4, 3, 2, 1])"
   ]
  },
  {
   "cell_type": "code",
   "execution_count": 154,
   "id": "f6cdc075",
   "metadata": {},
   "outputs": [
    {
     "data": {
      "text/plain": [
       "[19]"
      ]
     },
     "execution_count": 154,
     "metadata": {},
     "output_type": "execute_result"
    }
   ],
   "source": [
    "\n",
    "largest_numbers(1, [7, 19, 4, 2])"
   ]
  },
  {
   "cell_type": "code",
   "execution_count": 155,
   "id": "c12c188c",
   "metadata": {},
   "outputs": [
    {
     "data": {
      "text/plain": [
       "[]"
      ]
     },
     "execution_count": 155,
     "metadata": {},
     "output_type": "execute_result"
    }
   ],
   "source": [
    "largest_numbers(0, [1, 3, 4, 2])"
   ]
  },
  {
   "cell_type": "code",
   "execution_count": 156,
   "id": "ebbed805",
   "metadata": {},
   "outputs": [],
   "source": [
    "#55 Create a function that takes a range object r,index i,and returns a list where the first element is the number\n",
    "#of elements in the range object, and the second element is the element of the range object at the given index.\n",
    "\n",
    "def length_element(r,i):\n",
    "    l=[]\n",
    "    l.append(len(r))\n",
    "    l.append(r[i])\n",
    "    return l"
   ]
  },
  {
   "cell_type": "code",
   "execution_count": 157,
   "id": "c802d62f",
   "metadata": {},
   "outputs": [
    {
     "data": {
      "text/plain": [
       "[2, 2]"
      ]
     },
     "execution_count": 157,
     "metadata": {},
     "output_type": "execute_result"
    }
   ],
   "source": [
    "length_element(range(2, 4), 0)"
   ]
  },
  {
   "cell_type": "code",
   "execution_count": 158,
   "id": "7ec73f20",
   "metadata": {},
   "outputs": [
    {
     "data": {
      "text/plain": [
       "[2, 14]"
      ]
     },
     "execution_count": 158,
     "metadata": {},
     "output_type": "execute_result"
    }
   ],
   "source": [
    "length_element(range(12, 15, 2), 1)"
   ]
  },
  {
   "cell_type": "code",
   "execution_count": 159,
   "id": "c44e6e95",
   "metadata": {},
   "outputs": [
    {
     "data": {
      "text/plain": [
       "[4, 46]"
      ]
     },
     "execution_count": 159,
     "metadata": {},
     "output_type": "execute_result"
    }
   ],
   "source": [
    "length_element(range(40, 50, 3), 2)"
   ]
  },
  {
   "cell_type": "code",
   "execution_count": 160,
   "id": "64d46b2a",
   "metadata": {},
   "outputs": [],
   "source": [
    "#56 Two sisters are eating chocolate, whose pieces are represented as subarrays of [l x w].\n",
    "#Write a function that returns True if the total area of chocolate is the same for each sister.\n",
    "\n",
    "def test_fairness(agatha,bertha):\n",
    "    a=0;b=0\n",
    "    for x in agatha:\n",
    "        a+=x[0]*x[1]\n",
    "    for x in bertha:\n",
    "        b+=x[0]*x[1]\n",
    "    return a==b"
   ]
  },
  {
   "cell_type": "code",
   "execution_count": 161,
   "id": "4351de89",
   "metadata": {},
   "outputs": [
    {
     "data": {
      "text/plain": [
       "True"
      ]
     },
     "execution_count": 161,
     "metadata": {},
     "output_type": "execute_result"
    }
   ],
   "source": [
    "test_fairness([[1, 2], [2, 1]], [[2, 2]])"
   ]
  },
  {
   "cell_type": "code",
   "execution_count": 162,
   "id": "4f7d7b90",
   "metadata": {},
   "outputs": [
    {
     "data": {
      "text/plain": [
       "False"
      ]
     },
     "execution_count": 162,
     "metadata": {},
     "output_type": "execute_result"
    }
   ],
   "source": [
    "test_fairness([[1, 2], [2, 1]], [[2, 2], [4, 4]])"
   ]
  },
  {
   "cell_type": "code",
   "execution_count": 163,
   "id": "83ec9e44",
   "metadata": {},
   "outputs": [],
   "source": [
    "#57 Failed or passed an exam. First parameter is the user's score. Second parameter is the required score.\n",
    "\n",
    "def grade_requirement(marks,requirement):\n",
    "    if marks>=requirement:\n",
    "        return \"passed\"\n",
    "    else:\n",
    "        return \"failed\""
   ]
  },
  {
   "cell_type": "code",
   "execution_count": 164,
   "id": "1fbdab4a",
   "metadata": {},
   "outputs": [
    {
     "data": {
      "text/plain": [
       "'failed'"
      ]
     },
     "execution_count": 164,
     "metadata": {},
     "output_type": "execute_result"
    }
   ],
   "source": [
    "grade_requirement(75,100)"
   ]
  },
  {
   "cell_type": "code",
   "execution_count": 165,
   "id": "969b94e3",
   "metadata": {},
   "outputs": [
    {
     "data": {
      "text/plain": [
       "'passed'"
      ]
     },
     "execution_count": 165,
     "metadata": {},
     "output_type": "execute_result"
    }
   ],
   "source": [
    "grade_requirement(250,75)"
   ]
  },
  {
   "cell_type": "code",
   "execution_count": 166,
   "id": "54ef1510",
   "metadata": {},
   "outputs": [
    {
     "data": {
      "text/plain": [
       "'passed'"
      ]
     },
     "execution_count": 166,
     "metadata": {},
     "output_type": "execute_result"
    }
   ],
   "source": [
    "grade_requirement(100,35)"
   ]
  },
  {
   "cell_type": "code",
   "execution_count": null,
   "id": "f2eabf5d",
   "metadata": {},
   "outputs": [],
   "source": []
  }
 ],
 "metadata": {
  "kernelspec": {
   "display_name": "Python 3 (ipykernel)",
   "language": "python",
   "name": "python3"
  },
  "language_info": {
   "codemirror_mode": {
    "name": "ipython",
    "version": 3
   },
   "file_extension": ".py",
   "mimetype": "text/x-python",
   "name": "python",
   "nbconvert_exporter": "python",
   "pygments_lexer": "ipython3",
   "version": "3.9.13"
  }
 },
 "nbformat": 4,
 "nbformat_minor": 5
}
