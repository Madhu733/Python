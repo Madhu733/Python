{
 "cells": [
  {
   "cell_type": "code",
   "execution_count": 1,
   "id": "2621571f",
   "metadata": {},
   "outputs": [
    {
     "name": "stdout",
     "output_type": "stream",
     "text": [
      "   *  \n",
      "*     *\n",
      "** ** *\n",
      "*     *\n",
      "*     *\n"
     ]
    }
   ],
   "source": [
    "x=0\n",
    "while x<5:\n",
    "    if x==0:\n",
    "        print(\"   *  \")\n",
    "    elif x==1 or x==3 or x==4:\n",
    "        print(\"*     *\")\n",
    "    else:\n",
    "        print(\"** ** *\")\n",
    "    x=x+1\n",
    "        "
   ]
  },
  {
   "cell_type": "code",
   "execution_count": 2,
   "id": "2beedfcd",
   "metadata": {},
   "outputs": [
    {
     "name": "stdout",
     "output_type": "stream",
     "text": [
      "* * *\n",
      "*    *\n",
      "* * *\n",
      "*    *\n",
      "* * *\n"
     ]
    }
   ],
   "source": [
    "x=1\n",
    "while x<6:\n",
    "    if x==0:\n",
    "        print(\"*  *  *\")\n",
    "    elif x==2 or x==4:\n",
    "        print(\"*    *\")\n",
    "    else:\n",
    "        print(\"* * *\")\n",
    "    x=x+1"
   ]
  },
  {
   "cell_type": "code",
   "execution_count": 3,
   "id": "d6c59b68",
   "metadata": {},
   "outputs": [
    {
     "name": "stdout",
     "output_type": "stream",
     "text": [
      "* * * *\n",
      "*\n",
      "*\n",
      "* * * *\n"
     ]
    }
   ],
   "source": [
    "x=1\n",
    "while x<5:\n",
    "    if x==0:\n",
    "        print(\"* * * *\")\n",
    "    elif x==2 or x==3:\n",
    "        print(\"*\")\n",
    "    else:\n",
    "        print(\"* * * *\")\n",
    "    x=x+1"
   ]
  },
  {
   "cell_type": "code",
   "execution_count": 4,
   "id": "14df9e5e",
   "metadata": {},
   "outputs": [
    {
     "name": "stdout",
     "output_type": "stream",
     "text": [
      "*  *\n",
      "*    *\n",
      "*    *\n",
      "*    *\n",
      "*  *\n"
     ]
    }
   ],
   "source": [
    "x=2\n",
    "while x<7:\n",
    "    if x==2:\n",
    "        print(\"*  *\")\n",
    "    elif x==3 or x==4 or x==5:\n",
    "        print(\"*    *\")\n",
    "    else:\n",
    "        print(\"*  *\")\n",
    "    x=x+1"
   ]
  },
  {
   "cell_type": "code",
   "execution_count": 5,
   "id": "c4376a58",
   "metadata": {},
   "outputs": [
    {
     "name": "stdout",
     "output_type": "stream",
     "text": [
      "* * * *\n",
      "*\n",
      "* * *\n",
      "*\n",
      "* * * *\n"
     ]
    }
   ],
   "source": [
    "x=10\n",
    "while x<15:\n",
    "    if x==10 or x==14:\n",
    "        print(\"* * * *\")\n",
    "    elif x==11 or x==13:\n",
    "        print(\"*\")\n",
    "    else:\n",
    "        print(\"* * *\")\n",
    "    x=x+1"
   ]
  },
  {
   "cell_type": "code",
   "execution_count": 6,
   "id": "c36b1a01",
   "metadata": {},
   "outputs": [
    {
     "name": "stdout",
     "output_type": "stream",
     "text": [
      "* * * *\n",
      "*\n",
      "* * *\n",
      "*\n",
      "*\n",
      "*\n"
     ]
    }
   ],
   "source": [
    "x=40\n",
    "while x<46:\n",
    "    if x==40:\n",
    "        print(\"* * * *\")\n",
    "    elif x==41 or x==43 or x==44 or x==45:\n",
    "        print(\"*\")\n",
    "    else:\n",
    "        print(\"* * *\")\n",
    "    x=x+1\n",
    "        \n",
    "        "
   ]
  },
  {
   "cell_type": "code",
   "execution_count": 7,
   "id": "bb4b0a9a",
   "metadata": {},
   "outputs": [
    {
     "name": "stdout",
     "output_type": "stream",
     "text": [
      "* * * * *\n",
      "*\n",
      "*   * * *\n",
      "* * *   *\n",
      "        *\n"
     ]
    }
   ],
   "source": [
    "x=1\n",
    "while x<6:\n",
    "    if x==1:\n",
    "        print(\"* * * * *\")\n",
    "    elif x==2:\n",
    "        print(\"*\")\n",
    "    elif x==3:\n",
    "        print(\"*   * * *\")\n",
    "    elif x==4:\n",
    "        print(\"* * *   *\")\n",
    "    else:\n",
    "        print(\"        *\")\n",
    "    x=x+1\n",
    "        "
   ]
  },
  {
   "cell_type": "code",
   "execution_count": 8,
   "id": "c583cb63",
   "metadata": {},
   "outputs": [
    {
     "name": "stdout",
     "output_type": "stream",
     "text": [
      "*      *\n",
      "*      *\n",
      "* *  * *\n",
      "*      *\n",
      "*      *\n"
     ]
    }
   ],
   "source": [
    "x=1\n",
    "while x<6:\n",
    "    if x==1 or x==2 or x==4 or x==5 or x==6:\n",
    "        print(\"*      *\")\n",
    "    elif x==3:\n",
    "        print(\"* *  * *\")\n",
    "    x=x+1"
   ]
  },
  {
   "cell_type": "code",
   "execution_count": 9,
   "id": "5be16120",
   "metadata": {},
   "outputs": [
    {
     "name": "stdout",
     "output_type": "stream",
     "text": [
      "*  *  *\n",
      "   *   \n",
      "   *   \n",
      "   *   \n",
      "*  *  *\n"
     ]
    }
   ],
   "source": [
    "x=1\n",
    "while x<6:\n",
    "    if x==1 or x==5:\n",
    "        print(\"*  *  *\")\n",
    "    else:\n",
    "        print(\"   *   \")\n",
    "    x=x+1"
   ]
  },
  {
   "cell_type": "code",
   "execution_count": 10,
   "id": "4679da2d",
   "metadata": {},
   "outputs": [
    {
     "name": "stdout",
     "output_type": "stream",
     "text": [
      "* * * * *\n",
      "    *   \n",
      "    *   \n",
      "    *   \n",
      "* * *\n"
     ]
    }
   ],
   "source": [
    "x=1\n",
    "while x<6:\n",
    "    if x==1:\n",
    "        print(\"* * * * *\")\n",
    "    elif x==2 or x==3 or x==4:\n",
    "        print(\"    *   \")\n",
    "    else:\n",
    "        print(\"* * *\")\n",
    "    x=x+1"
   ]
  },
  {
   "cell_type": "code",
   "execution_count": 11,
   "id": "ea01580d",
   "metadata": {},
   "outputs": [
    {
     "name": "stdout",
     "output_type": "stream",
     "text": [
      "*     *\n",
      "*   *\n",
      "* *\n",
      "*   *\n",
      "*     *\n"
     ]
    }
   ],
   "source": [
    "x=1\n",
    "while x<6:\n",
    "    if x==1 or x==5:\n",
    "        print(\"*     *\")\n",
    "    elif x==2 or x==4:\n",
    "        print(\"*   *\")\n",
    "    else:\n",
    "        print(\"* *\")\n",
    "    x=x+1"
   ]
  },
  {
   "cell_type": "code",
   "execution_count": 12,
   "id": "f50c9277",
   "metadata": {},
   "outputs": [
    {
     "name": "stdout",
     "output_type": "stream",
     "text": [
      "*\n",
      "*\n",
      "*\n",
      "*\n",
      "* * * * *\n"
     ]
    }
   ],
   "source": [
    "x=10\n",
    "while x<15:\n",
    "    if x==10 or x==11or x==12 or x==13:\n",
    "        print(\"*\")\n",
    "    else:\n",
    "        print(\"* * * * *\")\n",
    "    x=x+1"
   ]
  },
  {
   "cell_type": "code",
   "execution_count": 13,
   "id": "4c705e1c",
   "metadata": {},
   "outputs": [
    {
     "name": "stdout",
     "output_type": "stream",
     "text": [
      "*     *\n",
      " *   *\n",
      "*  *  *\n",
      "*     *\n",
      "*     *\n"
     ]
    }
   ],
   "source": [
    "x=15\n",
    "while x<20:\n",
    "    if x==15 or x==18 or x==19:\n",
    "        print(\"*     *\")\n",
    "    elif x==16:\n",
    "        print(\" *   *\")\n",
    "    else:\n",
    "        print(\"*  *  *\")\n",
    "    x=x+1\n"
   ]
  },
  {
   "cell_type": "code",
   "execution_count": 14,
   "id": "84cf2553",
   "metadata": {},
   "outputs": [
    {
     "name": "stdout",
     "output_type": "stream",
     "text": [
      "*    *\n",
      "* *  *\n",
      "*  * *\n",
      "*   **\n",
      "*    *\n"
     ]
    }
   ],
   "source": [
    "x=0\n",
    "while x<5:\n",
    "    if x==0:\n",
    "        print(\"*    *\")\n",
    "    elif x==1:\n",
    "        print(\"* *  *\")\n",
    "    elif x==2:\n",
    "        print(\"*  * *\")\n",
    "    elif x==3:\n",
    "        print(\"*   **\")\n",
    "    else:\n",
    "        print(\"*    *\")\n",
    "    x=x+1"
   ]
  },
  {
   "cell_type": "code",
   "execution_count": 15,
   "id": "b07c7e3e",
   "metadata": {},
   "outputs": [
    {
     "name": "stdout",
     "output_type": "stream",
     "text": [
      "* * *\n",
      "*   * \n",
      "*   * \n",
      "*   * \n",
      "* * *\n"
     ]
    }
   ],
   "source": [
    "x=0\n",
    "while x<5:\n",
    "    if x==0:\n",
    "        print(\"* * *\")\n",
    "    elif x==1 or x==3 or x==2:\n",
    "        print(\"*   * \")\n",
    "    else:\n",
    "        print(\"* * *\")\n",
    "    x=x+1"
   ]
  },
  {
   "cell_type": "code",
   "execution_count": 16,
   "id": "dc4bebee",
   "metadata": {},
   "outputs": [
    {
     "name": "stdout",
     "output_type": "stream",
     "text": [
      "* * *\n",
      "*   *\n",
      "* * *\n",
      "*\n",
      "*  \n"
     ]
    }
   ],
   "source": [
    "x=0\n",
    "while x<5:\n",
    "    if x==0:\n",
    "        print(\"* * *\")\n",
    "    elif x==1:\n",
    "        print(\"*   *\")\n",
    "    elif x==2:\n",
    "        print(\"* * *\")\n",
    "    elif x==3:\n",
    "        print(\"*\")\n",
    "    else:\n",
    "        print(\"*  \")\n",
    "    x=x+1"
   ]
  },
  {
   "cell_type": "code",
   "execution_count": 17,
   "id": "27fd9fba",
   "metadata": {},
   "outputs": [
    {
     "name": "stdout",
     "output_type": "stream",
     "text": [
      "* * * *\n",
      "*     *\n",
      "*  *  *\n",
      "*   * *\n",
      "* * * **\n",
      "         *\n"
     ]
    }
   ],
   "source": [
    "x=0\n",
    "while x<5:\n",
    "    if x==0:\n",
    "        print(\"* * * *\")\n",
    "    elif x==1:\n",
    "        print(\"*     *\")\n",
    "    elif x==2:\n",
    "        print(\"*  *  *\")\n",
    "    elif x==3:\n",
    "        print(\"*   * *\")\n",
    "    else:\n",
    "        print(\"* * * **\")\n",
    "        print(\"         *\")\n",
    "    x=x+1"
   ]
  },
  {
   "cell_type": "code",
   "execution_count": 18,
   "id": "30790fc2",
   "metadata": {},
   "outputs": [
    {
     "name": "stdout",
     "output_type": "stream",
     "text": [
      "* * *\n",
      "*   *\n",
      "* * *\n",
      "*  *\n",
      "*    *\n"
     ]
    }
   ],
   "source": [
    "x=0\n",
    "while x<5:\n",
    "    if x==0:\n",
    "        print(\"* * *\")\n",
    "    elif x==1:\n",
    "        print(\"*   *\")\n",
    "    elif x==2:\n",
    "        print(\"* * *\")\n",
    "    elif x==3:\n",
    "        print(\"*  *\")\n",
    "    else:\n",
    "        print(\"*    *\")\n",
    "    x=x+1"
   ]
  },
  {
   "cell_type": "code",
   "execution_count": 19,
   "id": "9013269a",
   "metadata": {},
   "outputs": [
    {
     "name": "stdout",
     "output_type": "stream",
     "text": [
      "* * *\n",
      "*\n",
      "* * *\n",
      "    *\n",
      "* * * \n"
     ]
    }
   ],
   "source": [
    "x=0\n",
    "while x<5:\n",
    "    if x==0:\n",
    "        print(\"* * *\")\n",
    "    elif x==1:\n",
    "        print(\"*\")\n",
    "    elif x==2:\n",
    "        print(\"* * *\")\n",
    "    elif x==3:\n",
    "        print(\"    *\")\n",
    "    else:\n",
    "        print(\"* * * \")\n",
    "    x=x+1"
   ]
  },
  {
   "cell_type": "code",
   "execution_count": 20,
   "id": "f2e2be05",
   "metadata": {},
   "outputs": [
    {
     "name": "stdout",
     "output_type": "stream",
     "text": [
      "* * * * *\n",
      "    *  \n",
      "    *\n",
      "    *\n",
      "    * \n"
     ]
    }
   ],
   "source": [
    "x=0\n",
    "while x<5:\n",
    "    if x==0:\n",
    "        print(\"* * * * *\")\n",
    "    elif x==1:\n",
    "        print(\"    *  \")\n",
    "    elif x==2:\n",
    "        print(\"    *\")\n",
    "    elif x==3:\n",
    "        print(\"    *\")\n",
    "    else:\n",
    "        print(\"    * \")\n",
    "    x=x+1"
   ]
  },
  {
   "cell_type": "code",
   "execution_count": 21,
   "id": "17abfc7c",
   "metadata": {},
   "outputs": [
    {
     "name": "stdout",
     "output_type": "stream",
     "text": [
      "*        *\n",
      "*        * \n",
      "*        * \n",
      "*        * \n",
      "* *  * * *\n"
     ]
    }
   ],
   "source": [
    "x=0\n",
    "while x<5:\n",
    "    if x==0:\n",
    "        print(\"*        *\")\n",
    "    elif x==1 or x==3 or x==2:\n",
    "        print(\"*        * \")\n",
    "    else:\n",
    "        print(\"* *  * * *\")\n",
    "    x=x+1"
   ]
  },
  {
   "cell_type": "code",
   "execution_count": 22,
   "id": "3759842f",
   "metadata": {},
   "outputs": [
    {
     "name": "stdout",
     "output_type": "stream",
     "text": [
      " *       *\n",
      "  *     * \n",
      "   *   *\n",
      "    * *\n",
      "     *   \n"
     ]
    }
   ],
   "source": [
    "x=0\n",
    "while x<5:\n",
    "    if x==0:\n",
    "        print(\" *       *\")\n",
    "    elif x==1:\n",
    "        print(\"  *     * \")\n",
    "    elif x==2:\n",
    "        print(\"   *   *\")\n",
    "    elif x==3:\n",
    "        print(\"    * *\")\n",
    "    else:\n",
    "        print(\"     *   \")\n",
    "    x=x+1"
   ]
  },
  {
   "cell_type": "code",
   "execution_count": 23,
   "id": "5b245455",
   "metadata": {},
   "outputs": [
    {
     "name": "stdout",
     "output_type": "stream",
     "text": [
      "*                 *\n",
      " *       *       *\n",
      "  *     * *     *\n",
      "   *   *   *   *\n",
      "    * *     * *\n"
     ]
    }
   ],
   "source": [
    "x=0\n",
    "while x<5:\n",
    "    if x==0:\n",
    "        print(\"*                 *\")\n",
    "    elif x==1:\n",
    "         print(\" *       *       *\")\n",
    "    elif x==2:\n",
    "        print(\"  *     * *     *\")\n",
    "    elif x==3:\n",
    "        print(\"   *   *   *   *\")\n",
    "    elif x==4:\n",
    "        print(\"    * *     * *\")\n",
    "    else:\n",
    "        print(\"     *       *  \")\n",
    "    x=x+1"
   ]
  },
  {
   "cell_type": "code",
   "execution_count": 24,
   "id": "55f5266b",
   "metadata": {},
   "outputs": [
    {
     "name": "stdout",
     "output_type": "stream",
     "text": [
      " *   *\n",
      "  * * \n",
      "   * \n",
      "  * *\n",
      " *   *\n"
     ]
    }
   ],
   "source": [
    "x=0\n",
    "while x<5:\n",
    "    if x==0:\n",
    "        print(\" *   *\")\n",
    "    elif x==1:\n",
    "        print(\"  * * \")\n",
    "    elif x==2:\n",
    "        print(\"   * \")\n",
    "    elif x==3:\n",
    "        print(\"  * *\")\n",
    "    else:\n",
    "        print(\" *   *\")\n",
    "    x=x+1"
   ]
  },
  {
   "cell_type": "code",
   "execution_count": 25,
   "id": "5e395791",
   "metadata": {},
   "outputs": [
    {
     "name": "stdout",
     "output_type": "stream",
     "text": [
      " *       *\n",
      "   *   * \n",
      "     * \n",
      "     * \n",
      "     *   \n"
     ]
    }
   ],
   "source": [
    "x=0\n",
    "while x<5:\n",
    "    if x==0:\n",
    "        print(\" *       *\")\n",
    "    elif x==1:\n",
    "        print(\"   *   * \")\n",
    "    elif x==2:\n",
    "        print(\"     * \")\n",
    "    elif x==3:\n",
    "        print(\"     * \")\n",
    "    else:\n",
    "        print(\"     *   \")\n",
    "    x=x+1"
   ]
  },
  {
   "cell_type": "code",
   "execution_count": 26,
   "id": "79bf511f",
   "metadata": {},
   "outputs": [
    {
     "name": "stdout",
     "output_type": "stream",
     "text": [
      " * * * *\n",
      "     *  \n",
      "   * \n",
      " * \n",
      "* * * * \n"
     ]
    }
   ],
   "source": [
    "x=0\n",
    "while x<5:\n",
    "    if x==0:\n",
    "        print(\" * * * *\")\n",
    "    elif x==1:\n",
    "        print(\"     *  \")\n",
    "    elif x==2:\n",
    "        print(\"   * \")\n",
    "    elif x==3:\n",
    "        print(\" * \")\n",
    "    else:\n",
    "        print(\"* * * * \")\n",
    "    x=x+1"
   ]
  },
  {
   "cell_type": "code",
   "execution_count": null,
   "id": "cf838de3",
   "metadata": {},
   "outputs": [],
   "source": []
  }
 ],
 "metadata": {
  "kernelspec": {
   "display_name": "Python 3 (ipykernel)",
   "language": "python",
   "name": "python3"
  },
  "language_info": {
   "codemirror_mode": {
    "name": "ipython",
    "version": 3
   },
   "file_extension": ".py",
   "mimetype": "text/x-python",
   "name": "python",
   "nbconvert_exporter": "python",
   "pygments_lexer": "ipython3",
   "version": "3.9.13"
  }
 },
 "nbformat": 4,
 "nbformat_minor": 5
}
